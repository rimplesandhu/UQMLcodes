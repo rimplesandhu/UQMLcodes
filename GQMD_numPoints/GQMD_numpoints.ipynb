{
 "cells": [
  {
   "cell_type": "markdown",
   "metadata": {},
   "source": [
    "### Description: Computes number of points for multiple level/dimension of given quadrature type and sparsity \n",
    "#### Additional packages required: [UQTk](www.sandia.gov)"
   ]
  },
  {
   "cell_type": "markdown",
   "metadata": {},
   "source": [
    "###### Author: Rimple Sandhu, Carleton University; Email: rimple_sandhu@outlook.com"
   ]
  },
  {
   "cell_type": "code",
   "execution_count": 1,
   "metadata": {},
   "outputs": [],
   "source": [
    "#!/usr/bin/python\n",
    "from numpy import *\n",
    "import matplotlib.pyplot as plt\n",
    "import os\n",
    "import math\n",
    "import sys"
   ]
  },
  {
   "cell_type": "markdown",
   "metadata": {},
   "source": [
    "UQTk quadrature type options: 'LU', 'HG', 'CC', 'CCO', 'NC', 'NCO'"
   ]
  },
  {
   "cell_type": "code",
   "execution_count": 2,
   "metadata": {},
   "outputs": [],
   "source": [
    "Qdim = [2,3,4,5]\n",
    "Qtype='LU'\n",
    "Qlvl = [1,2,3,4,5]\n",
    "n=2"
   ]
  },
  {
   "cell_type": "markdown",
   "metadata": {},
   "source": [
    "Generate quadratrue points using UQtk (outputs into a file) and load/print the number of points"
   ]
  },
  {
   "cell_type": "code",
   "execution_count": 3,
   "metadata": {},
   "outputs": [
    {
     "name": "stdout",
     "output_type": "stream",
     "text": [
      "\n",
      " Dim= 2 : \n",
      " Full:   [ 4.  9. 16. 25. 36.]  \n",
      " Sparse: [  5.  17.  49. 129. 321.]\n",
      "\n",
      " Dim= 3 : \n",
      " Full:   [  8.  27.  64. 125. 216.]  \n",
      " Sparse: [   7.   31.  111.  351. 1023.]\n",
      "\n",
      " Dim= 4 : \n",
      " Full:   [  16.   81.  256.  625. 1296.]  \n",
      " Sparse: [   9.   49.  209.  769. 2561.]\n",
      "\n",
      " Dim= 5 : \n",
      " Full:   [  32.  243. 1024. 3125. 7776.]  \n",
      " Sparse: [  11.   71.  351. 1471. 5503.]\n"
     ]
    }
   ],
   "source": [
    "Npts = zeros((n,len(Qdim),len(Qlvl)))\n",
    "ii = 0\n",
    "for i in Qdim:\n",
    "    jj = 0\n",
    "    for j in Qlvl:\n",
    "        CMDfull = 'generate_quad -g '+Qtype+' -p '+str(j+1)+' -d '+str(i)+' -x full'\n",
    "        CMDsparse = 'generate_quad -g '+Qtype+' -p '+str(j)+' -d '+str(i)+' -x sparse'\n",
    "        os.system(CMDfull)\n",
    "        QFpt = loadtxt('qdpts.dat')\n",
    "        Npts[0,ii,jj] = len(QFpt)\n",
    "        os.system(CMDsparse)\n",
    "        QSpt = loadtxt('qdpts.dat')\n",
    "        Npts[1,ii,jj] = len(QSpt)\n",
    "        jj = jj+1\n",
    "    ii = ii +1\n",
    "for i in range(0,len(Qdim)):\n",
    "    print('\\n Dim=',str(Qdim[i]),': \\n Full:  ',Npts[0,i,:],' \\n Sparse:',Npts[1,i,:])"
   ]
  }
 ],
 "metadata": {
  "kernelspec": {
   "display_name": "Python 3",
   "language": "python",
   "name": "python3"
  },
  "language_info": {
   "codemirror_mode": {
    "name": "ipython",
    "version": 3
   },
   "file_extension": ".py",
   "mimetype": "text/x-python",
   "name": "python",
   "nbconvert_exporter": "python",
   "pygments_lexer": "ipython3",
   "version": "3.6.4"
  }
 },
 "nbformat": 4,
 "nbformat_minor": 2
}
