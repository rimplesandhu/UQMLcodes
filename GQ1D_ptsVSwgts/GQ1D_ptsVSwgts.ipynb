{
 "cells": [
  {
   "cell_type": "markdown",
   "metadata": {},
   "source": [
    "### Description: Plots quadrature location vs weights for a given type of 1D quadrature\n",
    "#### Author: Rimple Sandhu, Carleton University; Email: rimple_sandhu@outlook.com\n",
    "#### Additional packages required: [UQTk](www.sandia.gov)"
   ]
  },
  {
   "cell_type": "code",
   "execution_count": 2,
   "metadata": {},
   "outputs": [],
   "source": [
    "#!/usr/bin/python\n",
    "from numpy import *\n",
    "import matplotlib.pyplot as plt\n",
    "import os\n",
    "import math\n",
    "import sys"
   ]
  },
  {
   "cell_type": "markdown",
   "metadata": {},
   "source": [
    "UQTk quadrature setup options:\n",
    "- Qtype = 'LU', 'HG', 'CC', 'CCO', 'NC', 'NCO'\n",
    "- Qstype= 'full', 'sparse'"
   ]
  },
  {
   "cell_type": "code",
   "execution_count": 3,
   "metadata": {},
   "outputs": [],
   "source": [
    "Qdim = 1\n",
    "Qlevel = 20\n",
    "Qstype ='full'\n",
    "Qtype='LU' "
   ]
  },
  {
   "cell_type": "markdown",
   "metadata": {},
   "source": [
    "Generate quadratrue points using UQtk (outputs into a file) and load/print them  "
   ]
  },
  {
   "cell_type": "code",
   "execution_count": 4,
   "metadata": {},
   "outputs": [],
   "source": [
    "CMD = 'generate_quad -g '+Qtype+' -p '+str(Qlevel)+' -d '+str(Qdim)+' -x '+Qstype\n",
    "os.system(CMD)\n",
    "Qpts = loadtxt('qdpts.dat')\n",
    "Qwgt = loadtxt('wghts.dat')\n",
    "#print(Qpts,'\\n',Qwgt)"
   ]
  },
  {
   "cell_type": "markdown",
   "metadata": {},
   "source": [
    "Plot quadrature points vs weights"
   ]
  },
  {
   "cell_type": "code",
   "execution_count": 5,
   "metadata": {},
   "outputs": [
    {
     "data": {
      "text/plain": [
       "Text(0.5,0,'Quadrature points')"
      ]
     },
     "execution_count": 5,
     "metadata": {},
     "output_type": "execute_result"
    },
    {
     "data": {
      "image/png": "[encoded data removed]",
      "text/plain": [
       "<matplotlib.figure.Figure at 0x7fef0b68e048>"
      ]
     },
     "metadata": {},
     "output_type": "display_data"
    }
   ],
   "source": [
    "Msize = 5\n",
    "fig = plt.figure(1)\n",
    "lbl = Qtype + ', level= ' + str(Qlevel)\n",
    "plt.plot(Qpts,Qwgt,'bo',label=lbl,markersize=Msize)\n",
    "plt.grid(True)\n",
    "plt.legend(loc='upper right', numpoints = 1)\n",
    "plt.ylabel('Weights')\n",
    "plt.xlabel('Quadrature points')\n"
   ]
  },
  {
   "cell_type": "code",
   "execution_count": 6,
   "metadata": {},
   "outputs": [],
   "source": [
    "fig.savefig('GQ1D_ptsVSwgts.pdf',bbox_inches='tight')"
   ]
  },
  {
   "cell_type": "code",
   "execution_count": null,
   "metadata": {},
   "outputs": [],
   "source": []
  }
 ],
 "metadata": {
  "kernelspec": {
   "display_name": "Python 3",
   "language": "python",
   "name": "python3"
  },
  "language_info": {
   "codemirror_mode": {
    "name": "ipython",
    "version": 3
   },
   "file_extension": ".py",
   "mimetype": "text/x-python",
   "name": "python",
   "nbconvert_exporter": "python",
   "pygments_lexer": "ipython3",
   "version": "3.6.4"
  }
 },
 "nbformat": 4,
 "nbformat_minor": 2
}
