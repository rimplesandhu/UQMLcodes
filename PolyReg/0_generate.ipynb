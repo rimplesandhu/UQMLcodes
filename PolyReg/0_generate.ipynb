{
 "cells": [
  {
   "cell_type": "markdown",
   "metadata": {},
   "source": [
    "## Generate noisy observations"
   ]
  },
  {
   "cell_type": "markdown",
   "metadata": {},
   "source": [
    "###### Assumptions: polynomial basis functions, scalar output, scalar input.\n",
    "###### Author: Rimple Sandhu, Carleton University; Email: rimple_sandhu@outlook.com"
   ]
  },
  {
   "cell_type": "code",
   "execution_count": 1,
   "metadata": {},
   "outputs": [],
   "source": [
    "#!/usr/bin/python\n",
    "import numpy as np\n",
    "import matplotlib as mpl\n",
    "import matplotlib.pyplot as plt\n",
    "import os, math, sys\n",
    "np.random.seed(88)\n",
    "os.system('rm *.pdf *.eps *.png');"
   ]
  },
  {
   "cell_type": "markdown",
   "metadata": {},
   "source": [
    "#### Problem definition"
   ]
  },
  {
   "cell_type": "code",
   "execution_count": 2,
   "metadata": {},
   "outputs": [],
   "source": [
    "def fn(X):\n",
    "    return np.polyval([1,0,1],X)\n",
    "d = 1 # dimension of input X\n",
    "M = 50 # number of observations\n",
    "rho = 25 # precision of measurement noise\n",
    "Xmin = [0] # minimum bounds of input\n",
    "Xmax = [1]  # maximum limit of input X\n",
    "mpl.rcParams.update({'font.size':12})"
   ]
  },
  {
   "cell_type": "markdown",
   "metadata": {},
   "source": [
    "#### Generate noisy observations"
   ]
  },
  {
   "cell_type": "code",
   "execution_count": 3,
   "metadata": {},
   "outputs": [],
   "source": [
    "X = np.zeros((M,d))\n",
    "Y = np.zeros((M,1))\n",
    "for i in range(0,d):\n",
    "    X[:,i] = np.linspace(Xmin[i],Xmax[i],M)\n",
    "for j in range(0,M):\n",
    "    Y[j,0] = fn(X[j,:]) + np.random.randn()/np.sqrt(rho)\n",
    "np.savetxt('Ydata.dat',Y)\n",
    "np.savetxt('Xdata.dat',X)"
   ]
  },
  {
   "cell_type": "markdown",
   "metadata": {},
   "source": [
    "#### Plot noisy vs true observations"
   ]
  },
  {
   "cell_type": "code",
   "execution_count": 4,
   "metadata": {},
   "outputs": [
    {
     "data": {
      "image/png": "[encoded data removed]",
      "text/plain": [
       "<matplotlib.figure.Figure at 0x7f56a91de6d8>"
      ]
     },
     "metadata": {},
     "output_type": "display_data"
    }
   ],
   "source": [
    "Mtrue = 200;\n",
    "Xtrue = np.zeros((Mtrue,d))\n",
    "Ytrue = np.zeros((Mtrue,1))\n",
    "for i in range(0,d):\n",
    "    Xtrue[:,i] = np.linspace(Xmin[i],Xmax[i],Mtrue)\n",
    "for j in range(0,Mtrue):\n",
    "    Ytrue[j,0] = fn(Xtrue[j,:])\n",
    "fig = plt.figure(1)\n",
    "plt.plot(X,Y,'r*',label='Observations')\n",
    "plt.plot(Xtrue,Ytrue,'b-',label='Truth')\n",
    "plt.grid(True)\n",
    "plt.xlim([Xmin[0],Xmax[0]])\n",
    "plt.ylabel('Y')\n",
    "plt.xlabel('X')\n",
    "plt.legend(loc='best', numpoints = 1)\n",
    "plt.savefig('0_observations.eps',bbox_inches='tight')"
   ]
  },
  {
   "cell_type": "code",
   "execution_count": null,
   "metadata": {},
   "outputs": [],
   "source": []
  }
 ],
 "metadata": {
  "kernelspec": {
   "display_name": "Python 3",
   "language": "python",
   "name": "python3"
  },
  "language_info": {
   "codemirror_mode": {
    "name": "ipython",
    "version": 3
   },
   "file_extension": ".py",
   "mimetype": "text/x-python",
   "name": "python",
   "nbconvert_exporter": "python",
   "pygments_lexer": "ipython3",
   "version": "3.6.4"
  }
 },
 "nbformat": 4,
 "nbformat_minor": 2
}
