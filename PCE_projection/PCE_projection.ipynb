{
 "cells": [
  {
   "cell_type": "markdown",
   "metadata": {},
   "source": [
    "### Description: Computes PCE coeficients using projection approach (Gaussian Quadrature)\n",
    "#### Author: Rimple Sandhu, Carleton University; Email: rimple_sandhu@outlook.com\n",
    "#### Additional packages required: [UQTk](www.sandia.gov)"
   ]
  },
  {
   "cell_type": "code",
   "execution_count": 13,
   "metadata": {},
   "outputs": [],
   "source": [
    "#!/usr/bin/python\n",
    "from numpy import *\n",
    "import matplotlib.pyplot as plt\n",
    "import os\n",
    "import math\n",
    "import sys"
   ]
  },
  {
   "cell_type": "markdown",
   "metadata": {},
   "source": [
    "Defines the function that needs to be represented by PCE expansion:"
   ]
  },
  {
   "cell_type": "code",
   "execution_count": 14,
   "metadata": {},
   "outputs": [],
   "source": [
    "def f(x):\n",
    "    return polyval([5,3,-2,-1,2],x)"
   ]
  },
  {
   "cell_type": "markdown",
   "metadata": {},
   "source": [
    "PCE expansion set up:"
   ]
  },
  {
   "cell_type": "code",
   "execution_count": 15,
   "metadata": {},
   "outputs": [],
   "source": [
    "d = 1 # dimension\n",
    "p = 3 # order of pce \n",
    "PCtype = 'LU' # type of pce basis\n",
    "outLog = '  '"
   ]
  },
  {
   "cell_type": "markdown",
   "metadata": {},
   "source": [
    "Quadrature set-up (UQTk quadrature type options: 'LU', 'HG', 'CC', 'CCO', 'NC', 'NCO'):"
   ]
  },
  {
   "cell_type": "code",
   "execution_count": 16,
   "metadata": {},
   "outputs": [],
   "source": [
    "Qtype  ='LU' # type of quadrature\n",
    "Qstype = 'full'# sparse or tensor grid\n",
    "Qlvl   = 9 # level of quadrature"
   ]
  },
  {
   "cell_type": "markdown",
   "metadata": {},
   "source": [
    "Generate quadratrue points using UQtk (outputs into a file) and load them:"
   ]
  },
  {
   "cell_type": "code",
   "execution_count": 17,
   "metadata": {},
   "outputs": [],
   "source": [
    "CMD = 'generate_quad -g '+Qtype+' -p '+str(Qlvl)+' -d '+str(d)+' -x '+Qstype+ ' -v 0'\n",
    "os.system(CMD+outLog)\n",
    "Xpts = loadtxt('qdpts.dat')\n",
    "Xwts = loadtxt('wghts.dat')\n",
    "#print X.shape, W.shape\n",
    "Y = f(Xpts)\n",
    "savetxt('ydata.dat',Y)"
   ]
  },
  {
   "cell_type": "markdown",
   "metadata": {},
   "source": [
    "Computes PCE coefficients, read then from file, compute L2 norm, and print the results:"
   ]
  },
  {
   "cell_type": "code",
   "execution_count": 32,
   "metadata": {},
   "outputs": [],
   "source": [
    "CMD = 'pce_resp -e -x '+PCtype+' -d'+str(d)+' -o'+str(p)\n",
    "os.system(CMD+outLog);"
   ]
  },
  {
   "cell_type": "code",
   "execution_count": 33,
   "metadata": {},
   "outputs": [],
   "source": [
    "Ypc =loadtxt('ydata_pc.dat')\n",
    "PCcoeff = loadtxt('PCcoeff_quad.dat')\n",
    "PCmindex = loadtxt('mindex.dat')\n",
    "L2norm = linalg.norm(multiply(sqrt(Xwts),Y - Ypc),2)\n",
    "PCtermsNZ = sum(1 for i in PCcoeff if abs(i) > 1e-04)"
   ]
  },
  {
   "cell_type": "code",
   "execution_count": 34,
   "metadata": {},
   "outputs": [
    {
     "name": "stdout",
     "output_type": "stream",
     "text": [
      "PCE type   :  LU \n",
      "PCE Dim    :  1 \n",
      "PCE Order  :  3 \n",
      "# PCE terms:  4\n",
      "-------------------\n",
      "Quad type  :  LU \n",
      "Sparse grd?:  full \n",
      "Quad Level :  9 \n",
      "#  qpoints :  9\n",
      "-------------------\n",
      "Non-zero PCE coeffs: ( 4 / 4 )\n",
      "    0  :  0  :     2.333\n",
      "    1  :  1  :     0.800\n",
      "    2  :  2  :     1.524\n",
      "    3  :  3  :     1.200\n",
      "-------------------\n",
      "L2 Error   :  0.3809523809523844\n"
     ]
    }
   ],
   "source": [
    "print('PCE type   : ',PCtype,'\\nPCE Dim    : ',d,'\\nPCE Order  : ',p,'\\n# PCE terms: ',len(PCcoeff))\n",
    "print('-------------------')\n",
    "print('Quad type  : ',Qtype,'\\nSparse grd?: ',Qstype,'\\nQuad Level : ',Qlvl,'\\n#  qpoints : ',Xpts.shape[0])\n",
    "print('-------------------')\n",
    "print('Non-zero PCE coeffs: (',PCtermsNZ,'/', len(PCcoeff),')')\n",
    "for i,mi in enumerate(PCmindex):\n",
    "    if abs(PCcoeff[i]) > 1e-05:\n",
    "        print('{:5d}'.format(i),' : ', mi.astype(int),' : ', '{:8.3f}'.format(PCcoeff[i]))\n",
    "print('-------------------')\n",
    "print('L2 Error   : ', L2norm)"
   ]
  },
  {
   "cell_type": "markdown",
   "metadata": {},
   "source": [
    "Plot the true data vs PCE expansion for 1D cases:"
   ]
  },
  {
   "cell_type": "code",
   "execution_count": 27,
   "metadata": {},
   "outputs": [
    {
     "data": {
      "image/png": "[encoded data removed]",
      "text/plain": [
       "<matplotlib.figure.Figure at 0x7fedba8929e8>"
      ]
     },
     "metadata": {},
     "output_type": "display_data"
    }
   ],
   "source": [
    "if d==1:\n",
    "    Msize = 5\n",
    "    fig = plt.figure(1)\n",
    "    Xgrd = linspace(min(Xpts),max(Xpts),100)\n",
    "    savetxt('xdata.dat',Xgrd)\n",
    "    CMD = 'pce_eval -e -x PC -d'+str(d)+' -o'+str(p)+' -f PCcoeff_quad.dat -s'+str(PCtype)\n",
    "    os.system(CMD+outLog);\n",
    "    Ygrd = loadtxt('ydata.dat')\n",
    "    plt.plot(Xpts,Y,'ko',markersize=Msize)\n",
    "    plt.plot(Xgrd,f(Xgrd),'k-',label='True')\n",
    "    plt.plot(Xpts,Ypc,'r*',markersize=Msize)\n",
    "    plt.plot(Xgrd,Ygrd,'r-',label='PCE expansion')\n",
    "    plt.grid(True)\n",
    "    plt.legend(loc='best', numpoints = 1)\n",
    "    plt.ylabel('Y')\n",
    "    plt.xlabel('Quadrature points')\n",
    "    plt.savefig('PCE1D_proj.pdf',bbox_inches='tight')"
   ]
  },
  {
   "cell_type": "code",
   "execution_count": null,
   "metadata": {},
   "outputs": [],
   "source": []
  }
 ],
 "metadata": {
  "kernelspec": {
   "display_name": "Python 3",
   "language": "python",
   "name": "python3"
  },
  "language_info": {
   "codemirror_mode": {
    "name": "ipython",
    "version": 3
   },
   "file_extension": ".py",
   "mimetype": "text/x-python",
   "name": "python",
   "nbconvert_exporter": "python",
   "pygments_lexer": "ipython3",
   "version": "3.6.4"
  }
 },
 "nbformat": 4,
 "nbformat_minor": 2
}
