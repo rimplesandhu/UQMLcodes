{
 "cells": [
  {
   "cell_type": "markdown",
   "metadata": {},
   "source": [
    "##### Plot posterior pdf, lik function and prior for a given hyperparameter value"
   ]
  },
  {
   "cell_type": "code",
   "execution_count": 1,
   "metadata": {},
   "outputs": [],
   "source": [
    "#!/usr/bin/python\n",
    "import numpy as np\n",
    "import numpy.linalg as la\n",
    "import scipy.stats as st\n",
    "import scipy.optimize as sopt\n",
    "import matplotlib as mpl\n",
    "import matplotlib.pyplot as plt\n",
    "import os, math, sys\n",
    "np.random.seed(88)\n",
    "#os.system('rm *.pdf *.eps *.png');"
   ]
  },
  {
   "cell_type": "code",
   "execution_count": 2,
   "metadata": {},
   "outputs": [],
   "source": [
    "K = 1 # number of kernels\n",
    "polyPower = [0,1,2,3,4,5] # powers of polynomial\n",
    "Nphi = len(polyPower) # number of basis\n",
    "LogAlp0 = 5*np.array([1]*Nphi)\n",
    "rCoeff = 1e-05*np.ones((1,Nphi)) \n",
    "sCoeff = 1e-05*np.ones((1,Nphi))\n",
    "aCoeff  = np.ones((1,K)) \n",
    "muVec  = np.zeros((Nphi,K))\n",
    "SigMat = np.zeros((Nphi,Nphi,K))"
   ]
  },
  {
   "cell_type": "code",
   "execution_count": 3,
   "metadata": {},
   "outputs": [],
   "source": [
    "def basisFun(Xth,ith):\n",
    "    return Xth**polyPower[ith]\n",
    "rho0 = 100 # Starting error precision\n",
    "Yobs = np.loadtxt('Ydata.dat') \n",
    "Xobs = np.loadtxt('Xdata.dat')\n",
    "M = len(Yobs)\n",
    "Phi = np.zeros((M,Nphi))\n",
    "for i in range(0,M):\n",
    "    for j in range(0,Nphi):\n",
    "        Phi[i,j] = basisFun(Xobs[i],j)\n",
    "pTpinv = la.inv(Phi.T@Phi)\n",
    "mtmp = np.dot(Yobs,(np.eye(M) - Phi@pTpinv@Phi.T)@Yobs)\n",
    "aCoeff[0,0] = np.power(rho0/(2*np.pi),0.5*(M-Nphi))*np.sqrt(la.det(pTpinv))*np.exp(-0.5*rho0*mtmp)\n",
    "muVec[:,0] = pTpinv@Phi.T@Yobs\n",
    "SigMat[:,:,0] = pTpinv/rho0\n",
    "# wtry = np.asarray([1.0,0.2,1.0,-0.3,0.2,-0.1])\n",
    "# lika = np.log(st.multivariate_normal.pdf(Yobs,Phi@wtry,np.eye(M)/rho0))\n",
    "# likb = np.log(aCoeff[0,0]*st.multivariate_normal.pdf(wtry,muVec[:,0],SigMat[:,:,0]))\n",
    "# print(lika,likb)"
   ]
  },
  {
   "cell_type": "code",
   "execution_count": 4,
   "metadata": {},
   "outputs": [],
   "source": [
    "def NSBL(logalpIN):\n",
    "    alp = np.exp(logalpIN)\n",
    "    A = np.diag(alp)\n",
    "    Ainv = np.diag(1/alp)\n",
    "    Bmat = np.zeros((Nphi,Nphi,K))\n",
    "    Pmat = np.zeros((Nphi,Nphi,K))\n",
    "    mVec = np.zeros((Nphi,K))\n",
    "    wVec = np.zeros((1,K))\n",
    "    vVec = np.zeros((Nphi,K))\n",
    "    vbarVec = np.zeros((Nphi,1))\n",
    "    jVec = np.zeros((Nphi,1))\n",
    "    Hmat = np.zeros((Nphi,Nphi))\n",
    "    for k in range(0,K):\n",
    "        Bmat[:,:,k] = SigMat[:,:,k] + Ainv\n",
    "        Pmat[:,:,k] = Ainv - Ainv@la.inv(Bmat[:,:,k])@Ainv\n",
    "        mVec[:,k]   = Pmat[:,:,k]@la.inv(SigMat[:,:,k])@muVec[:,k]\n",
    "        wVec[0,k]   = aCoeff[0,k]*st.multivariate_normal.pdf(muVec[:,k],[0]*Nphi,Bmat[:,:,k])\n",
    "        for ii in range(0,Nphi):\n",
    "            vVec[ii,k] = 0.5*(1.0 - alp[ii]*(Pmat[ii,ii,k] + mVec[ii,k]**2))\n",
    "    evid = np.sum(wVec)\n",
    "    wVec = wVec/evid\n",
    "    objFun = np.log(evid) + np.dot(rCoeff[0,:],logalpIN) - np.dot(sCoeff[0,:],alp)\n",
    "    for ii in range(0,Nphi):\n",
    "        vbarVec[ii,0] = np.dot(wVec[0,:],vVec[ii,:])\n",
    "        jVec[ii,0]   = vbarVec[ii,0] + rCoeff[0,ii] - sCoeff[0,ii]*alp[ii]\n",
    "        for jj in range(0,ii):\n",
    "            Hmat[ii,jj] = Hmat[jj,ii]\n",
    "        for jj in range(ii,Nphi):\n",
    "            tmpij = 1.0 if ii==jj else 0.0\n",
    "            for k in range(0,K):\n",
    "                Hmat[ii,jj] = Hmat[ii,jj] + wVec[0,k]*(alp[ii]*alp[jj]*(0.5*Pmat[ii,jj,k]**2 \\\n",
    "                                    + mVec[ii,k]*mVec[jj,k]*Pmat[ii,jj,k]) \\\n",
    "                                    + vVec[jj,k]*(vVec[ii,k] - vbarVec[ii,0]))\n",
    "            Hmat[ii,jj] = Hmat[ii,jj] + tmpij*(vbarVec[ii,0] - sCoeff[0,ii]*alp[ii] - 0.5)\n",
    "    return np.log(evid), objFun, jVec[:,0], Hmat"
   ]
  },
  {
   "cell_type": "code",
   "execution_count": 5,
   "metadata": {},
   "outputs": [],
   "source": [
    "def myFun(xin):\n",
    "    _, Otmp, Jtmp, _ = NSBL(xin)\n",
    "    return -Otmp, -Jtmp\n",
    "def myFunb(xin):\n",
    "    _, Otmp, _, _ = NSBL(xin)\n",
    "    return -Otmp\n",
    "def myFunHess(xin):\n",
    "    _, _, _, Htmp = NSBL(xin)\n",
    "    return -Htmp"
   ]
  },
  {
   "cell_type": "code",
   "execution_count": 6,
   "metadata": {},
   "outputs": [
    {
     "name": "stdout",
     "output_type": "stream",
     "text": [
      " allvecs: [array([-10., -10., -10., -10., -10., -10.]), array([-9.49523684, -9.49558362, -9.52230434, -9.67506466, -9.72066001,\n",
      "       -9.53617479]), array([-8.49044962, -8.49213505, -8.61793216, -9.16853802, -9.29862174,\n",
      "       -8.67943143]), array([-6.20326264, -6.2152286 , -6.94763105, -8.45236513, -8.68807904,\n",
      "       -7.21655429]), array([-0.92460415, -1.11620239, -4.96206297, -7.03143113, -7.3482098 ,\n",
      "       -5.52975314]), array([0.55349108, 3.11348956, 3.01220181, 0.99692638, 0.22999338,\n",
      "       1.74756539]), array([0.55349108, 3.11348956, 3.01220181, 0.99692638, 0.22999338,\n",
      "       1.74756539]), array([ 0.49530938, -0.06851428,  5.06452822,  2.28505283,  0.2196001 ,\n",
      "        1.75427452]), array([0.26278575, 0.67716136, 5.07665515, 2.44094395, 0.73859223,\n",
      "       2.08363288]), array([0.10606604, 1.28538644, 5.29995836, 3.00871605, 1.53987853,\n",
      "       3.41051469]), array([0.10606604, 1.28538644, 5.29995836, 3.00871605, 1.53987853,\n",
      "       3.41051469])]\n",
      "     fun: -13.396020932658399\n",
      "    hess: array([[ 5.03810185e-01,  1.09872735e-02, -4.80756899e-04,\n",
      "        -3.29857664e-03, -4.59095019e-03,  5.32606275e-04],\n",
      "       [ 1.09872735e-02,  4.85522272e-01,  7.37935453e-03,\n",
      "         3.80121697e-02,  2.56630624e-02, -1.17406908e-02],\n",
      "       [-4.80756899e-04,  7.37935453e-03,  1.02426887e-03,\n",
      "         1.64019886e-03,  5.71059008e-03,  4.44942392e-04],\n",
      "       [-3.29857664e-03,  3.80121697e-02,  1.64019886e-03,\n",
      "        -4.63551761e-03,  7.65854755e-02,  9.70375273e-03],\n",
      "       [-4.59095019e-03,  2.56630624e-02,  5.71059008e-03,\n",
      "         7.65854755e-02,  2.80546833e-01,  5.22642654e-02],\n",
      "       [ 5.32606275e-04, -1.17406908e-02,  4.44942392e-04,\n",
      "         9.70375273e-03,  5.22642654e-02,  2.18494964e-02]])\n",
      "     jac: array([ 0.00624746,  0.06392358,  0.00314228,  0.02261116,  0.09504473,\n",
      "       -0.0146608 ])\n",
      " message: 'Maximum number of iterations has been exceeded.'\n",
      "    nfev: 11\n",
      "    nhev: 11\n",
      "     nit: 10\n",
      "    njev: 9\n",
      "  status: 1\n",
      " success: False\n",
      "       x: array([0.10606604, 1.28538644, 5.29995836, 3.00871605, 1.53987853,\n",
      "       3.41051469])\n",
      "1.1118953058800845\n",
      "3.616065070022085\n",
      "200.3284672341394\n",
      "20.261368586882234\n",
      "4.66402367732657\n",
      "30.280825372432624\n",
      "[-10. -10. -10. -10. -10. -10.] -8.700551788331644 -8.70115179105564\n",
      "log-evid 13.396020932658399\n"
     ]
    }
   ],
   "source": [
    "maxIter = 10\n",
    "ftol = 1e-6\n",
    "jtol = 1e-6\n",
    "LogAlp0 = -10*np.array([1]*Nphi)\n",
    "#res = sopt.minimize(myFun, LogAlp0, method='Newton-CG',jac=True, hess=myFunHess, \\\n",
    "#                    options={'maxiter':maxIter,'return_all': True,'xtol':ftol})\n",
    "#res = sopt.minimize(myFun, LogAlp0, method='trust-ncg',jac=True, hess=myFunHess, \\\n",
    "#                    options={'maxiter':maxIter,'return_all': True,'gtol':jtol})\n",
    "res = sopt.minimize(myFun, LogAlp0, method='trust-exact',jac=True, hess=myFunHess, \\\n",
    "                    options={'maxiter':maxIter,'return_all': True,'gtol':jtol})\n",
    "print(res)\n",
    "LogAlpIter = np.zeros((res.nit,Nphi))\n",
    "fevalIter = np.zeros((res.nit,2))\n",
    "for i in range(0,res.nit):\n",
    "    LogAlpIter[i,:] = res.allvecs[i]\n",
    "    fevalIter[i,0], fevalIter[i,1], _,_ = NSBL(LogAlpIter[i,:])\n",
    "for i in range(0,Nphi):\n",
    "    print(np.exp(res.x[i]))\n",
    "np.savetxt('SBLnl_feval.dat',fevalIter[:,1])\n",
    "print(LogAlpIter[0,:],fevalIter[0,0],fevalIter[0,1])\n",
    "print('log-evid',fevalIter[-1,1])"
   ]
  },
  {
   "cell_type": "code",
   "execution_count": 7,
   "metadata": {},
   "outputs": [
    {
     "data": {
      "image/png": "[encoded data removed]",
      "text/plain": [
       "<Figure size 432x288 with 1 Axes>"
      ]
     },
     "metadata": {},
     "output_type": "display_data"
    }
   ],
   "source": [
    "mpl.rcParams.update({'font.size':14})\n",
    "plt.figure(1)\n",
    "plt.plot(fevalIter[:,0],'k.')\n",
    "plt.plot(fevalIter[:,0],'k-',label='Log-evidence')\n",
    "plt.plot(fevalIter[:,1],'r.')\n",
    "plt.plot(fevalIter[:,1],'r-',label='Objective function')\n",
    "#plt.legend(loc='best', numpoints = 1)\n",
    "plt.legend(loc='lower right', numpoints = 1)\n",
    "plt.grid(True)\n",
    "plt.xlabel('Iteration')\n",
    "plt.savefig('figs/plot_feval.eps',bbox_inches='tight')"
   ]
  },
  {
   "cell_type": "code",
   "execution_count": null,
   "metadata": {},
   "outputs": [],
   "source": []
  }
 ],
 "metadata": {
  "kernelspec": {
   "display_name": "Python 3",
   "language": "python",
   "name": "python3"
  },
  "language_info": {
   "codemirror_mode": {
    "name": "ipython",
    "version": 3
   },
   "file_extension": ".py",
   "mimetype": "text/x-python",
   "name": "python",
   "nbconvert_exporter": "python",
   "pygments_lexer": "ipython3",
   "version": "3.6.4"
  }
 },
 "nbformat": 4,
 "nbformat_minor": 2
}
