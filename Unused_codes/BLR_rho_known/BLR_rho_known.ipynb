{
 "cells": [
  {
   "cell_type": "markdown",
   "metadata": {},
   "source": [
    "### Description: Bayesian linear regression using conjugate priors\n",
    "#### Assumptions: scalar input, scalar output, polynomial basis, known error precision\n"
   ]
  },
  {
   "cell_type": "markdown",
   "metadata": {},
   "source": [
    "###### Author: Rimple Sandhu, Carleton University; Email: rimple_sandhu@outlook.com"
   ]
  },
  {
   "cell_type": "markdown",
   "metadata": {},
   "source": [
    "Bayesian linear regression is a probabilistic framework to estimate the parameters of a linear-in-parameter models using Bayesian inference. When using conjugate prior distribution for the model parameters, Bayesian linear regression provides analytical solution to the posterior parameter pdf, model evidence, and posterior predictive distribution. In matrix notation\n",
    "\\begin{align*}\n",
    "\\text{Observations:  } \\;\\; & Y \\in \\mathbb{R}^{M \\times 1}  = \\{y_1,y_2,\\ldots,y_{M}\\}^T \\\\\n",
    "\\text{Model input: } \\;\\; & X \\in \\mathbb{R}^{d \\times 1}  = \\{x_1,x_2,\\ldots,x_{d}\\}^T \\\\\n",
    "\\text{Model parameter: } \\;\\; & W \\in \\mathbb{R}^{N \\times 1}  = \\{w_0,w_1,\\ldots,w_{N-1}\\}^T \\\\\n",
    "\\text{Measurement error: } \\;\\; & \\epsilon \\in \\mathbb{R}^{M \\times 1}  = \\{\\varepsilon_0,\\varepsilon_1,\\ldots,\\varepsilon_{M}\\}^T \\\\\n",
    "\\text{Design matrix:  } \\;\\; & \\Phi \\in \\mathbb{R}^{M \\times N} = \\{\\phi_j(X_i); i =1,\\ldots,M; j = 0,\\ldots,N-1\\}\n",
    "\\end{align*}\n",
    "Assuming conjugate priors, Bayesian inference provides following analytical solution to the inverse problem:\n",
    "\\begin{align*}\n",
    "\\text{Model: } \\;\\;& Y = \\Phi W + \\epsilon \\\\\n",
    "\\text{Measurement noise: }\\;\\;& p(\\epsilon) = \\mathcal{N}(0, \\Gamma)\\\\\n",
    "\\text{Prior pdf: }\\;\\;& p(W) = \\mathcal{N}(W|m_0, P_0)\\\\\n",
    "\\text{Likelihood function: }\\;\\;& p(Y|W,\\rho) = \\mathcal{N}(Y|\\Phi W, \\Gamma) \\\\\n",
    "\\text{Posterior parameter pdf: }\\;\\; & p(W|Y,\\rho) = \\mathcal{N}(W|m,P)\\\\\n",
    "& m = \\frac{P_0^{-1}}{P^{-1}}m_0 + \\frac{\\Phi^T \\Gamma^{-1}\\Phi}{P^{-1}} (\\Phi^T\\Phi)^{-1}\\Phi^T Y \\\\\n",
    "& P^{-1} = P_0^{-1} + \\Phi^T \\Gamma^{-1}\\Phi \\\\\n",
    "\\text{Evidence: }\\;\\; & p(Y|\\rho) = \\mathcal{N}(Y|\\Phi m_0, \\Phi P_0\\Phi^T +\\Gamma)\\\\\n",
    "\\text{Predictive distribution: }\\;\\; & p(Y^*|Y) = \\mathcal{N}(Y^*| \\Phi^* m, \\Phi^* P (\\Phi^*)^T + \\Gamma)\\\\\n",
    "\\end{align*}\n"
   ]
  },
  {
   "cell_type": "code",
   "execution_count": 1,
   "metadata": {},
   "outputs": [],
   "source": [
    "#!/usr/bin/python\n",
    "import numpy as np\n",
    "import scipy.stats as st\n",
    "import matplotlib.pyplot as plt\n",
    "import os\n",
    "import math\n",
    "import sys"
   ]
  },
  {
   "cell_type": "markdown",
   "metadata": {},
   "source": [
    "Assign polynomial basis (polyPower), hyper-parameters m_0, P_0, and noise precision $\\rho$:"
   ]
  },
  {
   "cell_type": "code",
   "execution_count": 2,
   "metadata": {},
   "outputs": [],
   "source": [
    "polyPower = [0,2] # powers of polynomial basis\n",
    "M0prior = 1 # virtual sample size for prior assigning\n",
    "rho = 20 # error precision"
   ]
  },
  {
   "cell_type": "code",
   "execution_count": 3,
   "metadata": {},
   "outputs": [],
   "source": [
    "N = len(polyPower) # number of coefficients \n",
    "m0 = [0]*N # prior mean\n",
    "P0 = np.identity(N)/(M0prior*rho) # prior covariance matrix"
   ]
  },
  {
   "cell_type": "markdown",
   "metadata": {},
   "source": [
    "Generate design matrix $\\Phi$, and load observations $Y$ and input $X$: "
   ]
  },
  {
   "cell_type": "code",
   "execution_count": 4,
   "metadata": {},
   "outputs": [],
   "source": [
    "def PhiMat(X):\n",
    "    M = len(X)\n",
    "    Phi = np.zeros((M,N))\n",
    "    for i in range(0,M):\n",
    "        for j in range(0,N):\n",
    "            Phi[i,j] = X[i]**polyPower[j]\n",
    "    return Phi\n",
    "Yobs = np.loadtxt('Ydata.dat') \n",
    "Xobs = np.loadtxt('Xdata.dat')\n",
    "Phi = PhiMat(Xobs)\n",
    "M = len(Yobs)\n",
    "GamMat = np.identity(M)/rho # noise covriance matrix"
   ]
  },
  {
   "cell_type": "markdown",
   "metadata": {},
   "source": [
    "Bayesian update using observations to obtain posterior pdf and model evidence:"
   ]
  },
  {
   "cell_type": "code",
   "execution_count": 5,
   "metadata": {},
   "outputs": [
    {
     "name": "stdout",
     "output_type": "stream",
     "text": [
      "  W(Prior):  [0, 0] \n",
      "   W (WLS):  [0.9727671  1.00343153] \n",
      "   W (MAP):  [0.9488703  1.00708381] \n",
      "\n",
      "Var(Prior):  [0.05 0.05] \n",
      "  Var(WLS):  [0.00222259 0.00067389] \n",
      " Var(Post):  [0.00211309 0.00064956]\n",
      "\n",
      "  Log-evid:  -15.594531272058866\n"
     ]
    }
   ],
   "source": [
    "WwlsPrec = np.matmul(np.matmul(np.transpose(Phi),np.linalg.inv(GamMat)),Phi)\n",
    "Wwls = np.matmul(np.matmul(np.matmul(np.linalg.inv(WwlsPrec),np.transpose(Phi)),np.linalg.inv(GamMat)),Yobs)\n",
    "P = np.linalg.inv(np.linalg.inv(P0) + WwlsPrec)\n",
    "m = np.matmul(P,np.matmul(np.linalg.inv(P0),m0) + np.matmul(WwlsPrec,Wwls))\n",
    "evid = st.multivariate_normal.pdf(Yobs,np.matmul(Phi,m0),np.matmul(Phi,np.matmul(P0,np.transpose(Phi))) + GamMat)\n",
    "print('  W(Prior): ',m0,'\\n   W (WLS): ',Wwls,'\\n   W (MAP): ',m,'\\n')\n",
    "print('Var(Prior): ',np.diag(P0),'\\n  Var(WLS): ',np.diag(np.linalg.inv(WwlsPrec)),'\\n Var(Post): ',np.diag(P))\n",
    "print('\\n  Log-evid: ',np.log(evid))"
   ]
  },
  {
   "cell_type": "markdown",
   "metadata": {},
   "source": [
    "Prior vs Posterior plotting:"
   ]
  },
  {
   "cell_type": "code",
   "execution_count": 6,
   "metadata": {},
   "outputs": [
    {
     "data": {
      "image/png": "[encoded data removed]",
      "text/plain": [
       "<matplotlib.figure.Figure at 0x7f5f967215f8>"
      ]
     },
     "metadata": {},
     "output_type": "display_data"
    },
    {
     "data": {
      "image/png": "[encoded data removed]",
      "text/plain": [
       "<matplotlib.figure.Figure at 0x7f5f8c213be0>"
      ]
     },
     "metadata": {},
     "output_type": "display_data"
    }
   ],
   "source": [
    "for i in range(0,N):\n",
    "    pscale = 5\n",
    "    Wpriormin = m0[i]-pscale*np.sqrt(P0[i,i])\n",
    "    Wpriormax = m0[i]+pscale*np.sqrt(P0[i,i])\n",
    "    Wpostmin = m[i]-pscale*np.sqrt(P[i,i])\n",
    "    Wpostmax = m[i]+pscale*np.sqrt(P[i,i])\n",
    "    Wgrid = np.linspace(min(Wpriormin,Wpostmin),max(Wpostmax,Wpriormax),1000)\n",
    "    WpriorN = st.multivariate_normal.pdf(Wgrid,m0[i],(P0[i,i]))\n",
    "    WpostN = st.multivariate_normal.pdf(Wgrid,m[i],(P[i,i]))\n",
    "    fig = plt.figure(i+1)\n",
    "    plt.plot(Wgrid,WpriorN,'r-',label='Prior')\n",
    "    plt.plot(Wgrid,WpostN,'b-',label='Posterior')\n",
    "    plt.grid(True)\n",
    "    plt.xlabel(r'$a_'+str(i)+'$')\n",
    "    plt.ylabel('pdf')\n",
    "    plt.legend(loc='best', numpoints = 1)\n",
    "    plt.savefig('BLR_PDF_W'+str(i)+'.pdf',bbox_inches='tight')"
   ]
  },
  {
   "cell_type": "markdown",
   "metadata": {},
   "source": [
    "Posterior predictive distribution:"
   ]
  },
  {
   "cell_type": "code",
   "execution_count": 7,
   "metadata": {},
   "outputs": [],
   "source": [
    "Mnew = 100\n",
    "Xextra = 2\n",
    "Xnew = np.linspace(min(Xobs)-Xextra,max(Xobs)+Xextra,Mnew)\n",
    "PhiNew = PhiMat(Xnew)\n",
    "PredVar = np.matmul(PhiNew,np.matmul(P,np.transpose(PhiNew))) + np.identity(Mnew)/rho\n",
    "PredMean = np.matmul(PhiNew,m)"
   ]
  },
  {
   "cell_type": "code",
   "execution_count": 8,
   "metadata": {},
   "outputs": [
    {
     "data": {
      "image/png": "[encoded data removed]",
      "text/plain": [
       "<matplotlib.figure.Figure at 0x7f5f8c0cd400>"
      ]
     },
     "metadata": {},
     "output_type": "display_data"
    }
   ],
   "source": [
    "fig = plt.figure(N+1)\n",
    "plt.plot(Xobs,Yobs,'r*',label='Observations')\n",
    "plt.plot(Xnew,PredMean,'b-',label='using MAP')\n",
    "plt.plot(Xnew,PredMean+2*np.sqrt(np.diag(PredVar)),'b--',label='95% bound')\n",
    "plt.plot(Xnew,PredMean-2*np.sqrt(np.diag(PredVar)),'b--')\n",
    "plt.grid(True)\n",
    "plt.ylim([min(Yobs)-3*abs(max(Yobs)-min(Yobs)),max(Yobs)+3*abs(max(Yobs)-min(Yobs))])\n",
    "plt.ylabel(r'$Y^*$')\n",
    "plt.xlabel('X')\n",
    "plt.legend(loc='best', numpoints = 1)\n",
    "plt.savefig('BLR_predictions.pdf',bbox_inches='tight')\n"
   ]
  },
  {
   "cell_type": "code",
   "execution_count": null,
   "metadata": {},
   "outputs": [],
   "source": []
  }
 ],
 "metadata": {
  "kernelspec": {
   "display_name": "Python 3",
   "language": "python",
   "name": "python3"
  },
  "language_info": {
   "codemirror_mode": {
    "name": "ipython",
    "version": 3
   },
   "file_extension": ".py",
   "mimetype": "text/x-python",
   "name": "python",
   "nbconvert_exporter": "python",
   "pygments_lexer": "ipython3",
   "version": "3.6.4"
  }
 },
 "nbformat": 4,
 "nbformat_minor": 2
}
