{
 "cells": [
  {
   "cell_type": "markdown",
   "metadata": {},
   "source": [
    "## Bayesian linear regression (known error precision)"
   ]
  },
  {
   "cell_type": "markdown",
   "metadata": {},
   "source": [
    "###### Assumptions: polynomial basis functions, scalar output, scalar input, error precision known\n",
    "###### Author: Rimple Sandhu, Carleton University; Email: rimple_sandhu@outlook.com"
   ]
  },
  {
   "cell_type": "code",
   "execution_count": 1,
   "metadata": {},
   "outputs": [],
   "source": [
    "#!/usr/bin/python\n",
    "import numpy as np\n",
    "import numpy.linalg as la\n",
    "import scipy.stats as st\n",
    "import matplotlib.pyplot as plt\n",
    "import matplotlib as mpl\n",
    "import os, math, sys"
   ]
  },
  {
   "cell_type": "markdown",
   "metadata": {},
   "source": [
    "#### Model definition (basis functions)"
   ]
  },
  {
   "cell_type": "code",
   "execution_count": 2,
   "metadata": {},
   "outputs": [],
   "source": [
    "polyPower = [0,1,2,3,4,5] # powers of polynomial basis\n",
    "N = len(polyPower) # number of basis\n",
    "def basisFun(Xth,ith):\n",
    "    return Xth**polyPower[ith]"
   ]
  },
  {
   "cell_type": "markdown",
   "metadata": {},
   "source": [
    "#### Known parameters"
   ]
  },
  {
   "cell_type": "code",
   "execution_count": 3,
   "metadata": {},
   "outputs": [],
   "source": [
    "m0 = np.ones(N)*0 # prior mean\n",
    "RHO = 25 # initial error precision\n",
    "alpha = [1e-02]*N # hyper-parameter value for others (for N>2)\n",
    "#pl.rcParams.update({'font.size':14})"
   ]
  },
  {
   "cell_type": "code",
   "execution_count": 4,
   "metadata": {},
   "outputs": [],
   "source": [
    "Niter = 50\n",
    "i1 = 0\n",
    "i2 = 1\n",
    "Pi1 = np.linspace(-4,6,Niter)\n",
    "Pi2 = np.linspace(-4,6,Niter)\n",
    "Pmsh = np.zeros((N*N,2))\n",
    "P1,P2 = np.meshgrid(Pi1,Pi2)"
   ]
  },
  {
   "cell_type": "markdown",
   "metadata": {},
   "source": [
    "#### Generate design matrix "
   ]
  },
  {
   "cell_type": "code",
   "execution_count": 5,
   "metadata": {},
   "outputs": [],
   "source": [
    "Yobs = np.loadtxt('Ydata.dat') \n",
    "Xobs = np.loadtxt('Xdata.dat')\n",
    "M = len(Yobs)\n",
    "Phi = np.zeros((M,N))\n",
    "for i in range(0,M):\n",
    "    for j in range(0,N):\n",
    "        Phi[i,j] = basisFun(Xobs[i],j)"
   ]
  },
  {
   "cell_type": "markdown",
   "metadata": {},
   "source": [
    "#### Bayesian linear regression update"
   ]
  },
  {
   "cell_type": "code",
   "execution_count": 6,
   "metadata": {},
   "outputs": [],
   "source": [
    "logEvid = np.zeros((Niter,Niter))\n",
    "gof = np.zeros((Niter,Niter))\n",
    "for i in range(0,Niter):\n",
    "    for j in range(Niter):\n",
    "        #alpha[2] = 1e+02\n",
    "        alpha[i1] = np.power(10.0,P1[i,j])\n",
    "        alpha[i2] = np.power(10.0,P2[i,j])\n",
    "        GAMinv = np.identity(M)*RHO\n",
    "        P0inv = np.diag(alpha)\n",
    "        P0 = la.inv(P0inv)\n",
    "        PMLEinv = np.matmul(np.matmul(np.transpose(Phi),GAMinv),Phi)\n",
    "        Wmle = np.matmul(np.matmul(np.matmul(la.inv(PMLEinv),np.transpose(Phi)),GAMinv),Yobs)\n",
    "        Pinv = P0inv + PMLEinv\n",
    "        P = la.inv(Pinv) \n",
    "        m = np.matmul(P,np.matmul(P0inv,m0) + np.matmul(PMLEinv,Wmle))\n",
    "        B = np.matmul(Phi,np.matmul(P0,np.transpose(Phi))) + la.inv(GAMinv)\n",
    "        logEvid[i,j] = np.log(st.multivariate_normal.pdf(Yobs,np.matmul(Phi,m0),B))\n",
    "        gof[i,j] = st.multivariate_normal.pdf(Yobs,np.matmul(Phi,m),np.identity(M)/RHO)\n",
    "        u1,s1,v1 = la.svd(PMLEinv)\n",
    "        u2,s2,v2 = la.svd(Pinv)\n",
    "        resNormMLE = la.norm(Yobs-np.matmul(Phi,Wmle))\n",
    "        resNormMAP = la.norm(Yobs-np.matmul(Phi,m))"
   ]
  },
  {
   "cell_type": "code",
   "execution_count": 7,
   "metadata": {},
   "outputs": [
    {
     "data": {
      "image/png": "[encoded data removed]",
      "text/plain": [
       "<matplotlib.figure.Figure at 0x7fc605bee748>"
      ]
     },
     "metadata": {},
     "output_type": "display_data"
    }
   ],
   "source": [
    "fig=plt.figure(3)\n",
    "#plt.pcolor(P1,P2,reshape(Yord,(N,N)),cmap='RdBu',vmin=0.28,vmax=0.38)\n",
    "#plt.pcolor(P1,P2,logEvid,cmap='PuBu_r')\n",
    "plt.pcolor(P1,P2,np.exp(logEvid),cmap='PuBu_r')\n",
    "plt.colorbar()\n",
    "plt.grid('on',linestyle='--')\n",
    "plt.xlabel(r'$\\alpha_{'+str(i1)+'}$')\n",
    "plt.ylabel(r'$\\alpha_{'+str(i2)+'}$')\n",
    "plt.title('Evidence')\n",
    "plt.savefig('1_alphaVSevid.jpg',bbox_inches='tight')"
   ]
  },
  {
   "cell_type": "code",
   "execution_count": null,
   "metadata": {},
   "outputs": [],
   "source": []
  }
 ],
 "metadata": {
  "kernelspec": {
   "display_name": "Python 3",
   "language": "python",
   "name": "python3"
  },
  "language_info": {
   "codemirror_mode": {
    "name": "ipython",
    "version": 3
   },
   "file_extension": ".py",
   "mimetype": "text/x-python",
   "name": "python",
   "nbconvert_exporter": "python",
   "pygments_lexer": "ipython3",
   "version": "3.6.4"
  }
 },
 "nbformat": 4,
 "nbformat_minor": 2
}
