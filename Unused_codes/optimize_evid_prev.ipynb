{
 "cells": [
  {
   "cell_type": "code",
   "execution_count": 2,
   "metadata": {},
   "outputs": [],
   "source": [
    "#!/usr/bin/python\n",
    "import numpy as np\n",
    "import numpy.linalg as la\n",
    "import scipy.stats as st\n",
    "import scipy.optimize as sopt\n",
    "import matplotlib as mpl\n",
    "import matplotlib.pyplot as plt\n",
    "import os, math, sys\n",
    "np.random.seed(88)\n",
    "os.system('rm *.pdf *.eps *.png');"
   ]
  },
  {
   "cell_type": "markdown",
   "metadata": {},
   "source": [
    "#### Problem definition"
   ]
  },
  {
   "cell_type": "code",
   "execution_count": 56,
   "metadata": {},
   "outputs": [
    {
     "name": "stdout",
     "output_type": "stream",
     "text": [
      "(1, 2) (2, 2) (2, 2, 2)\n"
     ]
    }
   ],
   "source": [
    "K = 2\n",
    "Nphi = 2\n",
    "acoeff  = np.ones((1,K))\n",
    "mu  = np.zeros((Nphi,K))\n",
    "Sig = np.zeros((Nphi,Nphi,K))\n",
    "mu[0,0] = 1.0\n",
    "mu[1,1] = 1.0\n",
    "rho = -0.75\n",
    "var = 0.02\n",
    "fac = 0.5\n",
    "Sig[:,:,0] = [[var,var*rho],[var*rho,var]]\n",
    "Sig[:,:,1] = [[fac*var,fac*var*rho],[fac*var*rho,fac*var]]\n",
    "r = 1e-03\n",
    "s = 1e-03\n",
    "print(acoeff.shape,mu.shape,Sig.shape)"
   ]
  },
  {
   "cell_type": "code",
   "execution_count": 57,
   "metadata": {},
   "outputs": [
    {
     "name": "stdout",
     "output_type": "stream",
     "text": [
      "(1, 2)\n",
      "[0. 1.]\n"
     ]
    }
   ],
   "source": [
    "Bmat = np.zeros((Nphi,Nphi,K))\n",
    "Pmat = np.zeros((Nphi,Nphi,K))\n",
    "mVec = np.zeros((Nphi,K))\n",
    "Wraw = np.zeros((1,K))\n",
    "Vmat = np.zeros((Nphi,K))\n",
    "jVec = np.zeros((Nphi,1))\n",
    "Hmat = np.zeros((Nphi,Nphi))\n",
    "print(Wraw.shape)\n",
    "print(mu[1,:])"
   ]
  },
  {
   "cell_type": "code",
   "execution_count": 73,
   "metadata": {},
   "outputs": [],
   "source": [
    "logalp = np.array([-2,-3])\n",
    "alp = np.exp(logalp)\n",
    "A = np.diag(alp)\n",
    "Ain = np.diag(1/alp)\n",
    "for i in range(0,K):\n",
    "    Bmat[:,:,i] = Sig[:,:,i] + Ain\n",
    "    Wraw[0,i] = acoeff[0,i]*st.multivariate_normal.pdf(mu[:,i],[0]*Nphi,Bmat[:,:,i])\n",
    "    Pmat[:,:,i] = Ain - Ain@la.inv(Bmat[:,:,i])@Ain\n",
    "    mVec[:,i] = Pmat[i,:,:]@la.inv(Sig[:,:,i])@mu[:,i]\n",
    "    for j in range(0,Nphi):\n",
    "        Vmat[j,i] = (1 - alp[j]*Pmat[j,j,i] + alp[j]*(mVec[j,i]**2))/(2.0*alp[j])\n",
    "Lobj = np.log(np.sum(Wraw)) + np.sum(r*logalp-s*alp)\n",
    "Wwght = Wraw/np.sum(Wraw)\n",
    "for i in range(0,Nphi):\n",
    "    jVec[i] = alp[i]*np.dot(Wwght,Vmat[i,:]) + r - s*alp[i]"
   ]
  },
  {
   "cell_type": "code",
   "execution_count": 3,
   "metadata": {},
   "outputs": [],
   "source": [
    "def poststat(X,logalp):\n",
    "    alp = np.exp(logalp)\n",
    "    A = np.diag(alp)\n",
    "    Pmat1 = la.inv(la.inv(cov1) + A)\n",
    "    Pmat2 = la.inv(la.inv(cov2) + A)\n",
    "    m1 = np.matmul(Pmat1,np.matmul(la.inv(cov1),mu1))\n",
    "    m2 = np.matmul(Pmat2,np.matmul(la.inv(cov2),mu2))\n",
    "    Bmat1 = la.inv(A) + cov1\n",
    "    Bmat2 = la.inv(A) + cov2\n",
    "    evid1 = st.multivariate_normal.pdf(mu1,[0,0],Bmat1) \n",
    "    evid2 = st.multivariate_normal.pdf(mu2,[0,0],Bmat2)\n",
    "    evid = evid1+evid2\n",
    "    w1 = evid1/evid\n",
    "    w2 = evid2/evid\n",
    "    postpdf = w1*st.multivariate_normal.pdf(X,m1,Pmat1) + w2*st.multivariate_normal.pdf(X,m2,Pmat2)\n",
    "    priorpdf = st.multivariate_normal.pdf(X,[0,0],la.inv(A))\n",
    "    likfun = st.multivariate_normal.pdf(X,mu1,cov1)+ st.multivariate_normal.pdf(X,mu2,cov2)\n",
    "    v1 = [0.5*(1/alp[0] - Pmat1[0,0] + m1[0]**2),0.5*(1/alp[1] - Pmat1[1,1] + m1[1]**2)]\n",
    "    v2 = [0.5*(1/alp[0] - Pmat2[0,0] + m2[0]**2),0.5*(1/alp[1] - Pmat2[1,1] + m2[1]**2)]\n",
    "    jvec = [alp[0]*(w1*v1[0]+w2*v2[0]),alp[1]*(w1*v1[1]+w2*v2[1])]\n",
    "    Hmat=np.zeros((2,2))\n",
    "    Hmat[0,0] = alp[0]*alp[0]*(w1*(v1[0]*v1[0] + 0.5*Pmat1[0,0]**2) + w2*(v2[0]*v2[0] + 0.5*Pmat2[0,0]**2) - jvec[0]*jvec[0])\n",
    "    Hmat[1,1] = alp[1]*alp[1]*(w1*(v1[1]*v1[1] + 0.5*Pmat1[1,1]**2) + w2*(v2[1]*v2[1] + 0.5*Pmat2[1,1]**2) - jvec[1]*jvec[1])\n",
    "    Hmat[0,1] = alp[0]*alp[1]*(w1*(v1[0]*v1[1] + 0.5*Pmat1[0,1]**2) + w2*(v2[0]*v2[1] + 0.5*Pmat2[0,1]**2) - jvec[0]*jvec[1])\n",
    "    Hmat[1,0] = Hmat[0,1]\n",
    "    return likfun, priorpdf, postpdf, evid, jvec, Hmat"
   ]
  },
  {
   "cell_type": "code",
   "execution_count": 88,
   "metadata": {},
   "outputs": [],
   "source": [
    "mpl.rcParams.update({'font.size':12})\n",
    "Ngrd  = 100\n",
    "evidplot   = np.zeros((Ngrd,Ngrd))\n",
    "alp1bnd = [-5,10]\n",
    "alp2bnd = [-5,10]\n",
    "alp1g = np.linspace(alp1bnd[0],alp1bnd[1],Ngrd)\n",
    "alp2g = np.linspace(alp2bnd[0],alp2bnd[1],Ngrd)\n",
    "alp1grd,alp2grd = np.meshgrid(alp1g,alp2g)\n",
    "for i in range(0,Ngrd):\n",
    "    for j in range(0, Ngrd):\n",
    "        alpCur = [alp1grd[i,j],alp2grd[i,j]]\n",
    "        lk,prt,pst,evidplot[i,j],Jevd,Hevd = poststat([0,0],alpCur)"
   ]
  },
  {
   "cell_type": "code",
   "execution_count": 96,
   "metadata": {},
   "outputs": [
    {
     "name": "stdout",
     "output_type": "stream",
     "text": [
      "[-0.58136393 -0.5130097 ]\n",
      "       allvecs: [array([-1., -3.]), array([-1.075, -2.7  ]), array([-1.0125, -2.55  ]), array([-1.13125, -1.875  ]), array([-1.065625, -1.2375  ]), array([-1.2703125,  0.43125  ]), array([-1.24140625,  2.540625  ]), array([-1.63632812,  6.9328125 ]), array([-1.60742187,  9.0421875 ]), array([-1.60742187,  9.0421875 ]), array([-1.60742187,  9.0421875 ]), array([-1.60742187,  9.0421875 ]), array([-1.50927734, 12.05273438]), array([-1.29887695,  8.72519531]), array([-0.9973877 , 13.08251953])]\n",
      " final_simplex: (array([[-0.9973877 , 13.08251953],\n",
      "       [-1.29887695,  8.72519531],\n",
      "       [-1.50927734, 12.05273438]]), array([0.21901994, 0.329649  , 0.40113366]))\n",
      "           fun: 0.21901994024997806\n",
      "       message: 'Maximum number of iterations has been exceeded.'\n",
      "          nfev: 30\n",
      "           nit: 15\n",
      "        status: 2\n",
      "       success: False\n",
      "             x: array([-0.9973877 , 13.08251953])\n"
     ]
    }
   ],
   "source": [
    "Niter = 15\n",
    "logAlpIter = np.zeros((Niter,2))\n",
    "def objFun(x):\n",
    "    lk, pr, ps, ev, J, H = poststat([1,1],x) \n",
    "    return -np.log(ev)\n",
    "def jacn(x):\n",
    "    lk, pr, ps, ev, J, H = poststat([0,0],x) \n",
    "    return -np.array(J)\n",
    "def hessn(x):\n",
    "    lk, pr, ps, ev, J, H = poststat([0,0],x) \n",
    "    return -np.array(H)\n",
    "X0 = np.array([-1,-3])\n",
    "print(jacn(X0))\n",
    "res = sopt.minimize(objFun, X0, method='Nelder-Mead',options={'maxiter':Niter,'return_all': True})\n",
    "#res = sopt.minimize(objFun, X0, method='CG',jac = False, options={'maxiter':Niter,'return_all': True})\n",
    "#res = sopt.minimize(objFun, X0, method='Newton-CG',jac = jacn, hess=hessn, options={'maxiter':Niter,'return_all': True})\n",
    "print(res)\n",
    "for i in range(0,res.nit):\n",
    "    logAlpIter[i,:] = res.allvecs[i]\n",
    "#print(logAlpIter)"
   ]
  },
  {
   "cell_type": "code",
   "execution_count": 97,
   "metadata": {},
   "outputs": [],
   "source": [
    "# Niter = 50\n",
    "# alpIter = np.zeros((Niter,2))\n",
    "# alpCur = [0,2]\n",
    "# alpNew = [0,0]\n",
    "# gamma = 0.1\n",
    "# likfunc[i,j],priordist[i,j],postdist[i,j],evd,Jevd,Hevd = poststat(Xcur,np.exp(alpCur))\n",
    "# print(Jevd,\"\\n\",Hevd)\n",
    "# for i in range(0,Niter):\n",
    "#     alpIter[i,:] = alpCur\n",
    "#     print(i,alpCur)\n",
    "#     lk,pr,ps,evd,Jevd,Hevd = poststat(Xcur,np.exp(alpCur))\n",
    "#     tmat = np.matmul(la.inv(Hevd),Jevd)\n",
    "#     print(\"tmat:\", tmat)\n",
    "#     alpNew[0] = alpCur[0] + gamma*Jevd[0]\n",
    "#     alpNew[1] = alpCur[1] + gamma*Jevd[1]\n",
    "#     alpCur[0] = alpNew[0]\n",
    "#     alpCur[1] = alpNew[1]"
   ]
  },
  {
   "cell_type": "code",
   "execution_count": 98,
   "metadata": {},
   "outputs": [
    {
     "name": "stdout",
     "output_type": "stream",
     "text": [
      "0.3868734488487349 0.5903295347732771\n",
      "[0.2840542950453662, 0.7012462515517469] [0.12808399496454684, 0.9828871002215179]\n"
     ]
    },
    {
     "data": {
      "image/png": "[encoded data removed]",
      "text/plain": [
       "<matplotlib.figure.Figure at 0x7f84f3824470>"
      ]
     },
     "metadata": {},
     "output_type": "display_data"
    }
   ],
   "source": [
    "fig=plt.figure(2)\n",
    "#plt.pcolor(alp1grd,alp2grd,np.log(evidplot),cmap='PuBu_r',vmin=-1)\n",
    "plt.pcolor(alp1grd,alp2grd,np.log(evidplot),cmap='PuBu_r',vmin=-1.5)\n",
    "plt.plot(logAlpIter[:,0],logAlpIter[:,1],'r-')\n",
    "plt.colorbar()\n",
    "plt.grid('on',linestyle='--')\n",
    "plt.xlabel(r'$\\log\\alpha_1$')\n",
    "plt.ylabel(r'$\\log\\alpha_2$')\n",
    "plt.title('Log-evidence')\n",
    "plt.xlim(alp1bnd)\n",
    "plt.ylim(alp2bnd)\n",
    "plt.savefig('evid2d_2.eps',bbox_inches='tight')\n",
    "lk,prt,pst,ev1,Jev1,Hev1 = poststat([0,0],[ 3.64452806, -0.88226498])\n",
    "lk,prt,pst,ev2,Jev2,Hev2 = poststat([0,0],[5,0])\n",
    "print(ev1,ev2)\n",
    "print(Jev1,Jev2)"
   ]
  },
  {
   "cell_type": "code",
   "execution_count": null,
   "metadata": {},
   "outputs": [],
   "source": []
  },
  {
   "cell_type": "code",
   "execution_count": null,
   "metadata": {},
   "outputs": [],
   "source": []
  }
 ],
 "metadata": {
  "kernelspec": {
   "display_name": "Python 3",
   "language": "python",
   "name": "python3"
  },
  "language_info": {
   "codemirror_mode": {
    "name": "ipython",
    "version": 3
   },
   "file_extension": ".py",
   "mimetype": "text/x-python",
   "name": "python",
   "nbconvert_exporter": "python",
   "pygments_lexer": "ipython3",
   "version": "3.6.4"
  }
 },
 "nbformat": 4,
 "nbformat_minor": 2
}
