{
 "cells": [
  {
   "cell_type": "markdown",
   "metadata": {},
   "source": [
    "### Description: Generate noisy observations"
   ]
  },
  {
   "cell_type": "markdown",
   "metadata": {},
   "source": [
    "###### Author: Rimple Sandhu, Carleton University; Email: rimple_sandhu@outlook.com"
   ]
  },
  {
   "cell_type": "code",
   "execution_count": 1,
   "metadata": {},
   "outputs": [],
   "source": [
    "#!/usr/bin/python\n",
    "import numpy as np\n",
    "import matplotlib.pyplot as plt\n",
    "import os\n",
    "import math\n",
    "import sys\n",
    "np.random.seed(88)\n",
    "os.system('rm *.pdf *.eps');"
   ]
  },
  {
   "cell_type": "markdown",
   "metadata": {},
   "source": [
    "Output function:"
   ]
  },
  {
   "cell_type": "code",
   "execution_count": 2,
   "metadata": {},
   "outputs": [],
   "source": [
    "def fn(X):\n",
    "    return np.polyval([1,0,1],X)"
   ]
  },
  {
   "cell_type": "markdown",
   "metadata": {},
   "source": [
    "Model parameters"
   ]
  },
  {
   "cell_type": "code",
   "execution_count": 3,
   "metadata": {},
   "outputs": [],
   "source": [
    "d = 1 # dimension of input X\n",
    "M = 50 # number of observations\n",
    "rho = 40 # precision of measurement noise\n",
    "Xmin = [-1] # minimum bounds of input\n",
    "Xmax = [1]  # maximum limit of input X\n",
    "# 50,60,-1 to 2"
   ]
  },
  {
   "cell_type": "markdown",
   "metadata": {},
   "source": [
    "Generate the noisy observation:"
   ]
  },
  {
   "cell_type": "code",
   "execution_count": 4,
   "metadata": {},
   "outputs": [],
   "source": [
    "X = np.zeros((M,d))\n",
    "Y = np.zeros((M,1))\n",
    "for i in range(0,d):\n",
    "    X[:,i] = np.linspace(Xmin[i],Xmax[i],M)\n",
    "for j in range(0,M):\n",
    "    Y[j,0] = fn(X[j,:]) + np.random.randn()/np.sqrt(rho)\n",
    "np.savetxt('Ydata.dat',Y)\n",
    "np.savetxt('Xdata.dat',X)"
   ]
  },
  {
   "cell_type": "markdown",
   "metadata": {},
   "source": [
    "Plot the response, in comparison to the truth:"
   ]
  },
  {
   "cell_type": "code",
   "execution_count": 5,
   "metadata": {},
   "outputs": [
    {
     "data": {
      "image/png": "[encoded data removed]",
      "text/plain": [
       "<matplotlib.figure.Figure at 0x7f10db02dc18>"
      ]
     },
     "metadata": {},
     "output_type": "display_data"
    }
   ],
   "source": [
    "Mtrue = 200;\n",
    "Xtrue = np.zeros((Mtrue,d))\n",
    "Ytrue = np.zeros((Mtrue,1))\n",
    "for i in range(0,d):\n",
    "    Xtrue[:,i] = np.linspace(Xmin[i],Xmax[i],Mtrue)\n",
    "for j in range(0,Mtrue):\n",
    "    Ytrue[j,0] = fn(Xtrue[j,:])\n",
    "fig = plt.figure(1)\n",
    "plt.plot(X,Y,'r*',label='Observations')\n",
    "plt.plot(Xtrue,Ytrue,'b-',label='Truth')\n",
    "plt.grid(True)\n",
    "plt.xlim([Xmin[0],Xmax[0]])\n",
    "plt.ylabel('Y')\n",
    "plt.xlabel('X')\n",
    "plt.legend(loc='best', numpoints = 1)\n",
    "plt.savefig('BLR_XvsY.eps',bbox_inches='tight')"
   ]
  },
  {
   "cell_type": "code",
   "execution_count": null,
   "metadata": {},
   "outputs": [],
   "source": []
  },
  {
   "cell_type": "code",
   "execution_count": null,
   "metadata": {},
   "outputs": [],
   "source": []
  },
  {
   "cell_type": "code",
   "execution_count": null,
   "metadata": {},
   "outputs": [],
   "source": []
  }
 ],
 "metadata": {
  "kernelspec": {
   "display_name": "Python 3",
   "language": "python",
   "name": "python3"
  },
  "language_info": {
   "codemirror_mode": {
    "name": "ipython",
    "version": 3
   },
   "file_extension": ".py",
   "mimetype": "text/x-python",
   "name": "python",
   "nbconvert_exporter": "python",
   "pygments_lexer": "ipython3",
   "version": "3.6.4"
  }
 },
 "nbformat": 4,
 "nbformat_minor": 2
}
