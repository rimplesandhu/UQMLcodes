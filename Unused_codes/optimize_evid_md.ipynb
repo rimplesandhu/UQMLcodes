{
 "cells": [
  {
   "cell_type": "markdown",
   "metadata": {},
   "source": [
    "##### Plot posterior pdf, lik function and prior for a given hyperparameter value"
   ]
  },
  {
   "cell_type": "code",
   "execution_count": 1,
   "metadata": {},
   "outputs": [],
   "source": [
    "#!/usr/bin/python\n",
    "import numpy as np\n",
    "import numpy.linalg as la\n",
    "import scipy.stats as st\n",
    "import scipy.optimize as sopt\n",
    "import matplotlib as mpl\n",
    "import matplotlib.pyplot as plt\n",
    "import os, math, sys\n",
    "np.random.seed(88)\n",
    "#os.system('rm *.pdf *.eps *.png');"
   ]
  },
  {
   "cell_type": "code",
   "execution_count": 2,
   "metadata": {},
   "outputs": [],
   "source": [
    "K = 2\n",
    "Nphi = 4\n",
    "acoeff  = np.ones((1,K))\n",
    "mu  = np.zeros((Nphi,K))\n",
    "Sig = np.zeros((Nphi,Nphi,K))\n",
    "mu[0,0] = 1.0\n",
    "mu[1,0] = 1.0\n",
    "mu[2,1] = 1.0\n",
    "mu[3,1] = 1.0\n",
    "rho = -0.9\n",
    "var = 0.05\n",
    "fac = 0.25\n",
    "Sig[:,:,0] = [[var,var*rho],[var*rho,var]]\n",
    "Sig[:,:,1] = [[fac*var,fac*var*rho],[fac*var*rho,fac*var]]\n",
    "r = 1e-04\n",
    "s = 1e-04"
   ]
  },
  {
   "cell_type": "code",
   "execution_count": 3,
   "metadata": {},
   "outputs": [],
   "source": [
    "Bmat = np.zeros((Nphi,Nphi,K))\n",
    "Pmat = np.zeros((Nphi,Nphi,K))\n",
    "mVec = np.zeros((Nphi,K))\n",
    "Wraw = np.zeros((1,K))\n",
    "Vmat = np.zeros((Nphi,K))\n",
    "LEjvec = np.zeros((Nphi,1))\n",
    "jVec = np.zeros((Nphi,1))\n",
    "Hmat = np.zeros((Nphi,Nphi))"
   ]
  },
  {
   "cell_type": "code",
   "execution_count": 30,
   "metadata": {},
   "outputs": [],
   "source": [
    "def poststat(X,logalp):\n",
    "    alp = np.exp(logalp)\n",
    "    A = np.diag(alp)\n",
    "    Ain = np.diag(1/alp)\n",
    "    for i in range(0,K):\n",
    "        Bmat[:,:,i] = Sig[:,:,i] + Ain\n",
    "        Wraw[0,i] = acoeff[0,i]*st.multivariate_normal.pdf(mu[:,i],[0]*Nphi,Bmat[:,:,i])\n",
    "        Pmat[:,:,i] = Ain - Ain@la.inv(Bmat[:,:,i])@Ain\n",
    "        mVec[:,i] = Pmat[:,:,i]@la.inv(Sig[:,:,i])@mu[:,i]\n",
    "        for j in range(0,Nphi):\n",
    "            Vmat[j,i] = (1 - alp[j]*Pmat[j,j,i] - alp[j]*(mVec[j,i]**2))/(2.0*alp[j])\n",
    "    LogEvid= np.log(np.sum(Wraw))\n",
    "    ObjFun = LogEvid + np.sum(r*logalp-s*alp)\n",
    "    Wwght = Wraw/np.sum(Wraw)\n",
    "    for i in range(0,Nphi):\n",
    "        LEjvec[i,0] = np.dot(Wwght,Vmat[i,:])\n",
    "        jVec[i,0]   = alp[i]*LEjvec[i,0] + r - s*alp[i]\n",
    "    PostPdf = 0.0\n",
    "    LikFun = 0.0\n",
    "    for i in range(0,K):\n",
    "        LikFun  = LikFun  + acoeff[0,i]*st.multivariate_normal.pdf(X,mu[:,i],Sig[:,:,i])\n",
    "        PostPdf = PostPdf + Wwght[0,i]*st.multivariate_normal.pdf(X,mVec[:,i],Pmat[:,:,i])  \n",
    "    PriorPdf = st.multivariate_normal.pdf(X,[0]*Nphi,Ain)\n",
    "    for i in range(0,Nphi):\n",
    "        for j in range(0,Nphi):\n",
    "            temp = 0.0\n",
    "            for k in range(0,K):\n",
    "                temp = temp + Wwght[0,k]*(0.5*Pmat[i,j,k]**2 + Vmat[j,k]*(Vmat[i,k] - LEjvec[i,0])) \n",
    "            Hmat[i,j] = alp[i]*alp[j]*temp\n",
    "    return PriorPdf, LikFun, PostPdf, LogEvid, -ObjFun, -jVec, Hmat"
   ]
  },
  {
   "cell_type": "code",
   "execution_count": 31,
   "metadata": {},
   "outputs": [],
   "source": [
    "Ngrd  = 100\n",
    "LogEvidgrd  = np.zeros((Ngrd,Ngrd))\n",
    "ObjFungrd   = np.zeros((Ngrd,Ngrd))\n",
    "JacVecgrd   = np.zeros((Ngrd,Ngrd,Nphi))\n",
    "LogAlp1bnd = [-5,10]\n",
    "LogAlp2bnd = [-5,10]\n",
    "LogAlp1rng = np.linspace(LogAlp1bnd[0],LogAlp1bnd[1],Ngrd)\n",
    "LogAlp2rng  = np.linspace(LogAlp2bnd[0],LogAlp2bnd[1],Ngrd)\n",
    "LogAlp1grd,LogAlp2grd = np.meshgrid(LogAlp1rng,LogAlp2rng)\n",
    "Xarb = np.array([0.0,0.0])\n",
    "for i in range(0,Ngrd):\n",
    "    for j in range(0, Ngrd):\n",
    "        LogAlpCur = np.array([LogAlp1grd[i,j],LogAlp2grd[i,j]])\n",
    "        PRi, LFi, PSi, LogEvidgrd[i,j], ObjFungrd[i,j], Jtmp, Htmp = poststat(Xarb,LogAlpCur)\n",
    "        JacVecgrd[i,j,:] = Jtmp[:,0]"
   ]
  },
  {
   "cell_type": "code",
   "execution_count": 32,
   "metadata": {},
   "outputs": [
    {
     "name": "stdout",
     "output_type": "stream",
     "text": [
      "  allvecs: [array([-5., -2.]), array([-2.50871211,  0.32631594])]\n",
      "      fun: 2.572939131093344\n",
      " hess_inv: array([[12.29150809,  9.69264164],\n",
      "       [ 9.69264164,  9.25601403]])\n",
      "      jac: array([-0.47246698, -0.24094018])\n",
      "  message: 'Maximum number of iterations has been exceeded.'\n",
      "     nfev: 12\n",
      "      nit: 1\n",
      "     njev: 3\n",
      "   status: 1\n",
      "  success: False\n",
      "        x: array([-2.50871211,  0.32631594])\n"
     ]
    }
   ],
   "source": [
    "def myFun(xin):\n",
    "    lk, pr, ps, ev, objout, Jout, Hout = poststat(Xarb,xin)\n",
    "    return objout\n",
    "def myFunJac(xin):\n",
    "    lk, pr, ps, ev, objout, Jout,Hout = poststat(Xarb,xin)\n",
    "    return Jout[:,0]\n",
    "Niter = 10\n",
    "LogAlpIter = np.zeros((Niter,Nphi))\n",
    "LogAlp0 = np.array([-5,-2])\n",
    "#LogAlp0 = np.array([-2,-5])\n",
    "#res = sopt.minimize(myFun, LogAlp0 , method='BFGS', options={'maxiter':Niter,'return_all': True})\n",
    "res = sopt.minimize(myFun, LogAlp0 , method='CG',jac = myFunJac, options={'maxiter':Niter,'return_all': True})\n",
    "#res = sopt.minimize(objFun, X0, method='Newton-CG',jac = jacn, hess=hessn, options={'maxiter':Niter,'return_all': True})\n",
    "print(res)\n",
    "for i in range(0,res.nit):\n",
    "    LogAlpIter[i,:] = res.allvecs[i]\n",
    "#print(logAlpIter)"
   ]
  },
  {
   "cell_type": "code",
   "execution_count": 35,
   "metadata": {},
   "outputs": [
    {
     "name": "stdout",
     "output_type": "stream",
     "text": [
      "[[-0.47246692]\n",
      " [-0.24094014]]\n",
      "[[ 0.00040272 -0.00608041]\n",
      " [-0.00608041  0.09640472]]\n"
     ]
    }
   ],
   "source": [
    "atLogalp = np.array(res.x)\n",
    "PRi, LFi, PSi, LogEvidi, ObjFungrdi, Jtmpi, Htmpi = poststat(Xarb,atLogalp)\n",
    "print(Jtmpi)\n",
    "print(Htmpi)"
   ]
  },
  {
   "cell_type": "code",
   "execution_count": 19,
   "metadata": {},
   "outputs": [
    {
     "data": {
      "image/png": "[encoded data removed]",
      "text/plain": [
       "<Figure size 432x288 with 2 Axes>"
      ]
     },
     "metadata": {},
     "output_type": "display_data"
    }
   ],
   "source": [
    "mpl.rcParams.update({'font.size':12})\n",
    "minVal = -1.5\n",
    "plt.figure(1)\n",
    "plt.pcolor(LogAlp1grd,LogAlp2grd,ObjFungrd,cmap='PuBu_r',vmin=minVal)\n",
    "plt.plot(LogAlpIter[:,0],LogAlpIter[:,1],'r.')\n",
    "plt.plot(LogAlpIter[:,0],LogAlpIter[:,1],'r-')\n",
    "plt.colorbar()\n",
    "plt.grid('on',linestyle='--')\n",
    "plt.xlabel(r'$\\log\\alpha_1$')\n",
    "plt.ylabel(r'$\\log\\alpha_2$')\n",
    "plt.title('Objective function')\n",
    "plt.savefig('plot_iter.eps',bbox_inches='tight')"
   ]
  },
  {
   "cell_type": "code",
   "execution_count": null,
   "metadata": {},
   "outputs": [],
   "source": []
  }
 ],
 "metadata": {
  "kernelspec": {
   "display_name": "Python 3",
   "language": "python",
   "name": "python3"
  },
  "language_info": {
   "codemirror_mode": {
    "name": "ipython",
    "version": 3
   },
   "file_extension": ".py",
   "mimetype": "text/x-python",
   "name": "python",
   "nbconvert_exporter": "python",
   "pygments_lexer": "ipython3",
   "version": "3.6.4"
  }
 },
 "nbformat": 4,
 "nbformat_minor": 2
}
