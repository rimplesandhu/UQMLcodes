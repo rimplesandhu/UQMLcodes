{
 "cells": [
  {
   "cell_type": "markdown",
   "metadata": {},
   "source": [
    "### Description: Generate noisy observations"
   ]
  },
  {
   "cell_type": "markdown",
   "metadata": {},
   "source": [
    "###### Author: Rimple Sandhu, Carleton University; Email: rimple_sandhu@outlook.com"
   ]
  },
  {
   "cell_type": "code",
   "execution_count": 1,
   "metadata": {},
   "outputs": [],
   "source": [
    "#!/usr/bin/python\n",
    "from numpy import *\n",
    "import matplotlib.pyplot as plt\n",
    "import os\n",
    "import math\n",
    "import sys\n",
    "random.seed(87)\n",
    "os.system('rm *.pdf');"
   ]
  },
  {
   "cell_type": "markdown",
   "metadata": {},
   "source": [
    "Output function:"
   ]
  },
  {
   "cell_type": "code",
   "execution_count": 2,
   "metadata": {},
   "outputs": [],
   "source": [
    "def fn(X):\n",
    "    return polyval([1,0,1],X)"
   ]
  },
  {
   "cell_type": "markdown",
   "metadata": {},
   "source": [
    "Model parameters"
   ]
  },
  {
   "cell_type": "code",
   "execution_count": 3,
   "metadata": {},
   "outputs": [],
   "source": [
    "d = 1 # dimension of input X\n",
    "M = 50 # number of observations\n",
    "rho = 20 # precision of measurement noise\n",
    "Xmin = [0] # minimum bounds of input\n",
    "Xmax = [2]  # maximum limit of input X"
   ]
  },
  {
   "cell_type": "markdown",
   "metadata": {},
   "source": [
    "Generate the noisy observation:"
   ]
  },
  {
   "cell_type": "code",
   "execution_count": 4,
   "metadata": {},
   "outputs": [],
   "source": [
    "X = zeros((M,d))\n",
    "Y = zeros((M,1))\n",
    "for i in range(0,d):\n",
    "    X[:,i] = linspace(Xmin[i],Xmax[i],M)\n",
    "for j in range(0,M):\n",
    "    Y[j,0] = fn(X[j,:]) + random.randn()/sqrt(rho)\n",
    "savetxt('Ydata.dat',Y)\n",
    "savetxt('Xdata.dat',X)"
   ]
  },
  {
   "cell_type": "markdown",
   "metadata": {},
   "source": [
    "Plot the response, in comparison to the truth:"
   ]
  },
  {
   "cell_type": "code",
   "execution_count": 5,
   "metadata": {},
   "outputs": [
    {
     "data": {
      "image/png": "[encoded data removed]",
      "text/plain": [
       "<matplotlib.figure.Figure at 0x7f2bb5dee160>"
      ]
     },
     "metadata": {},
     "output_type": "display_data"
    }
   ],
   "source": [
    "Mtrue = 200;\n",
    "Xtrue = zeros((Mtrue,d))\n",
    "Ytrue = zeros((Mtrue,1))\n",
    "for i in range(0,d):\n",
    "    Xtrue[:,i] = linspace(Xmin[i],Xmax[i],Mtrue)\n",
    "for j in range(0,Mtrue):\n",
    "    Ytrue[j,0] = fn(Xtrue[j,:])\n",
    "fig = plt.figure(1)\n",
    "plt.plot(X,Y,'r*',label='Observations')\n",
    "plt.plot(Xtrue,Ytrue,'b-',label='Truth')\n",
    "plt.grid(True)\n",
    "plt.ylabel('Y')\n",
    "plt.xlabel('X')\n",
    "plt.legend(loc='best', numpoints = 1)\n",
    "plt.savefig('BLR_XvsY.pdf',bbox_inches='tight')"
   ]
  },
  {
   "cell_type": "code",
   "execution_count": null,
   "metadata": {},
   "outputs": [],
   "source": []
  },
  {
   "cell_type": "code",
   "execution_count": null,
   "metadata": {},
   "outputs": [],
   "source": []
  },
  {
   "cell_type": "code",
   "execution_count": null,
   "metadata": {},
   "outputs": [],
   "source": []
  }
 ],
 "metadata": {
  "kernelspec": {
   "display_name": "Python 3",
   "language": "python",
   "name": "python3"
  },
  "language_info": {
   "codemirror_mode": {
    "name": "ipython",
    "version": 3
   },
   "file_extension": ".py",
   "mimetype": "text/x-python",
   "name": "python",
   "nbconvert_exporter": "python",
   "pygments_lexer": "ipython3",
   "version": "3.6.4"
  }
 },
 "nbformat": 4,
 "nbformat_minor": 2
}
