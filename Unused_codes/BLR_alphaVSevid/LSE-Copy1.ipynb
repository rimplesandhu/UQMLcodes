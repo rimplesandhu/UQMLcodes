{
 "cells": [
  {
   "cell_type": "markdown",
   "metadata": {},
   "source": [
    "### Description: Bayesian linear regression using conjugate priors (Known measurement noise variance)\n",
    "#### Author: Rimple Sandhu, Carleton University; Email: rimple_sandhu@outlook.com"
   ]
  },
  {
   "cell_type": "code",
   "execution_count": 1,
   "metadata": {},
   "outputs": [],
   "source": [
    "#!/usr/bin/python\n",
    "from numpy import *\n",
    "from scipy.stats import multivariate_normal\n",
    "import matplotlib.pyplot as plt\n",
    "import os\n",
    "import math\n",
    "import sys"
   ]
  },
  {
   "cell_type": "markdown",
   "metadata": {},
   "source": [
    "Generate design matrix $\\Phi$ using input X observations and assumed basis functions : "
   ]
  },
  {
   "cell_type": "code",
   "execution_count": 19,
   "metadata": {},
   "outputs": [],
   "source": [
    "def PhiMat(X):\n",
    "    N = 3\n",
    "    M = len(X)\n",
    "    Phi = zeros((M,N))\n",
    "    for i in range(0,M):\n",
    "        for j in range(0,N):\n",
    "            Phi[i,j] = X[i]**j\n",
    "    return Phi"
   ]
  },
  {
   "cell_type": "code",
   "execution_count": 20,
   "metadata": {},
   "outputs": [],
   "source": [
    "Yobs = loadtxt('Ydata.dat') \n",
    "Xobs = loadtxt('Xdata.dat')\n",
    "Phi = PhiMat(Xobs)\n",
    "M = len(Yobs)\n",
    "N = Phi.shape[1]"
   ]
  },
  {
   "cell_type": "markdown",
   "metadata": {},
   "source": [
    "Hyper-parameters of Normal prior pdf: $p(W) = N(\\mu_0, P_0^{-1})$"
   ]
  },
  {
   "cell_type": "code",
   "execution_count": 21,
   "metadata": {},
   "outputs": [],
   "source": [
    "mu0 = [0]*N\n",
    "P0 = 0.0001*identity(N)\n",
    "rho = 10"
   ]
  },
  {
   "cell_type": "markdown",
   "metadata": {},
   "source": [
    "Bayesian update using observations: $p(W|D) = N(\\mu, P^{-1})$"
   ]
  },
  {
   "cell_type": "code",
   "execution_count": 22,
   "metadata": {},
   "outputs": [
    {
     "data": {
      "text/plain": [
       "array([ 1.05901922,  3.83405504, -0.91645898])"
      ]
     },
     "execution_count": 22,
     "metadata": {},
     "output_type": "execute_result"
    }
   ],
   "source": [
    "P = P0 + rho*matmul(transpose(Phi),Phi)\n",
    "mu = matmul(linalg.inv(P),matmul(P0,mu0) + rho*matmul(transpose(Phi),Yobs))\n",
    "#alpha = alpha0 + M/2\n",
    "#beta = 1.0 + (matmul(transpose(mu0),matmul(V0,mu0)) + dot(Yobs,Yobs) - matmul(transpose(mu),matmul(V,mu)))/2\n",
    "mu"
   ]
  },
  {
   "cell_type": "markdown",
   "metadata": {},
   "source": [
    "Prior vs Posterior vs true plotting:"
   ]
  },
  {
   "cell_type": "code",
   "execution_count": 6,
   "metadata": {},
   "outputs": [
    {
     "ename": "NameError",
     "evalue": "name 'alpha0' is not defined",
     "output_type": "error",
     "traceback": [
      "\u001b[0;31m---------------------------------------------------------------------------\u001b[0m",
      "\u001b[0;31mNameError\u001b[0m                                 Traceback (most recent call last)",
      "\u001b[0;32m<ipython-input-6-2ef88c77d10a>\u001b[0m in \u001b[0;36m<module>\u001b[0;34m()\u001b[0m\n\u001b[1;32m      1\u001b[0m \u001b[0;32mfor\u001b[0m \u001b[0mi\u001b[0m \u001b[0;32min\u001b[0m \u001b[0mrange\u001b[0m\u001b[0;34m(\u001b[0m\u001b[0;36m0\u001b[0m\u001b[0;34m,\u001b[0m\u001b[0mN\u001b[0m\u001b[0;34m)\u001b[0m\u001b[0;34m:\u001b[0m\u001b[0;34m\u001b[0m\u001b[0m\n\u001b[1;32m      2\u001b[0m     \u001b[0mWgrid\u001b[0m \u001b[0;34m=\u001b[0m \u001b[0mlinspace\u001b[0m\u001b[0;34m(\u001b[0m\u001b[0mmu\u001b[0m\u001b[0;34m[\u001b[0m\u001b[0mi\u001b[0m\u001b[0;34m]\u001b[0m\u001b[0;34m-\u001b[0m\u001b[0;36m1\u001b[0m\u001b[0;34m,\u001b[0m\u001b[0mmu\u001b[0m\u001b[0;34m[\u001b[0m\u001b[0mi\u001b[0m\u001b[0;34m]\u001b[0m\u001b[0;34m+\u001b[0m\u001b[0;36m1\u001b[0m\u001b[0;34m,\u001b[0m\u001b[0;36m1000\u001b[0m\u001b[0;34m)\u001b[0m\u001b[0;34m\u001b[0m\u001b[0m\n\u001b[0;32m----> 3\u001b[0;31m     \u001b[0mWpriorN\u001b[0m \u001b[0;34m=\u001b[0m \u001b[0mmultivariate_normal\u001b[0m\u001b[0;34m.\u001b[0m\u001b[0mpdf\u001b[0m\u001b[0;34m(\u001b[0m\u001b[0mWgrid\u001b[0m\u001b[0;34m,\u001b[0m\u001b[0mmu0\u001b[0m\u001b[0;34m[\u001b[0m\u001b[0mi\u001b[0m\u001b[0;34m]\u001b[0m\u001b[0;34m,\u001b[0m\u001b[0;36m1\u001b[0m\u001b[0;34m/\u001b[0m\u001b[0;34m(\u001b[0m\u001b[0malpha0\u001b[0m\u001b[0;34m*\u001b[0m\u001b[0mV0\u001b[0m\u001b[0;34m[\u001b[0m\u001b[0mi\u001b[0m\u001b[0;34m,\u001b[0m\u001b[0mi\u001b[0m\u001b[0;34m]\u001b[0m\u001b[0;34m)\u001b[0m\u001b[0;34m)\u001b[0m\u001b[0;34m\u001b[0m\u001b[0m\n\u001b[0m\u001b[1;32m      4\u001b[0m     \u001b[0mWpostN\u001b[0m \u001b[0;34m=\u001b[0m \u001b[0mmultivariate_normal\u001b[0m\u001b[0;34m.\u001b[0m\u001b[0mpdf\u001b[0m\u001b[0;34m(\u001b[0m\u001b[0mWgrid\u001b[0m\u001b[0;34m,\u001b[0m\u001b[0mmu\u001b[0m\u001b[0;34m[\u001b[0m\u001b[0mi\u001b[0m\u001b[0;34m]\u001b[0m\u001b[0;34m,\u001b[0m\u001b[0;36m1\u001b[0m\u001b[0;34m/\u001b[0m\u001b[0;34m(\u001b[0m\u001b[0malpha0\u001b[0m\u001b[0;34m*\u001b[0m\u001b[0mV\u001b[0m\u001b[0;34m[\u001b[0m\u001b[0mi\u001b[0m\u001b[0;34m,\u001b[0m\u001b[0mi\u001b[0m\u001b[0;34m]\u001b[0m\u001b[0;34m)\u001b[0m\u001b[0;34m)\u001b[0m\u001b[0;34m\u001b[0m\u001b[0m\n\u001b[1;32m      5\u001b[0m     \u001b[0mfig\u001b[0m \u001b[0;34m=\u001b[0m \u001b[0mplt\u001b[0m\u001b[0;34m.\u001b[0m\u001b[0mfigure\u001b[0m\u001b[0;34m(\u001b[0m\u001b[0mi\u001b[0m\u001b[0;34m+\u001b[0m\u001b[0;36m1\u001b[0m\u001b[0;34m)\u001b[0m\u001b[0;34m\u001b[0m\u001b[0m\n",
      "\u001b[0;31mNameError\u001b[0m: name 'alpha0' is not defined"
     ]
    }
   ],
   "source": [
    "for i in range(0,N):\n",
    "    Wgrid = linspace(mu[i]-1,mu[i]+1,1000)\n",
    "    WpriorN = multivariate_normal.pdf(Wgrid,mu0[i],1/(alpha0*V0[i,i]))\n",
    "    WpostN = multivariate_normal.pdf(Wgrid,mu[i],1/(alpha0*V[i,i]))\n",
    "    fig = plt.figure(i+1)\n",
    "    plt.plot(Wgrid,WpriorN,'r-',label='Prior')\n",
    "    plt.plot(Wgrid,WpostN,'b-',label='Posterior')\n",
    "    plt.grid(True)\n",
    "    plt.xlabel(r'$a_'+str(i)+'$')\n",
    "    plt.legend(loc='best', numpoints = 1)\n",
    "    plt.savefig('PDF_Wcdn_'+str(i)+'.pdf',bbox_inches='tight')"
   ]
  },
  {
   "cell_type": "code",
   "execution_count": 84,
   "metadata": {},
   "outputs": [],
   "source": [
    "def LikFn(W,rho):\n",
    "    return multivariate_normal.pdf(Yobs,matmul(Phi,W),identity(M)/rho)"
   ]
  },
  {
   "cell_type": "code",
   "execution_count": 21,
   "metadata": {},
   "outputs": [],
   "source": [
    "def PosteriorVar(alpha,rho):\n",
    "    return linalg.inv(diag(alpha) + rho*matmul(transpose(Phi),Phi))\n",
    "\n",
    "def PosteriorMean(alpha,rho):\n",
    "    return rho*matmul(matmul(PosteriorVar(alpha,rho),transpose(Phi)),Yobs)\n",
    "\n",
    "def PosteriorPdf(W,alpha,rho):\n",
    "    return multivariate_normal.pdf(W,PosteriorMean(alpha,rho),PosteriorVar(alpha,rho))"
   ]
  },
  {
   "cell_type": "code",
   "execution_count": 12,
   "metadata": {},
   "outputs": [],
   "source": [
    "def Evidence(alpha,rho):\n",
    "    return multivariate_normal.pdf(Yobs,[0]*M,identity(M)/rho + matmul(matmul(Phi,linalg.inv(diag(alpha))),transpose(Phi)))"
   ]
  },
  {
   "cell_type": "code",
   "execution_count": 14,
   "metadata": {},
   "outputs": [],
   "source": [
    "\n",
    "def PosteriorPredMean(alpha,rho):\n",
    "    return matmul(PhiNew,PosteriorMean(alpha,rho))\n",
    "def PosteriorPredVar(alpha,rho):\n",
    "    return identity(Mnew)/rho + matmul(matmul(PhiNew,linalg.inv(PosteriorVar(alpha,rho))),transpose(PhiNew))\n",
    "def PosteriorPredPdf(alpha,rho):\n",
    "    return multivariate_normal.pdf(Ynew,PosteriorPredMean(alpha,rho),PosteriorPredVar(alpha,rho))"
   ]
  },
  {
   "cell_type": "code",
   "execution_count": null,
   "metadata": {},
   "outputs": [],
   "source": [
    "Mnew = 100\n",
    "Xnew = linspace(min(Xobs)-1,max(Xobs)+1,Mnew)\n",
    "PhiNew = PhiMat(Xnew)\n",
    "fig = plt.figure(1)\n",
    "plt.plot(Xobs,Yobs,'r*',label='Observations')\n",
    "plt.plot(Xnew,PosteriorPreMean,'b-',label='Mean Predictions')\n",
    "plt.grid(True)\n",
    "plt.ylabel('X')\n",
    "plt.legend(loc='best', numpoints = 1)\n",
    "plt.savefig('observations.pdf',bbox_inches='tight')\n"
   ]
  },
  {
   "cell_type": "code",
   "execution_count": null,
   "metadata": {},
   "outputs": [],
   "source": []
  }
 ],
 "metadata": {
  "kernelspec": {
   "display_name": "Python 3",
   "language": "python",
   "name": "python3"
  },
  "language_info": {
   "codemirror_mode": {
    "name": "ipython",
    "version": 3
   },
   "file_extension": ".py",
   "mimetype": "text/x-python",
   "name": "python",
   "nbconvert_exporter": "python",
   "pygments_lexer": "ipython3",
   "version": "3.6.4"
  }
 },
 "nbformat": 4,
 "nbformat_minor": 2
}
