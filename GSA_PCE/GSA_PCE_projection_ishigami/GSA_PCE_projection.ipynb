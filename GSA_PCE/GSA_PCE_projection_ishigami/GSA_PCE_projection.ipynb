{
 "cells": [
  {
   "cell_type": "markdown",
   "metadata": {},
   "source": [
    "### Description: Computes GSA sensitvity indices using PCE surrogate construction using projection (Gaussian Quadrature)\n",
    "#### Additional packages required: [UQTk](www.sandia.gov)"
   ]
  },
  {
   "cell_type": "markdown",
   "metadata": {},
   "source": [
    "###### Author: Rimple Sandhu, Carleton University; Email: rimple_sandhu@outlook.com"
   ]
  },
  {
   "cell_type": "markdown",
   "metadata": {},
   "source": [
    "This code deals with computing Sobol sensitivity indices using PCE surrogate. The coefficeints of the PCE surrogate are computed using the projection approach. The model considered for this code is:\n",
    "$$Y = \\sin X_1 + a\\sin^2 X_2 + b X_3^2 \\sin X_1 $$\n",
    "where the input vector is $\\{X_1,X_2,X_3\\}$ anr uniform($-\\pi,\\pi$) and parameters $a = 7.0$ and $b = 0.1$ are known constants. The analytical solution to the Sobol sensitvity indices is known:\n",
    "$$Var(Y)  = \\frac{1}{2} + \\frac{a^2}{8} + \\frac{b\\pi^4}{5} + \\frac{b^2\\pi^8}{18} $$\n",
    "$$SI_1 =  \\left(\\frac{1}{2} + \\frac{b\\pi^4}{5} + + \\frac{b^2\\pi^8}{50}\\right)/ Var(Y)$$\n",
    "$$SI_2  =  \\left(\\frac{a^2}{8}\\right)/Var(Y)  $$\n",
    "$$SI_{13}  = \\left(\\frac{b^2\\pi^8}{18} -  \\frac{b^2\\pi^8}{50}\\right)/Var(Y) $$\n",
    "$$SI_3 = SI_{12} = SI_{23} = SI_{123} = 0 $$\n",
    "The best choice for reasonable estimate of sensitvity indices: Minimum PCE order = 6, needs minimum 7 level tensor-gird quadrature LU (343 quadrature points)."
   ]
  },
  {
   "cell_type": "code",
   "execution_count": 1,
   "metadata": {},
   "outputs": [],
   "source": [
    "#!/usr/bin/python\n",
    "from numpy import *\n",
    "import matplotlib.pyplot as plt\n",
    "import os\n",
    "import math\n",
    "import sys"
   ]
  },
  {
   "cell_type": "markdown",
   "metadata": {},
   "source": [
    "Defines the function and the input distribution for the give case:"
   ]
  },
  {
   "cell_type": "code",
   "execution_count": 2,
   "metadata": {},
   "outputs": [],
   "source": [
    "def Ishigami(x):\n",
    "    dim = 3\n",
    "    Mpar = [7.0, 0.1]\n",
    "    PdfType = ['u','u','u']\n",
    "    Xpar = zeros((dim,2))\n",
    "    Xpar[0,:] = [-pi,pi]\n",
    "    Xpar[1,:] = [-pi,pi]\n",
    "    Xpar[2,:] = [-pi,pi]\n",
    "    SI = zeros((2,dim))\n",
    "    var1 = 0.5+Mpar[1]*pi**4/5 + Mpar[1]**2*pi**8/50\n",
    "    var2 = Mpar[0]**2/8\n",
    "    var13 =Mpar[1]**2*pi**8/18 - Mpar[1]**2*pi**8/50\n",
    "    SI[0,0] = var1/(var1 + var2 + var13)\n",
    "    SI[0,1] = var2/(var1 + var2 + var13)\n",
    "    SI[0,2] = 0.0\n",
    "    SI[1,0] = SI[0,0] + var13/(var1 + var2 + var13)\n",
    "    SI[1,1] = SI[0,1]\n",
    "    SI[1,2] = SI[0,2] + var13/(var1 + var2 + var13)\n",
    "    label = [r'$X_1$',r'$X_2$',r'$X_3$']\n",
    "    if isinstance(x,int):\n",
    "        return dim,PdfType,Xpar,SI,label\n",
    "    else: \n",
    "        return sin(x[:,0]) + 7.0*(sin(x[:,1]))**2 + 0.1*(x[:,2]**4)*sin(x[:,0])"
   ]
  },
  {
   "cell_type": "markdown",
   "metadata": {},
   "source": [
    "PCE Projection/Quadrature set up (UQTk quadrature type options: 'LU', 'HG', 'CC', 'CCO', 'NC', 'NCO'):"
   ]
  },
  {
   "cell_type": "code",
   "execution_count": 3,
   "metadata": {},
   "outputs": [],
   "source": [
    "f  = Ishigami # name of model (defined above)\n",
    "PCtype = 'LU' # type of PC basis\n",
    "p  = 7 # order of PCE expansion"
   ]
  },
  {
   "cell_type": "code",
   "execution_count": 4,
   "metadata": {},
   "outputs": [],
   "source": [
    "Qtype  = 'LU' # type of quadrature\n",
    "Qstype = 'full'# sparse or tensor grid\n",
    "Qlvl   = 8 #level of quadrature\n",
    "outLog = ' >> out.log'\n",
    "set_printoptions(precision=3,suppress=True)\n",
    "plotPdf =1"
   ]
  },
  {
   "cell_type": "markdown",
   "metadata": {},
   "source": [
    "Extract model/parameter info and print it:"
   ]
  },
  {
   "cell_type": "code",
   "execution_count": 5,
   "metadata": {},
   "outputs": [
    {
     "name": "stdout",
     "output_type": "stream",
     "text": [
      "Dimension :  3\n",
      "Parameter :  $X_1$ u [-3.142  3.142]\n",
      "Parameter :  $X_2$ u [-3.142  3.142]\n",
      "Parameter :  $X_3$ u [-3.142  3.142]\n"
     ]
    }
   ],
   "source": [
    "d,Xpdftype,Xpdfpar,SI,Xlabel = f(0)\n",
    "SIest = zeros((2,d))\n",
    "SIerr = zeros((2,d))\n",
    "os.system('rm *.dat data/* *.pyc'+outLog)\n",
    "print('Dimension : ', d)\n",
    "for i in range(0,d):\n",
    "    print('Parameter : ', Xlabel[i],Xpdftype[i],Xpdfpar[i,:])"
   ]
  },
  {
   "cell_type": "markdown",
   "metadata": {},
   "source": [
    "Generate quadrature points using UQtk (outputs into a file) and load them, and then convert them into points from given nonstandard distribution:"
   ]
  },
  {
   "cell_type": "code",
   "execution_count": 6,
   "metadata": {},
   "outputs": [],
   "source": [
    "CMD = 'generate_quad -g '+Qtype+' -p '+str(Qlvl)+' -d '+str(d)+' -x '+Qstype\n",
    "os.system(CMD+outLog)\n",
    "Xwts = loadtxt('wghts.dat')\n",
    "Xpts = zeros((len(Xwts),d))\n",
    "Xpts_std = loadtxt('qdpts.dat')"
   ]
  },
  {
   "cell_type": "code",
   "execution_count": 7,
   "metadata": {},
   "outputs": [],
   "source": [
    "for i in range(0,d):\n",
    "    if Xpdftype[i] == 'u':\n",
    "        if d==1:\n",
    "            Xpts[:,i] = 0.5*(Xpdfpar[i,0] + Xpdfpar[i,1]) + 0.5*(Xpdfpar[i,1] - Xpdfpar[i,0])*Xpts_std\n",
    "        else:\n",
    "            Xpts[:,i] = 0.5*(Xpdfpar[i,0] + Xpdfpar[i,1]) + 0.5*(Xpdfpar[i,1] - Xpdfpar[i,0])*Xpts_std[:,i]\n",
    "    elif Xpdftype[i] == 'n':\n",
    "        Xpts[:,i] = Xpdfpar[i,0] + sqrt(Xpdfpar[i,1])*Xpts_std[:,i]\n",
    "Yvals = f(Xpts)\n",
    "savetxt('ydata.dat',Yvals)"
   ]
  },
  {
   "cell_type": "markdown",
   "metadata": {},
   "source": [
    "Computes PCE coefficients, read then from file, compute L2 norm, and print the results:"
   ]
  },
  {
   "cell_type": "code",
   "execution_count": 8,
   "metadata": {},
   "outputs": [],
   "source": [
    "CMD = 'pce_resp -e -x '+PCtype+' -d'+str(d)+' -o'+str(p)\n",
    "os.system(CMD+outLog)\n",
    "PCcoeff = loadtxt('PCcoeff_quad.dat')\n",
    "PCmindex = loadtxt('mindex.dat')\n",
    "Ypc =loadtxt('ydata_pc.dat')\n",
    "L2norm = linalg.norm(multiply(sqrt(Xwts),Yvals - Ypc),2)\n",
    "PCtermsNZ = sum(1 for i in PCcoeff if abs(i) > 1e-05)"
   ]
  },
  {
   "cell_type": "code",
   "execution_count": 9,
   "metadata": {},
   "outputs": [
    {
     "name": "stdout",
     "output_type": "stream",
     "text": [
      "PCE type   :  LU \n",
      "PCE Dim    :  3 \n",
      "PCE Order  :  7 \n",
      "# PCE terms:  120\n",
      "-------------------\n",
      "Quad type  :  LU \n",
      "Sparse grd?:  full \n",
      "Quad Level :  8 \n",
      "#  qpoints :  512\n",
      "-------------------\n",
      "Non-zero PCE coeffs: ( 13 / 120 )\n",
      "    0  :  [0 0 0]  :     3.500\n",
      "    1  :  [1 0 0]  :     2.815\n",
      "    7  :  [0 2 0]  :    -1.330\n",
      "   10  :  [3 0 0]  :    -3.415\n",
      "   15  :  [1 0 2]  :     5.315\n",
      "   30  :  [0 4 0]  :    -5.845\n",
      "   35  :  [5 0 0]  :     0.647\n",
      "   40  :  [3 0 2]  :    -6.447\n",
      "   49  :  [1 0 4]  :     2.126\n",
      "   77  :  [0 6 0]  :     4.728\n",
      "   84  :  [7 0 0]  :    -0.051\n",
      "   89  :  [5 0 2]  :     1.221\n",
      "   98  :  [3 0 4]  :    -2.579\n",
      "-------------------\n",
      "L2 Error   :  0.05041850873031848\n"
     ]
    }
   ],
   "source": [
    "print('PCE type   : ',PCtype,'\\nPCE Dim    : ',d,'\\nPCE Order  : ',p,'\\n# PCE terms: ',len(PCcoeff))\n",
    "print('-------------------')\n",
    "print('Quad type  : ',Qtype,'\\nSparse grd?: ',Qstype,'\\nQuad Level : ',Qlvl,'\\n#  qpoints : ',Xpts.shape[0])\n",
    "print('-------------------')\n",
    "print('Non-zero PCE coeffs: (',PCtermsNZ,'/', len(PCcoeff),')')\n",
    "for i,mi in enumerate(PCmindex):\n",
    "    if abs(PCcoeff[i]) > 1e-05:\n",
    "        print('{:5d}'.format(i),' : ', mi.astype(int),' : ', '{:8.3f}'.format(PCcoeff[i]))\n",
    "print('-------------------')\n",
    "print('L2 Error   : ', L2norm)\n",
    "os.system('mv ydata.dat ydata_qdpts.dat')\n",
    "os.system('mv ydata_pc.dat ydata_qdpts_pc.dat');"
   ]
  },
  {
   "cell_type": "markdown",
   "metadata": {},
   "source": [
    "Compute sensitvity indices using PCE coefficients and print the estimated vs analytical SI values:"
   ]
  },
  {
   "cell_type": "code",
   "execution_count": 10,
   "metadata": {},
   "outputs": [
    {
     "name": "stdout",
     "output_type": "stream",
     "text": [
      "\n",
      "S_i  (Ex.):  [0.314 0.442 0.   ] \n",
      "S_Ti (Ex.):  [0.558 0.442 0.244]\n",
      "S_i  (PCE):  [0.32  0.432 0.   ] \n",
      "S_Ti (PCE):  [0.568 0.432 0.248]\n",
      "S_i (err%):  [1.897 2.349 0.   ] \n",
      "S_Ti(err%):  [1.864 2.349 1.821]\n"
     ]
    },
    {
     "data": {
      "image/png": "[encoded data removed]",
      "text/plain": [
       "<matplotlib.figure.Figure at 0x7f9a15fa4860>"
      ]
     },
     "metadata": {},
     "output_type": "display_data"
    },
    {
     "data": {
      "image/png": "[encoded data removed]",
      "text/plain": [
       "<matplotlib.figure.Figure at 0x7f9a0d6cc898>"
      ]
     },
     "metadata": {},
     "output_type": "display_data"
    }
   ],
   "source": [
    "if d > 1:\n",
    "    CMD = 'pce_sens -m mindex.dat -f PCcoeff_quad.dat -x'+PCtype\n",
    "    os.system(CMD+outLog)\n",
    "    SIest[0,:] = loadtxt('mainsens.dat')\n",
    "    SIest[1,:] = loadtxt('totsens.dat')\n",
    "    for i in range(0,d):\n",
    "        for ii in range(0,2):\n",
    "            if SI[ii,i] > 1e-02: \n",
    "                SIerr[ii,i] = 100*abs(SIest[ii,i] - SI[ii,i])/SI[ii,i]\n",
    "            else:\n",
    "                SIerr[ii,i] = 0.0 \n",
    "    print('\\nS_i  (Ex.): ', SI[0,:],'\\nS_Ti (Ex.): ', SI[1,:])\n",
    "    print('S_i  (PCE): ', SIest[0,:],'\\nS_Ti (PCE): ', SIest[1,:])\n",
    "    print('S_i (err%): ', SIerr[0,:],'\\nS_Ti(err%): ', SIerr[1,:])\n",
    "    fig = plt.figure(1)\n",
    "    x =range(1,d+1)\n",
    "    plt.plot(x,SI[0,:],'bo',label='Analytical')\n",
    "    plt.plot(x,SIest[0,:],'r*',label='PCE surrogate')\n",
    "    plt.grid(True)\n",
    "    plt.ylim(-0.1,1.1)\n",
    "    plt.ylabel(r'$S_i$ (Main effects)')\n",
    "    plt.legend(loc='best', numpoints = 1)\n",
    "    plt.xticks(x,Xlabel)\n",
    "    plt.savefig('GSA_PCE_foSI.pdf',bbox_inches='tight')\n",
    "    fig = plt.figure(2)\n",
    "    x =range(1,d+1)\n",
    "    plt.plot(x,SI[1,:],'bo',label='Analytical')\n",
    "    plt.plot(x,SIest[1,:],'r*',label='PCE surrogate')\n",
    "    plt.grid(True)\n",
    "    plt.ylim(-0.1,1.1)\n",
    "    plt.legend(loc='best', numpoints = 1)\n",
    "    plt.ylabel(r'$S_{T_i}$ (Total effects)')\n",
    "    plt.xticks(x,Xlabel)\n",
    "    plt.savefig('GSA_PCE_toSI.pdf',bbox_inches='tight')"
   ]
  },
  {
   "cell_type": "markdown",
   "metadata": {},
   "source": [
    "Plotting the true vs PCE surrogate pdf of the output Y, this checks for goodness of PCE surrogate, along with L2 error above:  "
   ]
  },
  {
   "cell_type": "code",
   "execution_count": 11,
   "metadata": {},
   "outputs": [
    {
     "data": {
      "image/png": "[encoded data removed]",
      "text/plain": [
       "<matplotlib.figure.Figure at 0x7f9a0d6a72b0>"
      ]
     },
     "metadata": {},
     "output_type": "display_data"
    }
   ],
   "source": [
    "if plotPdf == 1:\n",
    "    M = 100000\n",
    "    Xspls = zeros((M,d))\n",
    "    Xspls_std = zeros((M,d))\n",
    "    for i in range(0,d):\n",
    "        RndSeed = 100+i\n",
    "        if (Xpdftype[i] == 'u'):\n",
    "            CMD1 = 'trdSpls -a -1 -b 1 -n '+str(M)+' -i '+str(RndSeed)+' -f spls.dat -t u'\n",
    "            os.system(CMD1)\n",
    "            Xstd = loadtxt('spls.dat')\n",
    "            Xnew = 0.5*(Xpdfpar[i,0] + Xpdfpar[i,1]) + 0.5*(Xpdfpar[i,1] - Xpdfpar[i,0])*Xstd\n",
    "        elif (Xpdftype[i] == 'n'):\n",
    "            CMD1 = 'trdSpls -a '+str(-100000)+' -b '+str(100000) \\\n",
    "                    +' -m 0 -s 1 -n '+str(M)+' -i '+str(RndSeed)+' -f spls.dat  -t n'\n",
    "            os.system(CMD1)\n",
    "            Xstd = loadtxt('spls.dat')\n",
    "            Xnew = Xpdfpar[i,0] + sqrt(Xpdfpar[i,1])*Xstd\n",
    "        Xspls[:,i] = Xnew\n",
    "        Xspls_std[:,i] = Xstd\n",
    "    os.system('rm spls.dat')\n",
    "    Ymc = f(Xspls)\n",
    "    savetxt('ydata_mc.dat',Ymc)\n",
    "    savetxt('xdata.dat',Xspls_std)\n",
    "    CMD6 = 'pdf_cl -i ydata_mc.dat'\n",
    "    os.system(CMD6)\n",
    "    YmcDens = loadtxt('dens.dat')\n",
    "    CMD7 = 'pce_eval -x PC_mi -f PCcoeff_quad.dat -o '+str(p)+' -s '+PCtype\n",
    "    os.system(CMD7+outLog)\n",
    "    os.system('mv ydata.dat ydata_mc_pc.dat')\n",
    "    CMD8 = 'pdf_cl -i ydata_mc_pc.dat'\n",
    "    os.system(CMD8)\n",
    "    YmcpcDens = loadtxt('dens.dat')\n",
    "    fig = plt.figure(3)\n",
    "    plt.plot(YmcDens[:,0],YmcDens[:,1],'k-',label='True')\n",
    "    plt.plot(YmcpcDens[:,0],YmcpcDens[:,1],'r-',label='PCE surrogate')\n",
    "    plt.grid(True)\n",
    "    plt.legend(loc='best', numpoints = 1)\n",
    "    plt.ylabel('Distribution of Y')\n",
    "    plt.xlabel('Y')\n",
    "    plt.savefig('GSA_PCE_projection_ydens.pdf',bbox_inches='tight')"
   ]
  },
  {
   "cell_type": "code",
   "execution_count": null,
   "metadata": {},
   "outputs": [],
   "source": []
  },
  {
   "cell_type": "code",
   "execution_count": null,
   "metadata": {},
   "outputs": [],
   "source": []
  }
 ],
 "metadata": {
  "kernelspec": {
   "display_name": "Python 3",
   "language": "python",
   "name": "python3"
  },
  "language_info": {
   "codemirror_mode": {
    "name": "ipython",
    "version": 3
   },
   "file_extension": ".py",
   "mimetype": "text/x-python",
   "name": "python",
   "nbconvert_exporter": "python",
   "pygments_lexer": "ipython3",
   "version": "3.6.4"
  }
 },
 "nbformat": 4,
 "nbformat_minor": 2
}
