{
 "cells": [
  {
   "cell_type": "markdown",
   "metadata": {},
   "source": [
    "### Description: Computes GSA sensitvity indices using PCE surrogate construction using projection (Gaussian Quadrature)\n",
    "#### Author: Rimple Sandhu, Carleton University; Email: rimple_sandhu@outlook.com\n",
    "#### Additional packages required: [UQTk](www.sandia.gov)"
   ]
  },
  {
   "cell_type": "markdown",
   "metadata": {},
   "source": [
    "This code deals with computing Sobol sensitivity indices using PCE surrogate. The coefficeints of the PCE surrogate are computed using the projection approach. The model considered for this code is:\n",
    "$$Y = \\prod_{i=1}^k g_i(X_i), \\;\\;\\text{   where   } \\;\\;g_i(X_i) = \\frac{|4X_i - 2| + a_i}{1 + a_i},$$\n",
    "where each input is distributed as uniform(0,1) and parameters $a_i$ are known constants. "
   ]
  },
  {
   "cell_type": "code",
   "execution_count": 1,
   "metadata": {},
   "outputs": [],
   "source": [
    "#!/usr/bin/python\n",
    "from numpy import *\n",
    "import matplotlib.pyplot as plt\n",
    "import os\n",
    "import math\n",
    "import sys"
   ]
  },
  {
   "cell_type": "markdown",
   "metadata": {},
   "source": [
    "Defines the function and the input distribution for the give case:"
   ]
  },
  {
   "cell_type": "code",
   "execution_count": 2,
   "metadata": {},
   "outputs": [],
   "source": [
    "def Sobolg(x):\n",
    "    dim = 8\n",
    "    a = [1.0,2.0,5.0,10.0,20.0,50.0,100.0,500.0]\n",
    "    PdfType = ['u','u','u','u','u','u','u','u']\n",
    "    Xpar = zeros((dim,2))\n",
    "    SI = zeros((2,dim))\n",
    "    vari = zeros((2,dim))\n",
    "    vary = 1.0\n",
    "    for ii in range(0,dim):\n",
    "        Xpar[ii,1] = 1.0\n",
    "        vari[0,ii] = 1/(3*(1+a[ii])**2)\n",
    "        vary = vary*(vari[0,ii]+1)\n",
    "    vary = vary-1\n",
    "    SI = vari/vary\n",
    "    SI[1,:] = [0.6342,0.2945,0.0756,0.0227,0.0062,0.0011,0.0003,0.0000]\n",
    "    label = [r'$X_1$',r'$X_2$',r'$X_3$',r'$X_4$',r'$X_5$',r'$X_6$',r'$X_7$',r'$X_8$']\n",
    "    if isinstance(x,int):\n",
    "        return dim,PdfType,Xpar,SI,label\n",
    "    else: \n",
    "        y = 1.0\n",
    "        for i in range(0,dim):\n",
    "            y = y*(abs(4*x[:,i]-2)+a[i])/(1+a[i])\n",
    "        return y"
   ]
  },
  {
   "cell_type": "markdown",
   "metadata": {},
   "source": [
    "PCE Projection/Quadrature set up (UQTk quadrature type options: 'LU', 'HG', 'CC', 'CCO', 'NC', 'NCO'):"
   ]
  },
  {
   "cell_type": "code",
   "execution_count": 3,
   "metadata": {},
   "outputs": [],
   "source": [
    "f  = Sobolg # name of model (defined above)\n",
    "PCtype = 'LU' # type of PC basis\n",
    "p  = 3 # order of PCE expansion"
   ]
  },
  {
   "cell_type": "code",
   "execution_count": 4,
   "metadata": {},
   "outputs": [],
   "source": [
    "Qtype  = 'LU' # type of quadrature\n",
    "Qstype = 'sparse'# sparse or tensor grid\n",
    "Qlvl   = 4 #level of quadrature\n",
    "outLog = ' >> out.log'\n",
    "set_printoptions(precision=3,suppress=True)\n",
    "plotPdf =1"
   ]
  },
  {
   "cell_type": "markdown",
   "metadata": {},
   "source": [
    "Extract model/parameter info and print it:"
   ]
  },
  {
   "cell_type": "code",
   "execution_count": 5,
   "metadata": {},
   "outputs": [
    {
     "name": "stdout",
     "output_type": "stream",
     "text": [
      "Dimension :  8\n",
      "Parameter :  $X_1$ u [0. 1.]\n",
      "Parameter :  $X_2$ u [0. 1.]\n",
      "Parameter :  $X_3$ u [0. 1.]\n",
      "Parameter :  $X_4$ u [0. 1.]\n",
      "Parameter :  $X_5$ u [0. 1.]\n",
      "Parameter :  $X_6$ u [0. 1.]\n",
      "Parameter :  $X_7$ u [0. 1.]\n",
      "Parameter :  $X_8$ u [0. 1.]\n"
     ]
    }
   ],
   "source": [
    "d,Xpdftype,Xpdfpar,SI,Xlabel = f(0)\n",
    "SIest = zeros((2,d))\n",
    "SIerr = zeros((2,d))\n",
    "os.system('rm *.dat data/* *.pyc'+outLog)\n",
    "print('Dimension : ', d)\n",
    "for i in range(0,d):\n",
    "    print('Parameter : ', Xlabel[i],Xpdftype[i],Xpdfpar[i,:])"
   ]
  },
  {
   "cell_type": "markdown",
   "metadata": {},
   "source": [
    "Generate quadrature points using UQtk (outputs into a file) and load them, and then convert them into points from given nonstandard distribution:"
   ]
  },
  {
   "cell_type": "code",
   "execution_count": 6,
   "metadata": {},
   "outputs": [],
   "source": [
    "CMD = 'generate_quad -g '+Qtype+' -p '+str(Qlvl)+' -d '+str(d)+' -x '+Qstype\n",
    "os.system(CMD+outLog)\n",
    "Xwts = loadtxt('wghts.dat')\n",
    "Xpts = zeros((len(Xwts),d))\n",
    "Xpts_std = loadtxt('qdpts.dat')"
   ]
  },
  {
   "cell_type": "code",
   "execution_count": 7,
   "metadata": {},
   "outputs": [],
   "source": [
    "for i in range(0,d):\n",
    "    if Xpdftype[i] == 'u':\n",
    "        if d==1:\n",
    "            Xpts[:,i] = 0.5*(Xpdfpar[i,0] + Xpdfpar[i,1]) + 0.5*(Xpdfpar[i,1] - Xpdfpar[i,0])*Xpts_std\n",
    "        else:\n",
    "            Xpts[:,i] = 0.5*(Xpdfpar[i,0] + Xpdfpar[i,1]) + 0.5*(Xpdfpar[i,1] - Xpdfpar[i,0])*Xpts_std[:,i]\n",
    "    elif Xpdftype[i] == 'n':\n",
    "        Xpts[:,i] = Xpdfpar[i,0] + sqrt(Xpdfpar[i,1])*Xpts_std[:,i]\n",
    "Yvals = f(Xpts)\n",
    "savetxt('ydata.dat',Yvals)"
   ]
  },
  {
   "cell_type": "markdown",
   "metadata": {},
   "source": [
    "Computes PCE coefficients, read then from file, compute L2 norm, and print the results:"
   ]
  },
  {
   "cell_type": "code",
   "execution_count": 8,
   "metadata": {},
   "outputs": [],
   "source": [
    "CMD = 'pce_resp -e -x '+PCtype+' -d'+str(d)+' -o'+str(p)\n",
    "os.system(CMD+outLog)\n",
    "PCcoeff = loadtxt('PCcoeff_quad.dat')\n",
    "PCmindex = loadtxt('mindex.dat')\n",
    "Ypc =loadtxt('ydata_pc.dat')\n",
    "L2norm = linalg.norm(multiply(sqrt(abs(Xwts)),Yvals - Ypc),2)\n",
    "PCtermsNZ = sum(1 for i in PCcoeff if abs(i) > 1e-05)"
   ]
  },
  {
   "cell_type": "code",
   "execution_count": 9,
   "metadata": {},
   "outputs": [
    {
     "name": "stdout",
     "output_type": "stream",
     "text": [
      "PCE type   :  LU \n",
      "PCE Dim    :  8 \n",
      "PCE Order  :  3 \n",
      "# PCE terms:  165\n",
      "-------------------\n",
      "Quad type  :  LU \n",
      "Sparse grd?:  sparse \n",
      "Quad Level :  4 \n",
      "#  qpoints :  6401\n",
      "-------------------\n",
      "Non-zero PCE coeffs: ( 9 / 165 )\n",
      "    0  :  [0 0 0 0 0 0 0 0]  :     0.972\n",
      "    9  :  [2 0 0 0 0 0 0 0]  :     0.619\n",
      "   17  :  [0 2 0 0 0 0 0 0]  :     0.393\n",
      "   24  :  [0 0 2 0 0 0 0 0]  :     0.155\n",
      "   30  :  [0 0 0 2 0 0 0 0]  :     0.042\n",
      "   35  :  [0 0 0 0 2 0 0 0]  :    -0.024\n",
      "   39  :  [0 0 0 0 0 2 0 0]  :    -0.067\n",
      "   42  :  [0 0 0 0 0 0 2 0]  :    -0.082\n",
      "   44  :  [0 0 0 0 0 0 0 2]  :    -0.094\n",
      "-------------------\n",
      "L2 Error   :  5.622936555044827\n"
     ]
    }
   ],
   "source": [
    "print('PCE type   : ',PCtype,'\\nPCE Dim    : ',d,'\\nPCE Order  : ',p,'\\n# PCE terms: ',len(PCcoeff))\n",
    "print('-------------------')\n",
    "print('Quad type  : ',Qtype,'\\nSparse grd?: ',Qstype,'\\nQuad Level : ',Qlvl,'\\n#  qpoints : ',Xpts.shape[0])\n",
    "print('-------------------')\n",
    "print('Non-zero PCE coeffs: (',PCtermsNZ,'/', len(PCcoeff),')')\n",
    "for i,mi in enumerate(PCmindex):\n",
    "    if abs(PCcoeff[i]) > 1e-05:\n",
    "        print('{:5d}'.format(i),' : ', mi.astype(int),' : ', '{:8.3f}'.format(PCcoeff[i]))\n",
    "print('-------------------')\n",
    "print('L2 Error   : ', L2norm)\n",
    "os.system('mv ydata.dat ydata_qdpts.dat')\n",
    "os.system('mv ydata_pc.dat ydata_qdpts_pc.dat');"
   ]
  },
  {
   "cell_type": "markdown",
   "metadata": {},
   "source": [
    "Compute sensitvity indices using PCE coefficients and print the estimated vs analytical SI values:"
   ]
  },
  {
   "cell_type": "code",
   "execution_count": 10,
   "metadata": {},
   "outputs": [
    {
     "name": "stdout",
     "output_type": "stream",
     "text": [
      "\n",
      "S_i  (Ex.):  [0.604 0.268 0.067 0.02  0.005 0.001 0.    0.   ] \n",
      "S_Ti (Ex.):  [0.634 0.294 0.076 0.023 0.006 0.001 0.    0.   ]\n",
      "S_i  (PCE):  [0.657 0.264 0.041 0.003 0.001 0.008 0.011 0.015] \n",
      "S_Ti (PCE):  [0.657 0.264 0.041 0.003 0.001 0.008 0.011 0.015]\n",
      "S_i (err%):  [ 8.761  1.639 38.728 84.623  0.     0.     0.     0.   ] \n",
      "S_Ti(err%):  [ 3.539 10.379 45.631 86.48   0.     0.     0.     0.   ]\n"
     ]
    },
    {
     "data": {
      "image/png": "[encoded data removed]",
      "text/plain": [
       "<matplotlib.figure.Figure at 0x7f48cec72320>"
      ]
     },
     "metadata": {},
     "output_type": "display_data"
    },
    {
     "data": {
      "image/png": "[encoded data removed]",
      "text/plain": [
       "<matplotlib.figure.Figure at 0x7f48c18902e8>"
      ]
     },
     "metadata": {},
     "output_type": "display_data"
    }
   ],
   "source": [
    "if d > 1:\n",
    "    CMD = 'pce_sens -m mindex.dat -f PCcoeff_quad.dat -x'+PCtype\n",
    "    os.system(CMD+outLog)\n",
    "    SIest[0,:] = loadtxt('mainsens.dat')\n",
    "    SIest[1,:] = loadtxt('totsens.dat')\n",
    "    for i in range(0,d):\n",
    "        for ii in range(0,2):\n",
    "            if SI[ii,i] > 1e-02: \n",
    "                SIerr[ii,i] = 100*abs(SIest[ii,i] - SI[ii,i])/SI[ii,i]\n",
    "            else:\n",
    "                SIerr[ii,i] = 0.0 \n",
    "    print('\\nS_i  (Ex.): ', SI[0,:],'\\nS_Ti (Ex.): ', SI[1,:])\n",
    "    print('S_i  (PCE): ', SIest[0,:],'\\nS_Ti (PCE): ', SIest[1,:])\n",
    "    print('S_i (err%): ', SIerr[0,:],'\\nS_Ti(err%): ', SIerr[1,:])\n",
    "    fig = plt.figure(1)\n",
    "    x =range(1,d+1)\n",
    "    plt.plot(x,SI[0,:],'bo',label='Analytical')\n",
    "    plt.plot(x,SIest[0,:],'r*',label='PCE surrogate')\n",
    "    plt.grid(True)\n",
    "    plt.ylim(-0.1,1.1)\n",
    "    plt.ylabel(r'$S_i$ (Main effects)')\n",
    "    plt.legend(loc='best', numpoints = 1)\n",
    "    plt.xticks(x,Xlabel)\n",
    "    plt.savefig('GSA_PCE_foSI.pdf',bbox_inches='tight')\n",
    "    fig = plt.figure(2)\n",
    "    x =range(1,d+1)\n",
    "    plt.plot(x,SI[1,:],'bo',label='Analytical')\n",
    "    plt.plot(x,SIest[1,:],'r*',label='PCE surrogate')\n",
    "    plt.grid(True)\n",
    "    plt.ylim(-0.1,1.1)\n",
    "    plt.legend(loc='best', numpoints = 1)\n",
    "    plt.ylabel(r'$S_{T_i}$ (Total effects)')\n",
    "    plt.xticks(x,Xlabel)\n",
    "    plt.savefig('GSA_PCE_toSI.pdf',bbox_inches='tight')"
   ]
  },
  {
   "cell_type": "markdown",
   "metadata": {},
   "source": [
    "Plotting the true vs PCE surrogate pdf of the output Y, this checks for goodness of PCE surrogate, along with L2 error above:  "
   ]
  },
  {
   "cell_type": "code",
   "execution_count": 11,
   "metadata": {},
   "outputs": [
    {
     "data": {
      "image/png": "[encoded data removed]",
      "text/plain": [
       "<matplotlib.figure.Figure at 0x7f48cecaad68>"
      ]
     },
     "metadata": {},
     "output_type": "display_data"
    }
   ],
   "source": [
    "if plotPdf == 1:\n",
    "    M = 100000\n",
    "    Xspls = zeros((M,d))\n",
    "    Xspls_std = zeros((M,d))\n",
    "    for i in range(0,d):\n",
    "        RndSeed = 100+i\n",
    "        if (Xpdftype[i] == 'u'):\n",
    "            CMD1 = 'trdSpls -a -1 -b 1 -n '+str(M)+' -i '+str(RndSeed)+' -f spls.dat -t u'\n",
    "            os.system(CMD1)\n",
    "            Xstd = loadtxt('spls.dat')\n",
    "            Xnew = 0.5*(Xpdfpar[i,0] + Xpdfpar[i,1]) + 0.5*(Xpdfpar[i,1] - Xpdfpar[i,0])*Xstd\n",
    "        elif (Xpdftype[i] == 'n'):\n",
    "            CMD1 = 'trdSpls -a '+str(-100000)+' -b '+str(100000) \\\n",
    "                    +' -m 0 -s 1 -n '+str(M)+' -i '+str(RndSeed)+' -f spls.dat  -t n'\n",
    "            os.system(CMD1)\n",
    "            Xstd = loadtxt('spls.dat')\n",
    "            Xnew = Xpdfpar[i,0] + sqrt(Xpdfpar[i,1])*Xstd\n",
    "        Xspls[:,i] = Xnew\n",
    "        Xspls_std[:,i] = Xstd\n",
    "    os.system('rm spls.dat')\n",
    "    Ymc = f(Xspls)\n",
    "    savetxt('ydata_mc.dat',Ymc)\n",
    "    savetxt('xdata.dat',Xspls_std)\n",
    "    CMD6 = 'pdf_cl -i ydata_mc.dat'\n",
    "    os.system(CMD6)\n",
    "    YmcDens = loadtxt('dens.dat')\n",
    "    CMD7 = 'pce_eval -x PC_mi -f PCcoeff_quad.dat -o '+str(p)+' -s '+PCtype\n",
    "    os.system(CMD7+outLog)\n",
    "    os.system('mv ydata.dat ydata_mc_pc.dat')\n",
    "    CMD8 = 'pdf_cl -i ydata_mc_pc.dat'\n",
    "    os.system(CMD8)\n",
    "    YmcpcDens = loadtxt('dens.dat')\n",
    "    fig = plt.figure(3)\n",
    "    plt.plot(YmcDens[:,0],YmcDens[:,1],'k-',label='True')\n",
    "    plt.plot(YmcpcDens[:,0],YmcpcDens[:,1],'r-',label='PCE surrogate')\n",
    "    plt.grid(True)\n",
    "    plt.legend(loc='best', numpoints = 1)\n",
    "    plt.ylabel('Distribution of Y')\n",
    "    plt.xlabel('Y')\n",
    "    plt.savefig('GSA_PCE_projection_ydens.pdf',bbox_inches='tight')"
   ]
  },
  {
   "cell_type": "code",
   "execution_count": null,
   "metadata": {},
   "outputs": [],
   "source": []
  },
  {
   "cell_type": "code",
   "execution_count": null,
   "metadata": {},
   "outputs": [],
   "source": []
  }
 ],
 "metadata": {
  "kernelspec": {
   "display_name": "Python 3",
   "language": "python",
   "name": "python3"
  },
  "language_info": {
   "codemirror_mode": {
    "name": "ipython",
    "version": 3
   },
   "file_extension": ".py",
   "mimetype": "text/x-python",
   "name": "python",
   "nbconvert_exporter": "python",
   "pygments_lexer": "ipython3",
   "version": "3.6.4"
  }
 },
 "nbformat": 4,
 "nbformat_minor": 2
}
