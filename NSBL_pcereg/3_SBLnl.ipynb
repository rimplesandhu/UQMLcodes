{
 "cells": [
  {
   "cell_type": "markdown",
   "metadata": {},
   "source": [
    "##### Plot posterior pdf, lik function and prior for a given hyperparameter value"
   ]
  },
  {
   "cell_type": "code",
   "execution_count": 1,
   "metadata": {},
   "outputs": [],
   "source": [
    "#!/usr/bin/python\n",
    "import numpy as np\n",
    "import numpy.linalg as la\n",
    "import scipy.stats as st\n",
    "import scipy.optimize as sopt\n",
    "import matplotlib as mpl\n",
    "import matplotlib.pyplot as plt\n",
    "import os, math, sys\n",
    "np.random.seed(88)\n",
    "#os.system('rm *.pdf *.eps *.png');"
   ]
  },
  {
   "cell_type": "code",
   "execution_count": 2,
   "metadata": {},
   "outputs": [],
   "source": [
    "K = 1 # number of kernels\n",
    "polyPower = [0,1,2,3,4,5] # powers of polynomial\n",
    "Nphi = len(polyPower) # number of basis\n",
    "LogAlp0 = 5*np.array([1]*Nphi)\n",
    "rCoeff = 1e-05*np.ones((1,Nphi)) \n",
    "sCoeff = 1e-05*np.ones((1,Nphi))\n",
    "aCoeff  = np.ones((1,K)) \n",
    "muVec  = np.zeros((Nphi,K))\n",
    "SigMat = np.zeros((Nphi,Nphi,K))"
   ]
  },
  {
   "cell_type": "code",
   "execution_count": 3,
   "metadata": {},
   "outputs": [],
   "source": [
    "def basisFun(Xth,ith):\n",
    "    return Xth**polyPower[ith]\n",
    "rho0 = 100 # Starting error precision\n",
    "Yobs = np.loadtxt('Ydata.dat') \n",
    "Xobs = np.loadtxt('Xdata.dat')\n",
    "M = len(Yobs)\n",
    "Phi = np.zeros((M,Nphi))\n",
    "for i in range(0,M):\n",
    "    for j in range(0,Nphi):\n",
    "        Phi[i,j] = basisFun(Xobs[i],j)\n",
    "pTpinv = la.inv(Phi.T@Phi)\n",
    "mtmp = np.dot(Yobs,(np.eye(M) - Phi@pTpinv@Phi.T)@Yobs)\n",
    "aCoeff[0,0] = np.power(rho0/(2*np.pi),0.5*(M-Nphi))*np.sqrt(la.det(pTpinv))*np.exp(-0.5*rho0*mtmp)\n",
    "muVec[:,0] = pTpinv@Phi.T@Yobs\n",
    "SigMat[:,:,0] = pTpinv/rho0 \n",
    "# wtry = np.asarray([1.0,0.2,1.0,-0.3,0.2,-0.1])\n",
    "# lika = np.log(st.multivariate_normal.pdf(Yobs,Phi@wtry,np.eye(M)/rho0))\n",
    "# likb = np.log(aCoeff[0,0]*st.multivariate_normal.pdf(wtry,muVec[:,0],SigMat[:,:,0]))\n",
    "# print(lika,likb)"
   ]
  },
  {
   "cell_type": "code",
   "execution_count": 4,
   "metadata": {},
   "outputs": [],
   "source": [
    "def NSBL(logalpIN):\n",
    "    alp = np.exp(logalpIN)\n",
    "    A = np.diag(alp)\n",
    "    Ainv = np.diag(1/alp)\n",
    "    Bmat = np.zeros((Nphi,Nphi,K))\n",
    "    Pmat = np.zeros((Nphi,Nphi,K))\n",
    "    mVec = np.zeros((Nphi,K))\n",
    "    wVec = np.zeros((1,K))\n",
    "    vVec = np.zeros((Nphi,K))\n",
    "    vbarVec = np.zeros((Nphi,1))\n",
    "    jVec = np.zeros((Nphi,1))\n",
    "    Hmat = np.zeros((Nphi,Nphi))\n",
    "    for k in range(0,K):\n",
    "        Bmat[:,:,k] = SigMat[:,:,k] + Ainv\n",
    "        Pmat[:,:,k] = Ainv - Ainv@la.inv(Bmat[:,:,k])@Ainv\n",
    "        mVec[:,k]   = Pmat[:,:,k]@la.inv(SigMat[:,:,k])@muVec[:,k]\n",
    "        wVec[0,k]   = aCoeff[0,k]*st.multivariate_normal.pdf(muVec[:,k],[0]*Nphi,Bmat[:,:,k])\n",
    "        for ii in range(0,Nphi):\n",
    "            vVec[ii,k] = 0.5*(1.0 - alp[ii]*(Pmat[ii,ii,k] + mVec[ii,k]**2))\n",
    "    evid = np.sum(wVec)\n",
    "    wVec = wVec/evid\n",
    "    objFun = np.log(evid) + np.dot(rCoeff[0,:],logalpIN) - np.dot(sCoeff[0,:],alp)\n",
    "    for ii in range(0,Nphi):\n",
    "        vbarVec[ii,0] = np.dot(wVec[0,:],vVec[ii,:])\n",
    "        jVec[ii,0]   = vbarVec[ii,0] + rCoeff[0,ii] - sCoeff[0,ii]*alp[ii]\n",
    "        for jj in range(0,ii):\n",
    "            Hmat[ii,jj] = Hmat[jj,ii]\n",
    "        for jj in range(ii,Nphi):\n",
    "            tmpij = 1.0 if ii==jj else 0.0\n",
    "            for k in range(0,K):\n",
    "                Hmat[ii,jj] = Hmat[ii,jj] + wVec[0,k]*(alp[ii]*alp[jj]*(0.5*Pmat[ii,jj,k]**2 \\\n",
    "                                    + mVec[ii,k]*mVec[jj,k]*Pmat[ii,jj,k]) \\\n",
    "                                    + vVec[jj,k]*(vVec[ii,k] - vbarVec[ii,0]))\n",
    "            Hmat[ii,jj] = Hmat[ii,jj] + tmpij*(vbarVec[ii,0] - sCoeff[0,ii]*alp[ii] - 0.5)\n",
    "    return np.log(evid), objFun, jVec[:,0], Hmat"
   ]
  },
  {
   "cell_type": "code",
   "execution_count": 5,
   "metadata": {},
   "outputs": [],
   "source": [
    "def myFun(xin):\n",
    "    _, Otmp, Jtmp, _ = NSBL(xin)\n",
    "    return -Otmp, -Jtmp\n",
    "def myFunb(xin):\n",
    "    _, Otmp, _, _ = NSBL(xin)\n",
    "    return -Otmp\n",
    "def myFunHess(xin):\n",
    "    _, _, _, Htmp = NSBL(xin)\n",
    "    return -Htmp"
   ]
  },
  {
   "cell_type": "code",
   "execution_count": 6,
   "metadata": {},
   "outputs": [
    {
     "name": "stdout",
     "output_type": "stream",
     "text": [
      " allvecs: [array([5., 5., 5., 5., 5., 5.]), array([4.10672935, 5.13184671, 5.13662078, 5.17020508, 5.19214514,\n",
      "       4.68356798]), array([3.41662927, 3.3913437 , 5.57728641, 5.29251983, 5.26364219,\n",
      "       4.1542739 ]), array([2.7105173 , 2.01524089, 6.97266989, 6.89526649, 6.76952726,\n",
      "       1.54196358]), array([1.75602414, 1.38588497, 5.40792114, 5.36571539, 5.24019781,\n",
      "       1.27904365]), array([0.93526492, 1.08225419, 3.31911132, 3.08942133, 2.86012916,\n",
      "       1.43650718]), array([0.93526492, 1.08225419, 3.31911132, 3.08942133, 2.86012916,\n",
      "       1.43650718]), array([0.36440041, 1.21516748, 3.21342778, 2.36455117, 1.22635217,\n",
      "       2.27793037]), array([0.12144932, 1.25045165, 3.68724859, 2.45531394, 1.50067719,\n",
      "       3.32862138]), array([0.12144932, 1.25045165, 3.68724859, 2.45531394, 1.50067719,\n",
      "       3.32862138]), array([0.08062079, 1.23070715, 3.67922852, 2.96256944, 1.10650845,\n",
      "       4.09360617]), array([0.09074483, 1.19298486, 4.39685705, 2.99614184, 1.15853183,\n",
      "       4.95466443]), array([0.09347017, 1.16171604, 4.97289986, 3.47436698, 1.07283672,\n",
      "       5.5585352 ]), array([0.09304951, 1.16699974, 5.03817791, 3.53566694, 1.08754252,\n",
      "       5.65773538]), array([0.09333442, 1.16388825, 5.04321151, 3.63259212, 1.07972449,\n",
      "       5.65834693]), array([0.09329675, 1.16429687, 5.04295705, 3.62343822, 1.08075341,\n",
      "       5.65842399]), array([0.09329572, 1.1643079 , 5.04294969, 3.62310204, 1.08078105,\n",
      "       5.65842575])]\n",
      "     fun: -13.43667145931007\n",
      "    hess: array([[ 4.97624278e-01,  9.48879824e-03, -5.15301617e-04,\n",
      "        -1.36733321e-03, -4.31622780e-03,  6.21076551e-05],\n",
      "       [ 9.48879824e-03,  4.40691351e-01,  6.50774001e-03,\n",
      "         1.41401065e-02,  2.14438168e-02, -1.00921407e-03],\n",
      "       [-5.15301617e-04,  6.50774001e-03,  3.21528391e-03,\n",
      "         5.37709176e-04,  5.63718855e-03,  2.03766916e-05],\n",
      "       [-1.36733321e-03,  1.41401065e-02,  5.37709176e-04,\n",
      "         2.94982846e-03,  2.88439781e-02,  2.34518556e-04],\n",
      "       [-4.31622780e-03,  2.14438168e-02,  5.63718855e-03,\n",
      "         2.88439781e-02,  3.94406452e-01,  3.25215915e-03],\n",
      "       [ 6.21076551e-05, -1.00921407e-03,  2.03766916e-05,\n",
      "         2.34518556e-04,  3.25215915e-03,  5.73669892e-03]])\n",
      "     jac: array([ 5.35719466e-11, -7.84827077e-10, -2.92959905e-11, -5.00454573e-11,\n",
      "       -1.62055377e-09, -1.28948263e-11])\n",
      " message: 'Optimization terminated successfully.'\n",
      "    nfev: 17\n",
      "    nhev: 17\n",
      "     nit: 16\n",
      "    njev: 15\n",
      "  status: 0\n",
      " success: True\n",
      "       x: array([0.09329572, 1.1643079 , 5.04294969, 3.62310204, 1.08078105,\n",
      "       5.65842575])\n",
      "1.0977863280371092\n",
      "3.203704833976683\n",
      "154.92632623064867\n",
      "37.453570328016596\n",
      "2.946980385539422\n",
      "286.69695566279785\n",
      "[5. 5. 5. 5. 5. 5.] -67.7338883709789 -67.74249316052506\n",
      "log-evid 13.436671459280323\n"
     ]
    }
   ],
   "source": [
    "maxIter = 100\n",
    "ftol = 1e-6\n",
    "jtol = 1e-6\n",
    "#res = sopt.minimize(myFun, LogAlp0, method='Newton-CG',jac=True, hess=myFunHess, \\\n",
    "#                    options={'maxiter':maxIter,'return_all': True,'xtol':ftol})\n",
    "#res = sopt.minimize(myFun, LogAlp0, method='trust-ncg',jac=True, hess=myFunHess, \\\n",
    "#                    options={'maxiter':maxIter,'return_all': True,'gtol':jtol})\n",
    "res = sopt.minimize(myFun, LogAlp0, method='trust-exact',jac=True, hess=myFunHess, \\\n",
    "                    options={'maxiter':maxIter,'return_all': True,'gtol':jtol})\n",
    "print(res)\n",
    "LogAlpIter = np.zeros((res.nit,Nphi))\n",
    "fevalIter = np.zeros((res.nit,2))\n",
    "for i in range(0,res.nit):\n",
    "    LogAlpIter[i,:] = res.allvecs[i]\n",
    "    fevalIter[i,0], fevalIter[i,1], _, _ = NSBL(LogAlpIter[i,:])\n",
    "for i in range(0,Nphi):\n",
    "    print(np.exp(res.x[i]))\n",
    "np.savetxt('SBLnl_feval.dat',fevalIter[:,1])\n",
    "print(LogAlpIter[0,:],fevalIter[0,0],fevalIter[0,1])\n",
    "print('log-evid',fevalIter[-1,1])"
   ]
  },
  {
   "cell_type": "code",
   "execution_count": 7,
   "metadata": {},
   "outputs": [
    {
     "data": {
      "image/png": "[encoded data removed]",
      "text/plain": [
       "<Figure size 432x288 with 1 Axes>"
      ]
     },
     "metadata": {},
     "output_type": "display_data"
    }
   ],
   "source": [
    "mpl.rcParams.update({'font.size':14})\n",
    "plt.figure(1)\n",
    "plt.plot(fevalIter[:,0],'k.')\n",
    "plt.plot(fevalIter[:,0],'k-',label='Log-evidence')\n",
    "plt.plot(fevalIter[:,1],'r.')\n",
    "plt.plot(fevalIter[:,1],'r-',label='Objective function')\n",
    "#plt.legend(loc='best', numpoints = 1)\n",
    "plt.legend(loc='lower right', numpoints = 1)\n",
    "plt.grid(True)\n",
    "plt.xlabel('Iteration')\n",
    "plt.savefig('figs/plot_feval.eps',bbox_inches='tight')"
   ]
  },
  {
   "cell_type": "code",
   "execution_count": null,
   "metadata": {},
   "outputs": [],
   "source": []
  }
 ],
 "metadata": {
  "kernelspec": {
   "display_name": "Python 3",
   "language": "python",
   "name": "python3"
  },
  "language_info": {
   "codemirror_mode": {
    "name": "ipython",
    "version": 3
   },
   "file_extension": ".py",
   "mimetype": "text/x-python",
   "name": "python",
   "nbconvert_exporter": "python",
   "pygments_lexer": "ipython3",
   "version": "3.6.4"
  }
 },
 "nbformat": 4,
 "nbformat_minor": 2
}
