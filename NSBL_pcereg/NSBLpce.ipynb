{
 "cells": [
  {
   "cell_type": "code",
   "execution_count": 1,
   "metadata": {},
   "outputs": [],
   "source": [
    "#!/usr/bin/python\n",
    "import os, math, sys, random\n",
    "import numpy as np\n",
    "import numpy.linalg as la\n",
    "import scipy.stats as st\n",
    "import scipy.optimize as sopt\n",
    "import matplotlib as mpl\n",
    "import matplotlib.pyplot as plt\n",
    "import pyDOE as doe\n",
    "from scipy.special import legendre\n",
    "random.seed(106) # fixing the random seed"
   ]
  },
  {
   "cell_type": "code",
   "execution_count": 2,
   "metadata": {},
   "outputs": [],
   "source": [
    "PCEord = 7\n",
    "rho0= 1\n",
    "LogAlpStart = -4\n",
    "hypPrPar = 1e-05"
   ]
  },
  {
   "cell_type": "code",
   "execution_count": 3,
   "metadata": {},
   "outputs": [],
   "source": [
    "Yobs = np.loadtxt('Ydata.dat') \n",
    "Xobs = np.loadtxt('Xdata.dat')\n",
    "M = len(Yobs)\n",
    "Ndim = np.size(Xobs,1)"
   ]
  },
  {
   "cell_type": "code",
   "execution_count": 4,
   "metadata": {},
   "outputs": [
    {
     "name": "stdout",
     "output_type": "stream",
     "text": [
      "300 3 7 120\n"
     ]
    }
   ],
   "source": [
    "CMD = 'gen_mi -p '+str(PCEord)+' -q '+str(Ndim)+' >> out.log'\n",
    "os.system(CMD)\n",
    "PCEmi = np.loadtxt('mindex.dat')\n",
    "Nphi = np.size(PCEmi,0)\n",
    "print(M,Ndim,PCEord,Nphi)"
   ]
  },
  {
   "cell_type": "code",
   "execution_count": 5,
   "metadata": {},
   "outputs": [],
   "source": [
    "K = 1 # number of kernels\n",
    "LogAlp0 = LogAlpStart*np.array([1]*Nphi)\n",
    "rCoeff = hypPrPar*np.ones((1,Nphi)) \n",
    "sCoeff = hypPrPar*np.ones((1,Nphi))\n",
    "muVec  = np.zeros((Nphi,K))\n",
    "SigMat = np.zeros((Nphi,Nphi,K))\n",
    "Phi = np.zeros((M,Nphi))\n",
    "for i in range(0,M):\n",
    "    for j in range(0,Nphi):\n",
    "        tmp = 1.0\n",
    "        for k in range(0,Ndim):\n",
    "            tmp = tmp*np.polyval(legendre(PCEmi[j,k]),Xobs[i,k])\n",
    "        Phi[i,j] = tmp\n",
    "pTpinv = la.inv(Phi.T@Phi)\n",
    "#print(la.eig(Phi.T@Phi))\n",
    "mtmp = np.dot(Yobs,(np.eye(M) - Phi@pTpinv@Phi.T)@Yobs)\n",
    "muVec[:,0] = pTpinv@Phi.T@Yobs\n",
    "SigMat[:,:,0] = pTpinv/rho0 \n",
    "#print(np.exp(-0.5*rho0*mtmp),mtmp,np.sqrt(la.det(pTpinv)),aCoeff[0,0])"
   ]
  },
  {
   "cell_type": "code",
   "execution_count": 6,
   "metadata": {},
   "outputs": [],
   "source": [
    "def NSBL(logalpIN):\n",
    "    alp = np.exp(logalpIN)\n",
    "    A = np.diag(alp)\n",
    "    Ainv = np.diag(1/alp)\n",
    "    Bmat = np.zeros((Nphi,Nphi,K))\n",
    "    Pmat = np.zeros((Nphi,Nphi,K))\n",
    "    mVec = np.zeros((Nphi,K))\n",
    "    wVec = np.zeros((1,K))\n",
    "    vVec = np.zeros((Nphi,K))\n",
    "    vbarVec = np.zeros((Nphi,1))\n",
    "    jVec = np.zeros((Nphi,1))\n",
    "    Hmat = np.zeros((Nphi,Nphi))\n",
    "    for k in range(0,K):\n",
    "        Bmat[:,:,k] = SigMat[:,:,k] + Ainv\n",
    "        Pmat[:,:,k] = Ainv - Ainv@la.inv(Bmat[:,:,k])@Ainv\n",
    "        mVec[:,k]   = Pmat[:,:,k]@la.inv(SigMat[:,:,k])@muVec[:,k]\n",
    "        wVec[0,k]   = st.multivariate_normal.pdf(muVec[:,k],[0]*Nphi,Bmat[:,:,k])\n",
    "        for ii in range(0,Nphi):\n",
    "            vVec[ii,k] = 0.5*(1.0 - alp[ii]*(Pmat[ii,ii,k] + mVec[ii,k]**2))\n",
    "    evid = np.sum(wVec)\n",
    "    wVec = wVec/evid\n",
    "    objFun = np.log(evid) + np.dot(rCoeff[0,:],logalpIN) - np.dot(sCoeff[0,:],alp)\n",
    "    for ii in range(0,Nphi):\n",
    "        vbarVec[ii,0] = np.dot(wVec[0,:],vVec[ii,:])\n",
    "        jVec[ii,0]   = vbarVec[ii,0] + rCoeff[0,ii] - sCoeff[0,ii]*alp[ii]\n",
    "        for jj in range(0,ii):\n",
    "            Hmat[ii,jj] = Hmat[jj,ii]\n",
    "        for jj in range(ii,Nphi):\n",
    "            tmpij = 1.0 if ii==jj else 0.0\n",
    "            for k in range(0,K):\n",
    "                Hmat[ii,jj] = Hmat[ii,jj] + wVec[0,k]*(alp[ii]*alp[jj]*(0.5*Pmat[ii,jj,k]**2 \\\n",
    "                                    + mVec[ii,k]*mVec[jj,k]*Pmat[ii,jj,k]) \\\n",
    "                                    + vVec[jj,k]*(vVec[ii,k] - vbarVec[ii,0]))\n",
    "            Hmat[ii,jj] = Hmat[ii,jj] + tmpij*(vbarVec[ii,0] - sCoeff[0,ii]*alp[ii] - 0.5)\n",
    "    return np.log(evid), objFun, jVec[:,0], Hmat"
   ]
  },
  {
   "cell_type": "code",
   "execution_count": 7,
   "metadata": {},
   "outputs": [],
   "source": [
    "def myFun(xin):\n",
    "    _, Otmp, Jtmp, _ = NSBL(xin)\n",
    "    return -Otmp, -Jtmp\n",
    "def myFunb(xin):\n",
    "    _, Otmp, _, _ = NSBL(xin)\n",
    "    return -Otmp\n",
    "def myFunHess(xin):\n",
    "    _, _, _, Htmp = NSBL(xin)\n",
    "    return -Htmp"
   ]
  },
  {
   "cell_type": "code",
   "execution_count": 8,
   "metadata": {},
   "outputs": [],
   "source": [
    "maxIter = 100\n",
    "ftol = 1e-10\n",
    "jtol = 1e-10\n",
    "#res = sopt.minimize(myFun, LogAlp0, method='Newton-CG',jac=True, hess=myFunHess, \\\n",
    "#                    options={'maxiter':maxIter,'return_all': True,'xtol':ftol})\n",
    "#res = sopt.minimize(myFun, LogAlp0, method='trust-ncg',jac=True, hess=myFunHess, \\\n",
    "#                    options={'maxiter':maxIter,'return_all': True,'gtol':jtol})\n",
    "res = sopt.minimize(myFun, LogAlp0, method='trust-exact',jac=True, hess=myFunHess, \\\n",
    "                    options={'maxiter':maxIter,'return_all': True,'gtol':jtol})\n",
    "#print(res)"
   ]
  },
  {
   "cell_type": "code",
   "execution_count": 9,
   "metadata": {},
   "outputs": [
    {
     "name": "stdout",
     "output_type": "stream",
     "text": [
      "0 0.08155353946004384\n",
      "1 0.1251419066923765\n",
      "7 0.5719119639197111\n",
      "10 0.08470453602892776\n",
      "15 0.035414485142503074\n",
      "30 0.02917756567409833\n",
      "40 0.024120271878639493\n",
      "49 0.21359482723163528\n",
      "77 0.041808343934968434\n",
      "89 0.7647214210763753\n",
      "98 0.1571439426996215\n",
      "[-4. -4. -4. -4. -4. -4. -4. -4. -4. -4. -4. -4. -4. -4. -4. -4. -4. -4.\n",
      " -4. -4. -4. -4. -4. -4. -4. -4. -4. -4. -4. -4. -4. -4. -4. -4. -4. -4.\n",
      " -4. -4. -4. -4. -4. -4. -4. -4. -4. -4. -4. -4. -4. -4. -4. -4. -4. -4.\n",
      " -4. -4. -4. -4. -4. -4. -4. -4. -4. -4. -4. -4. -4. -4. -4. -4. -4. -4.\n",
      " -4. -4. -4. -4. -4. -4. -4. -4. -4. -4. -4. -4. -4. -4. -4. -4. -4. -4.\n",
      " -4. -4. -4. -4. -4. -4. -4. -4. -4. -4. -4. -4. -4. -4. -4. -4. -4. -4.\n",
      " -4. -4. -4. -4. -4. -4. -4. -4. -4. -4. -4. -4.] -353.2972093528461 -353.30203133161274\n",
      "log-evid -58.65814332201879\n"
     ]
    }
   ],
   "source": [
    "LogAlpIter = np.zeros((res.nit,Nphi))\n",
    "fevalIter = np.zeros((res.nit,2))\n",
    "for i in range(0,res.nit):\n",
    "    LogAlpIter[i,:] = res.allvecs[i]\n",
    "    fevalIter[i,0], fevalIter[i,1], _, _ = NSBL(LogAlpIter[i,:])\n",
    "for i in range(0,Nphi):\n",
    "    if np.exp(res.x[i]) < 1.0:\n",
    "        print(i,np.exp(res.x[i])) \n",
    "np.savetxt('SBLnl_feval.dat',fevalIter[:,1])\n",
    "print(LogAlpIter[0,:],fevalIter[0,0],fevalIter[0,1])\n",
    "print('log-evid',fevalIter[-1,1])"
   ]
  },
  {
   "cell_type": "code",
   "execution_count": 10,
   "metadata": {},
   "outputs": [
    {
     "data": {
      "image/png": "[encoded data removed]",
      "text/plain": [
       "<Figure size 432x288 with 1 Axes>"
      ]
     },
     "metadata": {},
     "output_type": "display_data"
    }
   ],
   "source": [
    "mpl.rcParams.update({'font.size':14})\n",
    "plt.figure(1)\n",
    "plt.plot(fevalIter[:,0],'k.')\n",
    "plt.plot(fevalIter[:,0],'k-',label='Log-evidence')\n",
    "plt.plot(fevalIter[:,1],'r.')\n",
    "plt.plot(fevalIter[:,1],'r-',label='Objective function')\n",
    "#plt.legend(loc='best', numpoints = 1)\n",
    "plt.legend(loc='lower right', numpoints = 1)\n",
    "plt.grid(True)\n",
    "plt.xlabel('Iteration')\n",
    "plt.savefig('plot_feval.eps',bbox_inches='tight')"
   ]
  },
  {
   "cell_type": "code",
   "execution_count": null,
   "metadata": {},
   "outputs": [],
   "source": []
  }
 ],
 "metadata": {
  "kernelspec": {
   "display_name": "Python 3",
   "language": "python",
   "name": "python3"
  },
  "language_info": {
   "codemirror_mode": {
    "name": "ipython",
    "version": 3
   },
   "file_extension": ".py",
   "mimetype": "text/x-python",
   "name": "python",
   "nbconvert_exporter": "python",
   "pygments_lexer": "ipython3",
   "version": "3.6.4"
  }
 },
 "nbformat": 4,
 "nbformat_minor": 2
}
