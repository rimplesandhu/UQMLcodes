{
 "cells": [
  {
   "cell_type": "code",
   "execution_count": 1,
   "metadata": {},
   "outputs": [],
   "source": [
    "#!/usr/bin/python\n",
    "import os, math, sys, random\n",
    "import numpy as np\n",
    "import numpy.linalg as la\n",
    "import scipy.stats as st\n",
    "import matplotlib as mpl\n",
    "import matplotlib.pyplot as plt\n",
    "import pyDOE as doe\n",
    "random.seed(106) # fixing the random seed"
   ]
  },
  {
   "cell_type": "code",
   "execution_count": 2,
   "metadata": {},
   "outputs": [],
   "source": [
    "Ndim = 3\n",
    "Nspl = 300\n",
    "def Ishigami(xIN):\n",
    "    return np.sin(xIN[:,0]) + 7.0*(np.sin(xIN[:,1]))**2 + 0.1*(xIN[:,2]**4)*np.sin(xIN[:,0])"
   ]
  },
  {
   "cell_type": "code",
   "execution_count": 3,
   "metadata": {},
   "outputs": [
    {
     "name": "stdout",
     "output_type": "stream",
     "text": [
      "new candidate solution found with max,abs corrcoef = 0.9999999997352594\n",
      "0.9999225129914779 -0.9972133166642949\n",
      "3.141349220973072 -3.132838029694461\n"
     ]
    }
   ],
   "source": [
    "# generate latin hypercude samples from X\n",
    "Slhs = doe.lhs(Ndim,samples=Nspl,criterion='corr')\n",
    "Zpts = np.zeros((Nspl,Ndim))\n",
    "Xpts = np.zeros((Nspl,Ndim))\n",
    "for i in range(0,Ndim):\n",
    "    Zpts[:,i] = -1.0+ 2.0*Slhs[:,i]\n",
    "    Xpts[:,i] = -np.pi + 2.0*np.pi*Slhs[:,i]\n",
    "print(np.max(Zpts),np.min(Zpts))\n",
    "print(np.max(Xpts),np.min(Xpts))\n",
    "Yvals = Ishigami(Xpts)\n",
    "np.savetxt('Ydata.dat',Yvals)\n",
    "np.savetxt('Xdata.dat',Zpts)"
   ]
  },
  {
   "cell_type": "code",
   "execution_count": 4,
   "metadata": {},
   "outputs": [
    {
     "data": {
      "text/plain": [
       "[<matplotlib.lines.Line2D at 0x7f69b47d44a8>]"
      ]
     },
     "execution_count": 4,
     "metadata": {},
     "output_type": "execute_result"
    },
    {
     "data": {
      "image/png": "[encoded data removed]",
      "text/plain": [
       "<Figure size 432x288 with 1 Axes>"
      ]
     },
     "metadata": {},
     "output_type": "display_data"
    }
   ],
   "source": [
    "plt.figure(1)\n",
    "plt.plot(Zpts[:,1],Yvals,'k.')"
   ]
  },
  {
   "cell_type": "code",
   "execution_count": null,
   "metadata": {},
   "outputs": [],
   "source": []
  }
 ],
 "metadata": {
  "kernelspec": {
   "display_name": "Python 3",
   "language": "python",
   "name": "python3"
  },
  "language_info": {
   "codemirror_mode": {
    "name": "ipython",
    "version": 3
   },
   "file_extension": ".py",
   "mimetype": "text/x-python",
   "name": "python",
   "nbconvert_exporter": "python",
   "pygments_lexer": "ipython3",
   "version": "3.6.4"
  }
 },
 "nbformat": 4,
 "nbformat_minor": 2
}
