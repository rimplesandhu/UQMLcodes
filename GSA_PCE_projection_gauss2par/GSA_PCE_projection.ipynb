{
 "cells": [
  {
   "cell_type": "markdown",
   "metadata": {},
   "source": [
    "### Description: Computes GSA sensitvity indices using PCE surrogate construction using projection (Gaussian Quadrature)\n",
    "#### Author: Rimple Sandhu, Carleton University; Email: rimple_sandhu@outlook.com\n",
    "#### Additional packages required: [UQTk](http://www.sandia.gov/UQToolkit/)"
   ]
  },
  {
   "cell_type": "markdown",
   "metadata": {},
   "source": [
    "<br> This code deals with computing Sobol sensitivity indices using PCE surrogate. The coefficeints of the PCE surrogate are computed using the projection approach. The model considered for this code is:\n",
    "$$Y = a X_1 + b X_2 + c X_1 X_2$$\n",
    "where the input vector is $\\{X_1,X_2\\}$ and parameters $a,b,c$ are some constants. The input vector has the following gaussian probability distribution:\n",
    "$$\\begin{Bmatrix}X_1 \\\\ X_2 \\end{Bmatrix} \\sim N \\left( \\begin{Bmatrix} \\mu_1 \\\\ \\mu_2 \\end{Bmatrix}, \\begin{bmatrix} \\sigma_1^2 & 0\\\\ 0 & \\sigma_2^2 \\end{bmatrix} \\right)$$\n",
    "Analytical results for the SI are available:\n",
    "$$Var(Y)  = a^2\\sigma_1^2 + b^2\\sigma_2^2 + \\frac{c^2}{a^2}\\mu_1^2 \\sigma_2^2 + \\frac{c^2}{b^2}\\mu_2^2 \\sigma_1^2 + c^2\\sigma_1^2 \\sigma_2^2 $$\n",
    "$$SI_1  =  (a^2\\sigma_1^2 + \\frac{c^2}{b^2}\\mu_2^2 \\sigma_1^2)/Var(Y) $$\n",
    "$$SI_2 = (b^2\\sigma_2^2 + \\frac{c^2}{a^2}\\mu_1^2 \\sigma_2^2)/Var(Y)   $$\n",
    "$$SI_{12} = (c^2 \\sigma_1^2 \\sigma_2^2)/Var(Y)$$\n",
    "Possible interesting cases to study:\n",
    "- Base case: a=1,b=1,c=1; $\\sigma_1^2$=1,$\\sigma_2^2$=1\n",
    "- Base case + b = 0.01 (sensitvity of Y to X2 is only through interaction with X1)\n",
    "- Base case + c = 0.01 (Linear model, total SI = First Order SI)\n",
    "- Base case + $\\mu_1$ = 10.0 (Interesting!)"
   ]
  },
  {
   "cell_type": "code",
   "execution_count": 13,
   "metadata": {},
   "outputs": [],
   "source": [
    "#!/usr/bin/python\n",
    "from numpy import *\n",
    "import matplotlib.pyplot as plt\n",
    "import os\n",
    "import math\n",
    "import sys"
   ]
  },
  {
   "cell_type": "markdown",
   "metadata": {},
   "source": [
    "Defines the function and the input distribution for the give case:"
   ]
  },
  {
   "cell_type": "code",
   "execution_count": 3,
   "metadata": {},
   "outputs": [],
   "source": [
    "def Gauss2par(x):\n",
    "    dim = 2\n",
    "    a = 1.0\n",
    "    b = 1.0\n",
    "    c = 1.0\n",
    "    PdfType = ['n','n']\n",
    "    PdfPar =  asarray([[0,1],[0,1]])\n",
    "    var1 = a**2*PdfPar[0,1]\n",
    "    var2 = b**2*PdfPar[1,1]\n",
    "    var12 = c**2*(PdfPar[0,1]*PdfPar[1,1]+PdfPar[0,0]**2*PdfPar[1,1]+PdfPar[1,0]**2*PdfPar[0,1])\n",
    "    SI = zeros((2,dim))\n",
    "    SI[0,0] = var1/(var1+var2+var12) \n",
    "    SI[0,1] = var2/(var1+var2+var12)\n",
    "    SI[1,:] = SI[0,:] + var12/(var1+var2+var12)\n",
    "    label = [r'$X_1$',r'$X_2$']\n",
    "    if isinstance(x,int):\n",
    "        return dim,PdfType,PdfPar,SI,label\n",
    "    else: \n",
    "            return a*x[:,0] + b*x[:,1] + c*x[:,1]*x[:,0]"
   ]
  },
  {
   "cell_type": "markdown",
   "metadata": {},
   "source": [
    "PCE Projection/Quadrature set up (UQTk quadrature type options: 'LU', 'HG', 'CC', 'CCO', 'NC', 'NCO'):"
   ]
  },
  {
   "cell_type": "code",
   "execution_count": 4,
   "metadata": {},
   "outputs": [],
   "source": [
    "f  = Gauss2par # name of model (defined above)\n",
    "PCtype = 'HG' # type of PC basis\n",
    "p  = 2 # order of PCE expansion"
   ]
  },
  {
   "cell_type": "code",
   "execution_count": 5,
   "metadata": {},
   "outputs": [],
   "source": [
    "Qtype  = 'HG' # type of quadrature\n",
    "Qstype = 'full'# sparse or tensor grid\n",
    "Qlvl   = 4 #level of quadrature\n",
    "outLog = ' >> out.log'\n",
    "set_printoptions(precision=3,suppress=True)\n",
    "plotPdf =1"
   ]
  },
  {
   "cell_type": "markdown",
   "metadata": {},
   "source": [
    "Extract model/parameter info and print it:"
   ]
  },
  {
   "cell_type": "code",
   "execution_count": 6,
   "metadata": {},
   "outputs": [
    {
     "name": "stdout",
     "output_type": "stream",
     "text": [
      "Dimension :  2\n",
      "Parameter :  $X_1$ n [0 1]\n",
      "Parameter :  $X_2$ n [0 1]\n"
     ]
    }
   ],
   "source": [
    "d,Xpdftype,Xpdfpar,SI,Xlabel = f(0)\n",
    "SIest = zeros((2,d))\n",
    "SIerr = zeros((2,d))\n",
    "os.system('rm *.dat data/* *.pyc'+outLog)\n",
    "print('Dimension : ', d)\n",
    "for i in range(0,d):\n",
    "    print('Parameter : ', Xlabel[i],Xpdftype[i],Xpdfpar[i,:])"
   ]
  },
  {
   "cell_type": "markdown",
   "metadata": {},
   "source": [
    "Generate quadrature points using UQtk (outputs into a file) and load them, and then convert them into points from given nonstandard distribution:"
   ]
  },
  {
   "cell_type": "code",
   "execution_count": 7,
   "metadata": {},
   "outputs": [],
   "source": [
    "CMD = 'generate_quad -g '+Qtype+' -p '+str(Qlvl)+' -d '+str(d)+' -x '+Qstype\n",
    "os.system(CMD+outLog)\n",
    "Xwts = loadtxt('wghts.dat')\n",
    "Xpts = zeros((len(Xwts),d))\n",
    "Xpts_std = loadtxt('qdpts.dat')"
   ]
  },
  {
   "cell_type": "code",
   "execution_count": 8,
   "metadata": {},
   "outputs": [],
   "source": [
    "for i in range(0,d):\n",
    "    if Xpdftype[i] == 'u':\n",
    "        if d==1:\n",
    "            Xpts[:,i] = 0.5*(Xpdfpar[i,0] + Xpdfpar[i,1]) + 0.5*(Xpdfpar[i,1] - Xpdfpar[i,0])*Xpts_std\n",
    "        else:\n",
    "            Xpts[:,i] = 0.5*(Xpdfpar[i,0] + Xpdfpar[i,1]) + 0.5*(Xpdfpar[i,1] - Xpdfpar[i,0])*Xpts_std[:,i]\n",
    "    elif Xpdftype[i] == 'n':\n",
    "        Xpts[:,i] = Xpdfpar[i,0] + sqrt(Xpdfpar[i,1])*Xpts_std[:,i]\n",
    "Yvals = f(Xpts)\n",
    "savetxt('ydata.dat',Yvals)"
   ]
  },
  {
   "cell_type": "markdown",
   "metadata": {},
   "source": [
    "Computes PCE coefficients, read then from file, compute L2 norm, and print the results:"
   ]
  },
  {
   "cell_type": "code",
   "execution_count": 9,
   "metadata": {},
   "outputs": [],
   "source": [
    "CMD = 'pce_resp -e -x '+PCtype+' -d'+str(d)+' -o'+str(p)\n",
    "os.system(CMD+outLog)\n",
    "PCcoeff = loadtxt('PCcoeff_quad.dat')\n",
    "PCmindex = loadtxt('mindex.dat')\n",
    "Ypc =loadtxt('ydata_pc.dat')\n",
    "L2norm = linalg.norm(multiply(sqrt(Xwts),Yvals - Ypc),2)\n",
    "PCtermsNZ = sum(1 for i in PCcoeff if abs(i) > 1e-05)"
   ]
  },
  {
   "cell_type": "code",
   "execution_count": 10,
   "metadata": {},
   "outputs": [
    {
     "name": "stdout",
     "output_type": "stream",
     "text": [
      "PCE type   :  HG \n",
      "PCE Dim    :  2 \n",
      "PCE Order  :  2 \n",
      "# PCE terms:  6\n",
      "-------------------\n",
      "Quad type  :  HG \n",
      "Sparse grd?:  full \n",
      "Quad Level :  4 \n",
      "#  qpoints :  16\n",
      "-------------------\n",
      "Non-zero PCE coeffs: ( 3 / 6 )\n",
      "    1  :  [1 0]  :     1.000\n",
      "    2  :  [0 1]  :     1.000\n",
      "    4  :  [1 1]  :     1.000\n",
      "-------------------\n",
      "L2 Error   :  3.231571866052598e-15\n"
     ]
    }
   ],
   "source": [
    "print('PCE type   : ',PCtype,'\\nPCE Dim    : ',d,'\\nPCE Order  : ',p,'\\n# PCE terms: ',len(PCcoeff))\n",
    "print('-------------------')\n",
    "print('Quad type  : ',Qtype,'\\nSparse grd?: ',Qstype,'\\nQuad Level : ',Qlvl,'\\n#  qpoints : ',Xpts.shape[0])\n",
    "print('-------------------')\n",
    "print('Non-zero PCE coeffs: (',PCtermsNZ,'/', len(PCcoeff),')')\n",
    "for i,mi in enumerate(PCmindex):\n",
    "    if abs(PCcoeff[i]) > 1e-05:\n",
    "        print('{:5d}'.format(i),' : ', mi.astype(int),' : ', '{:8.3f}'.format(PCcoeff[i]))\n",
    "print('-------------------')\n",
    "print('L2 Error   : ', L2norm)\n",
    "os.system('mv ydata.dat ydata_qdpts.dat')\n",
    "os.system('mv ydata_pc.dat ydata_qdpts_pc.dat');"
   ]
  },
  {
   "cell_type": "markdown",
   "metadata": {},
   "source": [
    "Compute sensitvity indices using PCE coefficients and print the estimated vs analytical SI values:"
   ]
  },
  {
   "cell_type": "code",
   "execution_count": 11,
   "metadata": {},
   "outputs": [
    {
     "name": "stdout",
     "output_type": "stream",
     "text": [
      "\n",
      "S_i  (Ex.):  [0.333 0.333] \n",
      "S_Ti (Ex.):  [0.667 0.667]\n",
      "S_i  (PCE):  [0.333 0.333] \n",
      "S_Ti (PCE):  [0.667 0.667]\n",
      "S_i (err%):  [0. 0.] \n",
      "S_Ti(err%):  [0. 0.]\n"
     ]
    }
   ],
   "source": [
    "if d > 1:\n",
    "    CMD = 'pce_sens -m mindex.dat -f PCcoeff_quad.dat -x'+PCtype\n",
    "    os.system(CMD+outLog)\n",
    "    SIest[0,:] = loadtxt('mainsens.dat')\n",
    "    SIest[1,:] = loadtxt('totsens.dat')\n",
    "    for i in range(0,d):\n",
    "        for ii in range(0,2):\n",
    "            if SI[ii,i] > 1e-02: \n",
    "                SIerr[ii,i] = 100*abs(SIest[ii,i] - SI[ii,i])/SI[ii,i]\n",
    "            else:\n",
    "                SIerr[ii,i] = 0.0 \n",
    "    print('\\nS_i  (Ex.): ', SI[0,:],'\\nS_Ti (Ex.): ', SI[1,:])\n",
    "    print('S_i  (PCE): ', SIest[0,:],'\\nS_Ti (PCE): ', SIest[1,:])\n",
    "    print('S_i (err%): ', SIerr[0,:],'\\nS_Ti(err%): ', SIerr[1,:])"
   ]
  },
  {
   "cell_type": "markdown",
   "metadata": {},
   "source": [
    "Plotting the true vs PCE surrogate pdf of the output Y, this checks for goodness of PCE surrogate, along with L2 error above:  "
   ]
  },
  {
   "cell_type": "code",
   "execution_count": 12,
   "metadata": {},
   "outputs": [
    {
     "data": {
      "image/png": "[encoded data removed]",
      "text/plain": [
       "<matplotlib.figure.Figure at 0x7fa4793490b8>"
      ]
     },
     "metadata": {},
     "output_type": "display_data"
    }
   ],
   "source": [
    "if plotPdf == 1:\n",
    "    M = 100000\n",
    "    Xspls = zeros((M,d))\n",
    "    Xspls_std = zeros((M,d))\n",
    "    for i in range(0,d):\n",
    "        RndSeed = 100+i\n",
    "        if (Xpdftype[i] == 'u'):\n",
    "            CMD1 = 'trdSpls -a -1 -b 1 -n '+str(M)+' -i '+str(RndSeed)+' -f spls.dat -t u'\n",
    "            os.system(CMD1)\n",
    "            Xstd = loadtxt('spls.dat')\n",
    "            Xnew = 0.5*(Xpdfpar[i,0] + Xpdfpar[i,1]) + 0.5*(Xpdfpar[i,1] - Xpdfpar[i,0])*Xstd\n",
    "        elif (Xpdftype[i] == 'n'):\n",
    "            CMD1 = 'trdSpls -a '+str(-100000)+' -b '+str(100000) \\\n",
    "                    +' -m 0 -s 1 -n '+str(M)+' -i '+str(RndSeed)+' -f spls.dat  -t n'\n",
    "            os.system(CMD1)\n",
    "            Xstd = loadtxt('spls.dat')\n",
    "            Xnew = Xpdfpar[i,0] + sqrt(Xpdfpar[i,1])*Xstd\n",
    "        Xspls[:,i] = Xnew\n",
    "        Xspls_std[:,i] = Xstd\n",
    "    os.system('rm spls.dat')\n",
    "    Ymc = f(Xspls)\n",
    "    savetxt('ydata_mc.dat',Ymc)\n",
    "    savetxt('xdata.dat',Xspls_std)\n",
    "    CMD6 = 'pdf_cl -i ydata_mc.dat'\n",
    "    os.system(CMD6)\n",
    "    YmcDens = loadtxt('dens.dat')\n",
    "    CMD7 = 'pce_eval -x PC_mi -f PCcoeff_quad.dat -o '+str(p)+' -s '+PCtype\n",
    "    os.system(CMD7+outLog)\n",
    "    os.system('mv ydata.dat ydata_mc_pc.dat')\n",
    "    CMD8 = 'pdf_cl -i ydata_mc_pc.dat'\n",
    "    os.system(CMD8)\n",
    "    YmcpcDens = loadtxt('dens.dat')\n",
    "    fig = plt.figure(3)\n",
    "    plt.plot(YmcDens[:,0],YmcDens[:,1],'k-',label='True')\n",
    "    plt.plot(YmcpcDens[:,0],YmcpcDens[:,1],'r-',label='PCE surrogate')\n",
    "    plt.grid(True)\n",
    "    plt.legend(loc='best', numpoints = 1)\n",
    "    plt.ylabel('Distribution of Y')\n",
    "    plt.xlabel('Y')\n",
    "    plt.savefig('GSA_PCE_projection_ydens.pdf',bbox_inches='tight')"
   ]
  },
  {
   "cell_type": "code",
   "execution_count": null,
   "metadata": {},
   "outputs": [],
   "source": []
  },
  {
   "cell_type": "code",
   "execution_count": null,
   "metadata": {},
   "outputs": [],
   "source": []
  }
 ],
 "metadata": {
  "kernelspec": {
   "display_name": "Python 3",
   "language": "python",
   "name": "python3"
  },
  "language_info": {
   "codemirror_mode": {
    "name": "ipython",
    "version": 3
   },
   "file_extension": ".py",
   "mimetype": "text/x-python",
   "name": "python",
   "nbconvert_exporter": "python",
   "pygments_lexer": "ipython3",
   "version": "3.6.4"
  }
 },
 "nbformat": 4,
 "nbformat_minor": 2
}
