{
 "cells": [
  {
   "cell_type": "markdown",
   "metadata": {},
   "source": [
    "### Description: Student-t vs Gaussian"
   ]
  },
  {
   "cell_type": "markdown",
   "metadata": {},
   "source": [
    "###### Author: Rimple Sandhu, Carleton University; Email: rimple_sandhu@outlook.com"
   ]
  },
  {
   "cell_type": "code",
   "execution_count": 30,
   "metadata": {},
   "outputs": [],
   "source": [
    "#!/usr/bin/python\n",
    "import numpy as np\n",
    "import scipy.stats as st\n",
    "import scipy.special as sc\n",
    "import matplotlib.pyplot as plt\n",
    "import os\n",
    "import math\n",
    "import sys"
   ]
  },
  {
   "cell_type": "code",
   "execution_count": 39,
   "metadata": {},
   "outputs": [
    {
     "name": "stdout",
     "output_type": "stream",
     "text": [
      "[[0.]\n",
      " [0.]] \n",
      " [[3. 1.]\n",
      " [1. 3.]]\n",
      "[4.]\n"
     ]
    }
   ],
   "source": [
    "df = 5 # degree of freedom\n",
    "mu = np.zeros((2,1)) # location parameter (mean of corrsponding gaussian)\n",
    "sigma = np.identity(2)*3 # scale parameter (standard deviation of corresponding gaussian)\n",
    "sigma[0,1] = 1\n",
    "sigma[1,0] = 1\n",
    "xx = np.ones((2,1))\n",
    "xxd=[1]*2\n",
    "print(mu,'\\n',sigma)\n",
    "print(np.matmul(mud,xx))"
   ]
  },
  {
   "cell_type": "code",
   "execution_count": 40,
   "metadata": {},
   "outputs": [
    {
     "name": "stdout",
     "output_type": "stream",
     "text": [
      "Gaussian:   [[0. 0.]\n",
      " [0. 0.]] [[9. 1.]\n",
      " [1. 9.]]\n",
      "Student-t:  [[0. 0.]\n",
      " [0. 0.]] [[15.          1.66666667]\n",
      " [ 1.66666667 15.        ]]\n"
     ]
    },
    {
     "data": {
      "text/plain": [
       "array([[0.11846134, 0.2196798 ],\n",
       "       [0.2196798 , 0.11846134]])"
      ]
     },
     "execution_count": 40,
     "metadata": {},
     "output_type": "execute_result"
    }
   ],
   "source": [
    "#Xgrid = linspace(mu-6*sigma,mu+6*sigma,100)\n",
    "#Xgrid = linspace(0.01,mu+6*sigma,100)\n",
    "Xtdist = st.t(df,np.transpose(mu),sigma)\n",
    "Xgdist = st.norm(mu,sigma)\n",
    "print('Gaussian:  ',*Xgdist.stats(moments='mv'))\n",
    "print('Student-t: ',*Xtdist.stats(moments='mv'))\n",
    "st.t.pdf(xx,df,mu,sigma)"
   ]
  },
  {
   "cell_type": "code",
   "execution_count": 44,
   "metadata": {},
   "outputs": [],
   "source": [
    "def mymvtdist(x, mu, df, Sigma):\n",
    "    x = np.atleast_2d(x) # requires x as 2d\n",
    "    print(x,mu)\n",
    "    nD = Sigma.shape[0] # dimensionality\n",
    "    numerator = sc.gamma(1.0 * (nD + df) / 2.0)\n",
    "    denominator = (np.exp(sc.gammaln(1.0*df/2.0))*np.power(df*np.pi,1.0*nD/2.0)*\n",
    "                   np.power(np.linalg.det(Sigma),1.0/2.0)*np.power(1.0+(1.0/df)*\n",
    "                   np.diagonal(np.dot(np.dot((x-mu).T,np.linalg.inv(Sigma)),x-mu)),1.0*(nD + df)/2.0))\n",
    "    return 1.0*numerator/denominator"
   ]
  },
  {
   "cell_type": "code",
   "execution_count": 45,
   "metadata": {},
   "outputs": [
    {
     "name": "stdout",
     "output_type": "stream",
     "text": [
      "[[1.]\n",
      " [1.]] [[0.]\n",
      " [0.]]\n"
     ]
    },
    {
     "data": {
      "text/plain": [
       "array([0.04030888])"
      ]
     },
     "execution_count": 45,
     "metadata": {},
     "output_type": "execute_result"
    }
   ],
   "source": [
    "mymvtdist(xx,mu,df,sigma)"
   ]
  },
  {
   "cell_type": "code",
   "execution_count": 43,
   "metadata": {},
   "outputs": [
    {
     "ename": "NameError",
     "evalue": "name 't' is not defined",
     "output_type": "error",
     "traceback": [
      "\u001b[0;31m---------------------------------------------------------------------------\u001b[0m",
      "\u001b[0;31mNameError\u001b[0m                                 Traceback (most recent call last)",
      "\u001b[0;32m<ipython-input-43-d018dc99734c>\u001b[0m in \u001b[0;36m<module>\u001b[0;34m()\u001b[0m\n\u001b[0;32m----> 1\u001b[0;31m \u001b[0mt\u001b[0m\u001b[0;34m.\u001b[0m\u001b[0mpdf\u001b[0m\u001b[0;34m(\u001b[0m\u001b[0;36m5\u001b[0m\u001b[0;34m,\u001b[0m\u001b[0;36m1000\u001b[0m\u001b[0;34m,\u001b[0m\u001b[0;36m5\u001b[0m\u001b[0;34m,\u001b[0m\u001b[0;36m2\u001b[0m\u001b[0;34m)\u001b[0m\u001b[0;34m\u001b[0m\u001b[0m\n\u001b[0m",
      "\u001b[0;31mNameError\u001b[0m: name 't' is not defined"
     ]
    }
   ],
   "source": [
    "t.pdf(5,1000,5,2)"
   ]
  },
  {
   "cell_type": "code",
   "execution_count": null,
   "metadata": {},
   "outputs": [],
   "source": []
  }
 ],
 "metadata": {
  "kernelspec": {
   "display_name": "Python 3",
   "language": "python",
   "name": "python3"
  },
  "language_info": {
   "codemirror_mode": {
    "name": "ipython",
    "version": 3
   },
   "file_extension": ".py",
   "mimetype": "text/x-python",
   "name": "python",
   "nbconvert_exporter": "python",
   "pygments_lexer": "ipython3",
   "version": "3.6.4"
  }
 },
 "nbformat": 4,
 "nbformat_minor": 2
}
