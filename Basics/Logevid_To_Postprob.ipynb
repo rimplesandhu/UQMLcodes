{
 "cells": [
  {
   "cell_type": "markdown",
   "metadata": {},
   "source": [
    "### Description: Compute posterior model probability from log-evidence values"
   ]
  },
  {
   "cell_type": "markdown",
   "metadata": {},
   "source": [
    "###### Author: Rimple Sandhu, Carleton University; Email: rimple_sandhu@outlook.com"
   ]
  },
  {
   "cell_type": "code",
   "execution_count": 1,
   "metadata": {},
   "outputs": [],
   "source": [
    "#!/usr/bin/python\n",
    "from numpy import *\n",
    "from scipy.stats import multivariate_normal\n",
    "import matplotlib.pyplot as plt\n",
    "import os\n",
    "import math\n",
    "import sys"
   ]
  },
  {
   "cell_type": "code",
   "execution_count": 2,
   "metadata": {},
   "outputs": [
    {
     "name": "stdout",
     "output_type": "stream",
     "text": [
      "2.075035936249612e-55\n",
      "0.02209947022499789\n",
      "26.783830276426517\n",
      "32.71384417372118\n",
      "24.235011832435138\n",
      "16.245214247192177\n"
     ]
    }
   ],
   "source": [
    "logevid = [-116.8,5.3,12.4,12.6,12.3,11.9]\n",
    "postprob = 100*exp(logevid)/sum(exp(logevid))\n",
    "print(*postprob,sep='\\n')"
   ]
  },
  {
   "cell_type": "code",
   "execution_count": 3,
   "metadata": {},
   "outputs": [
    {
     "name": "stdout",
     "output_type": "stream",
     "text": [
      "5.6448551787859596e-52\n",
      "2.0063551280661645\n",
      "89.68645073876583\n",
      "7.002867491413187\n",
      "0.7995707217119252\n",
      "0.504755920042908\n"
     ]
    }
   ],
   "source": [
    "logevid = [-119.4,-0.7,3.10,0.55,-1.62,-2.08]\n",
    "postprob = 100*exp(logevid)/sum(exp(logevid))\n",
    "print(*postprob,sep='\\n')"
   ]
  },
  {
   "cell_type": "code",
   "execution_count": 4,
   "metadata": {},
   "outputs": [
    {
     "name": "stdout",
     "output_type": "stream",
     "text": [
      "3.916745596670921e-49\n",
      "40.79630637764185\n",
      "59.062224893322245\n",
      "0.14066016815273572\n",
      "0.0005748459577361532\n",
      "0.000233714925440047\n"
     ]
    }
   ],
   "source": [
    "logevid = [-122.8,-7.63,-7.26,-13.3,-18.8,-19.7]\n",
    "postprob = 100*exp(logevid)/sum(exp(logevid))\n",
    "print(*postprob,sep='\\n')"
   ]
  },
  {
   "cell_type": "code",
   "execution_count": null,
   "metadata": {},
   "outputs": [],
   "source": []
  }
 ],
 "metadata": {
  "kernelspec": {
   "display_name": "Python 3",
   "language": "python",
   "name": "python3"
  },
  "language_info": {
   "codemirror_mode": {
    "name": "ipython",
    "version": 3
   },
   "file_extension": ".py",
   "mimetype": "text/x-python",
   "name": "python",
   "nbconvert_exporter": "python",
   "pygments_lexer": "ipython3",
   "version": "3.6.4"
  }
 },
 "nbformat": 4,
 "nbformat_minor": 2
}
