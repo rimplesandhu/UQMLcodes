{
 "cells": [
  {
   "cell_type": "markdown",
   "metadata": {},
   "source": [
    "### Description: Student-t vs Gaussian"
   ]
  },
  {
   "cell_type": "markdown",
   "metadata": {},
   "source": [
    "###### Author: Rimple Sandhu, Carleton University; Email: rimple_sandhu@outlook.com"
   ]
  },
  {
   "cell_type": "code",
   "execution_count": 1,
   "metadata": {},
   "outputs": [],
   "source": [
    "#!/usr/bin/python\n",
    "from numpy import *\n",
    "from scipy.stats import *\n",
    "import matplotlib.pyplot as plt\n",
    "import os\n",
    "import math\n",
    "import sys"
   ]
  },
  {
   "cell_type": "code",
   "execution_count": 18,
   "metadata": {},
   "outputs": [],
   "source": [
    "df = 50 # degree of freedom\n",
    "mu = 0.0 # location parameter (mean of corrsponding gaussian)\n",
    "sigma = 1.0# scale parameter (standard deviation of corresponding gaussian)"
   ]
  },
  {
   "cell_type": "code",
   "execution_count": 19,
   "metadata": {},
   "outputs": [
    {
     "name": "stdout",
     "output_type": "stream",
     "text": [
      "Gaussian:   0.0 1.0\n",
      "Student-t:  0.0 1.0416666666666667\n",
      "K-L distance:  0.0007339686310045803\n"
     ]
    }
   ],
   "source": [
    "Xgrid = linspace(mu-6*sigma,mu+6*sigma,100)\n",
    "#Xgrid = linspace(0.01,mu+6*sigma,100)\n",
    "Xtdist = t(df,mu,sigma)\n",
    "Xgdist = norm(mu,sigma)\n",
    "Xldist = 1/abs(Xgrid)\n",
    "print('Gaussian:  ',*Xgdist.stats(moments='mv'))\n",
    "print('Student-t: ',*Xtdist.stats(moments='mv'))\n",
    "print('K-L distance: ',entropy(Xtdist.pdf(Xgrid),Xgdist.pdf(Xgrid)))"
   ]
  },
  {
   "cell_type": "code",
   "execution_count": 20,
   "metadata": {},
   "outputs": [
    {
     "data": {
      "text/plain": [
       "<matplotlib.legend.Legend at 0x7fecf19d1a20>"
      ]
     },
     "execution_count": 20,
     "metadata": {},
     "output_type": "execute_result"
    },
    {
     "data": {
      "image/png": "[encoded data removed]",
      "text/plain": [
       "<matplotlib.figure.Figure at 0x7fecf1bcd3c8>"
      ]
     },
     "metadata": {},
     "output_type": "display_data"
    }
   ],
   "source": [
    "fig = plt.figure(1)\n",
    "plt.plot(Xgrid,Xtdist.pdf(Xgrid)/max(Xtdist.pdf(Xgrid)),'b-',label='Student-t')\n",
    "plt.plot(Xgrid,Xgdist.pdf(Xgrid)/max(Xgdist.pdf(Xgrid)),'r-',label='Normal')\n",
    "#plt.plot(Xgrid,Xldist/max(Xldist),'g-',label='1/|x|')\n",
    "plt.grid(True)\n",
    "plt.ylabel('pdf')\n",
    "plt.xlabel('X')\n",
    "plt.legend(loc='best', numpoints = 1)\n",
    "#plt.savefig('PDF_X.pdf',bbox_inches='tight')"
   ]
  },
  {
   "cell_type": "code",
   "execution_count": 5,
   "metadata": {},
   "outputs": [
    {
     "data": {
      "text/plain": [
       "0.19942127865685347"
      ]
     },
     "execution_count": 5,
     "metadata": {},
     "output_type": "execute_result"
    }
   ],
   "source": [
    "t.pdf(5,1000,5,2)"
   ]
  },
  {
   "cell_type": "code",
   "execution_count": null,
   "metadata": {},
   "outputs": [],
   "source": []
  }
 ],
 "metadata": {
  "kernelspec": {
   "display_name": "Python 3",
   "language": "python",
   "name": "python3"
  },
  "language_info": {
   "codemirror_mode": {
    "name": "ipython",
    "version": 3
   },
   "file_extension": ".py",
   "mimetype": "text/x-python",
   "name": "python",
   "nbconvert_exporter": "python",
   "pygments_lexer": "ipython3",
   "version": "3.6.4"
  }
 },
 "nbformat": 4,
 "nbformat_minor": 2
}
