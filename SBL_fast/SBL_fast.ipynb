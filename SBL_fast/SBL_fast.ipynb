{
 "cells": [
  {
   "cell_type": "markdown",
   "metadata": {},
   "source": [
    "### Description: Sparse Bayesian learning\n",
    "#### Assumptions: scalar input, scalar output"
   ]
  },
  {
   "cell_type": "markdown",
   "metadata": {},
   "source": [
    "###### Author: Rimple Sandhu, Carleton University; Email: rimple_sandhu@outlook.com"
   ]
  },
  {
   "cell_type": "code",
   "execution_count": 1,
   "metadata": {},
   "outputs": [],
   "source": [
    "#!/usr/bin/python\n",
    "import numpy as np\n",
    "import scipy.stats as st\n",
    "import matplotlib.pyplot as plt\n",
    "import os, math, sys"
   ]
  },
  {
   "cell_type": "markdown",
   "metadata": {},
   "source": [
    "Assign polynomial basis (polyPower), hyper-parameters a,b,c,d and initial hyperparameter $\\alpha$ and noise precision $\\rho$:"
   ]
  },
  {
   "cell_type": "code",
   "execution_count": 2,
   "metadata": {},
   "outputs": [],
   "source": [
    "poly0 = [0,1,2,3,4,5,6,7,8,9,10] # powers of polynomial basis\n",
    "N = len(poly0) # number of coefficients \n",
    "Wlim = [-5,5]\n",
    "Nsbl = 50"
   ]
  },
  {
   "cell_type": "markdown",
   "metadata": {},
   "source": [
    "Generate design matrix $\\Phi$, and load observations $Y$ and input $X$: "
   ]
  },
  {
   "cell_type": "code",
   "execution_count": 3,
   "metadata": {},
   "outputs": [],
   "source": [
    "def getPhiMat(X,polyPower):\n",
    "    M = len(X)\n",
    "    Phi = np.zeros((M,N))\n",
    "    for i in range(0,M):\n",
    "        for j in range(0,N): Phi[i,j] = X[i]**polyPower[j]\n",
    "    return Phi\n",
    "Yobs = np.loadtxt('Ydata.dat') \n",
    "Xobs = np.loadtxt('Xdata.dat')\n",
    "PhiAll = getPhiMat(Xobs,poly0)\n",
    "M = len(Yobs)"
   ]
  },
  {
   "cell_type": "markdown",
   "metadata": {},
   "source": [
    "Sparse Bayesian leanring through Mackay's algorithm (similar to expectation maximizations):"
   ]
  },
  {
   "cell_type": "code",
   "execution_count": 4,
   "metadata": {},
   "outputs": [],
   "source": [
    "def update_SBL(iAlphaAll,iAlphaProp,iSlopeLogEvid,iCheckQsqS,iKLdist,imall,iRho,iRhoFlag,printFlag):\n",
    "    iN=0\n",
    "    for ii in range(0,N):\n",
    "        if not np.isinf(iAlphaAll[ii,0]): iN = iN + 1 \n",
    "    iAlpha = np.zeros((iN,1))\n",
    "    iPhi  = np.zeros((M,iN))\n",
    "    iParIndex = [int(0)]*iN\n",
    "    ij=0\n",
    "    for ii in range(0,N):\n",
    "        if not np.isinf(iAlphaAll[ii,0]): \n",
    "            iPhi[:,ij] = PhiAll[:,ii]\n",
    "            iParIndex[ij] = ii\n",
    "            iAlpha[ij,0] = iAlphaAll[ii,0]\n",
    "            ij = ij +1\n",
    "    iA    = np.diag(iAlpha[:,0])\n",
    "    iP    = np.linalg.inv(iA + iRho*np.matmul(np.transpose(iPhi),iPhi)) \n",
    "    im    = iRho*np.matmul(iP,np.matmul(np.transpose(iPhi),Yobs))\n",
    "    ij=0\n",
    "    for ii in range(0,N):\n",
    "        if not np.isinf(iAlphaAll[ii,0]): \n",
    "            imall[ii,0] = im[ij]\n",
    "            iKLdist[ii,0] = 0.5*(iAlpha[ij,0]*(iP[ij,ij] + im[ij]**2) - 1 - np.log(iAlpha[ij,0]*(iP[ij,ij])))\n",
    "            ij = ij +1\n",
    "        else:\n",
    "            imall[ii,0] = 0.0\n",
    "            iKLdist[ii,0] = -1\n",
    "    itemp = np.matmul(iPhi,np.matmul(iP,np.transpose(iPhi)))\n",
    "    for j in range(0,N):\n",
    "        iSbar = iRho*np.sum(PhiAll[:,j]**2) - (iRho**2)*np.matmul(np.transpose(PhiAll[:,j]),np.matmul(itemp,PhiAll[:,j])) \n",
    "        iQbar = iRho*np.matmul(np.transpose(PhiAll[:,j]),Yobs) - (iRho**2)*np.matmul(np.transpose(PhiAll[:,j]),np.matmul(itemp,Yobs))\n",
    "        iS    = iSbar/(1-iSbar/iAlphaAll[j,0])\n",
    "        iQ    = iQbar/(1-iSbar/iAlphaAll[j,0])\n",
    "        iSlopeLogEvid[j,0] = ((iS**2)/iAlphaAll[j,0] - iQ**2 + iS)/(2.0*(iAlphaAll[j,0] + iS)**2)\n",
    "        iAlphaProp[j,0] = (iS**2)/(iQ**2 - iS)\n",
    "        iCheckQsqS[j,0] = iQ**2 - iS\n",
    "    iLogEvid = np.log(st.multivariate_normal.pdf(Yobs,[0]*M,np.matmul(iPhi,np.matmul(np.linalg.inv(iA),np.transpose(iPhi))) + np.identity(M)/iRho))\n",
    "    if (iRhoFlag == 1): \n",
    "        iRho = np.divide(M - N + np.dot(np.diag(iP),iAlpha), np.sum((Yobs-np.matmul(iPhi,im))**2)) \n",
    "    if printFlag == 1:\n",
    "        print(\"#basis: {0:3d}, LogEvid : {1:11.2e}, Rho: {2:11.2e}\".format(iN,iLogEvid,iRho[0]))\n",
    "        print('      alpha       mean  slopeEvid     KLdist      Q^2-s')\n",
    "        for i in range(0,N):\n",
    "            print(\"{5:3d}{0:11.2e}{1:11.2e}{2:11.2e}{3:11.2e}{4:11.2e}\".format(iAlphaAll[i,0],imall[i,0],iSlopeLogEvid[i,0],iKLdist[i,0],iCheckQsqS[i,0],i))\n",
    "    return iLogEvid,iRho,iParIndex"
   ]
  },
  {
   "cell_type": "markdown",
   "metadata": {},
   "source": [
    "Run the sparse Bayesain learning loop to obtain optimal hyperparameter:"
   ]
  },
  {
   "cell_type": "code",
   "execution_count": 5,
   "metadata": {},
   "outputs": [
    {
     "name": "stdout",
     "output_type": "stream",
     "text": [
      "Maximum SBL iteration reached!\n",
      "End result:\n",
      " [0, 3, 9] : 179.2424914909327 : [108.24162949]\n",
      "#basis:   3, LogEvid :    1.79e+02, Rho:    1.08e+02\n",
      "      alpha       mean  slopeEvid     KLdist      Q^2-s\n",
      "  0   1.01e+00   9.94e-01   2.05e-11   4.99e+00   4.63e+08\n",
      "  1        inf   0.00e+00   0.00e+00  -1.00e+00  -8.61e+02\n",
      "  2        inf   0.00e+00   0.00e+00  -1.00e+00  -1.22e+03\n",
      "  3   1.04e+00  -9.79e-01  -3.21e-12   3.45e+00   1.04e+06\n",
      "  4        inf   0.00e+00   0.00e+00  -1.00e+00  -1.18e+02\n",
      "  5        inf   0.00e+00   0.00e+00  -1.00e+00  -2.13e+01\n",
      "  6        inf   0.00e+00  -0.00e+00  -1.00e+00   2.92e+02\n",
      "  7        inf   0.00e+00   0.00e+00  -1.00e+00  -1.78e+01\n",
      "  8        inf   0.00e+00  -0.00e+00  -1.00e+00   4.89e+02\n",
      "  9   2.10e+02  -5.16e-02   1.99e-10   4.09e-01   3.36e+02\n",
      " 10        inf   0.00e+00  -0.00e+00  -1.00e+00   6.16e+02\n"
     ]
    }
   ],
   "source": [
    "iterAlpha = np.zeros((N,Nsbl))\n",
    "iterMean = np.zeros((N,Nsbl))\n",
    "iterLogEvid = [0]*Nsbl\n",
    "iterRho = [0]*Nsbl\n",
    "mVec          = np.zeros((N,1))\n",
    "Alpha         = 0.01*np.ones((N,1))\n",
    "AlphaProp     = np.zeros((N,1))\n",
    "KLdist        = 100*np.zeros((N,1))\n",
    "slopeLogEvid  = np.zeros((N,1))\n",
    "checkQsqS     = np.zeros((N,1))\n",
    "maxSBLiter = 50\n",
    "Rho    = 200\n",
    "prevLogEvid = 0.0\n",
    "LogEvid = 0.0\n",
    "tolAlpha = 1e+03\n",
    "tolSlope = 1e-10\n",
    "prevInd = 0\n",
    "curInd = 0\n",
    "curIndList = [0]\n",
    "rhoFlag= 1\n",
    "printFlag = 0\n",
    "convergeFlag = 0\n",
    "i = 0\n",
    "LogEvid, Rho, curIndList = update_SBL(Alpha,AlphaProp,slopeLogEvid,checkQsqS,KLdist,mVec,Rho,rhoFlag,printFlag)\n",
    "while convergeFlag == 0:\n",
    "    if i > N/2-1:\n",
    "        if i%5 ==0:\n",
    "            curInd = np.argmax(slopeLogEvid[:,0])\n",
    "        else:\n",
    "            curInd = np.random.randint(0,N)\n",
    "    else:\n",
    "        curInd = i%N\n",
    "    curInd = np.random.randint(0,N)\n",
    "    if i > Nsbl-2: \n",
    "        convergeFlag = 1\n",
    "        print('Maximum SBL iteration reached!')\n",
    "    prevLogEvid = LogEvid\n",
    "    curAlpha = AlphaProp[curInd,0]\n",
    "    if (checkQsqS[curInd,0] > 0 and curAlpha < tolAlpha):\n",
    "        if  np.isinf(Alpha[curInd,0]): \n",
    "            Alpha[curInd,0] = curAlpha\n",
    "            curText = 'Add    '\n",
    "        else: \n",
    "            Alpha[curInd,0] = curAlpha\n",
    "            curText = 'Update '\n",
    "    else:\n",
    "        if np.isinf(Alpha[curInd,0]): \n",
    "            curText = 'Neglect'\n",
    "        else: \n",
    "            Alpha[curInd,0] = np.inf\n",
    "            curText = 'Remove '\n",
    "    #print(i,'-------Try ',curInd,': ',curText)\n",
    "    LogEvid, Rho, curIndList = update_SBL(Alpha,AlphaProp,slopeLogEvid,checkQsqS,KLdist,mVec,Rho,rhoFlag,printFlag)\n",
    "    prevInd = curInd\n",
    "    iterMean[:,i] = mVec[:,0]\n",
    "    iterAlpha[:,i] = Alpha[:,0]\n",
    "    iterLogEvid[i] = LogEvid\n",
    "    iterRho[i] = Rho\n",
    "    i = i+1\n",
    "Niter = i\n",
    "print('End result:\\n',curIndList,':',LogEvid,':',Rho)\n",
    "LogEvid, Rho, curIndList = update_SBL(Alpha,AlphaProp,slopeLogEvid,checkQsqS,KLdist,mVec,Rho,rhoFlag,1)"
   ]
  },
  {
   "cell_type": "code",
   "execution_count": 6,
   "metadata": {},
   "outputs": [
    {
     "data": {
      "image/png": "[encoded data removed]",
      "text/plain": [
       "<matplotlib.figure.Figure at 0x7ff114248978>"
      ]
     },
     "metadata": {},
     "output_type": "display_data"
    },
    {
     "data": {
      "image/png": "[encoded data removed]",
      "text/plain": [
       "<matplotlib.figure.Figure at 0x7ff1086fe320>"
      ]
     },
     "metadata": {},
     "output_type": "display_data"
    },
    {
     "data": {
      "image/png": "[encoded data removed]",
      "text/plain": [
       "<matplotlib.figure.Figure at 0x7ff1084354e0>"
      ]
     },
     "metadata": {},
     "output_type": "display_data"
    }
   ],
   "source": [
    "plt.figure(1)\n",
    "for i in range(0,N): plt.plot(iterMean[i,:Niter],label=str(i))\n",
    "plt.grid(True)\n",
    "plt.ylabel('Mean')\n",
    "plt.xlabel('SBL iteration'); \n",
    "plt.ylim(Wlim)\n",
    "plt.legend(loc='right', numpoints = 1);\n",
    "plt.savefig('SBL_MEAN.eps',bbox_inches='tight')\n",
    "\n",
    "plt.figure(2)\n",
    "plt.plot(iterLogEvid[:Niter])\n",
    "plt.grid(True)\n",
    "plt.ylabel('Log-evidence')\n",
    "plt.xlabel('SBL iteration'); \n",
    "plt.savefig('SBL_LOGEVID.eps',bbox_inches='tight')\n",
    "\n",
    "plt.figure(3)\n",
    "plt.plot(iterRho[:Niter])\n",
    "plt.grid(True)\n",
    "plt.ylabel('Noise precision')\n",
    "plt.xlabel('SBL iteration'); \n",
    "plt.savefig('SBL_RHO.eps',bbox_inches='tight')\n"
   ]
  },
  {
   "cell_type": "code",
   "execution_count": null,
   "metadata": {},
   "outputs": [],
   "source": []
  },
  {
   "cell_type": "code",
   "execution_count": null,
   "metadata": {},
   "outputs": [],
   "source": []
  },
  {
   "cell_type": "code",
   "execution_count": null,
   "metadata": {},
   "outputs": [],
   "source": []
  }
 ],
 "metadata": {
  "kernelspec": {
   "display_name": "Python 3",
   "language": "python",
   "name": "python3"
  },
  "language_info": {
   "codemirror_mode": {
    "name": "ipython",
    "version": 3
   },
   "file_extension": ".py",
   "mimetype": "text/x-python",
   "name": "python",
   "nbconvert_exporter": "python",
   "pygments_lexer": "ipython3",
   "version": "3.6.4"
  }
 },
 "nbformat": 4,
 "nbformat_minor": 2
}
