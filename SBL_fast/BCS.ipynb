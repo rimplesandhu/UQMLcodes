{
 "cells": [
  {
   "cell_type": "markdown",
   "metadata": {},
   "source": [
    "### Description: Sparse Bayesian learning\n",
    "#### Assumptions: scalar input, scalar output"
   ]
  },
  {
   "cell_type": "markdown",
   "metadata": {},
   "source": [
    "###### Author: Rimple Sandhu, Carleton University; Email: rimple_sandhu@outlook.com"
   ]
  },
  {
   "cell_type": "code",
   "execution_count": 1,
   "metadata": {},
   "outputs": [],
   "source": [
    "#!/usr/bin/python\n",
    "import numpy as np\n",
    "import scipy.stats as st\n",
    "import matplotlib.pyplot as plt\n",
    "import os, math, sys"
   ]
  },
  {
   "cell_type": "markdown",
   "metadata": {},
   "source": [
    "Assign polynomial basis (polyPower), hyper-parameters a,b,c,d and initial hyperparameter $\\alpha$ and noise precision $\\rho$:"
   ]
  },
  {
   "cell_type": "code",
   "execution_count": 2,
   "metadata": {},
   "outputs": [],
   "source": [
    "poly0 = [0,1,2,3,4,5,6] # powers of polynomial basis\n",
    "N = len(poly0) # number of coefficients \n",
    "Wlim = [-5,5]\n",
    "Nsbl = 50"
   ]
  },
  {
   "cell_type": "markdown",
   "metadata": {},
   "source": [
    "Generate design matrix $\\Phi$, and load observations $Y$ and input $X$: "
   ]
  },
  {
   "cell_type": "code",
   "execution_count": 3,
   "metadata": {},
   "outputs": [],
   "source": [
    "def getPhiMat(X,polyPower):\n",
    "    M = len(X)\n",
    "    Phi = np.zeros((M,N))\n",
    "    for i in range(0,M):\n",
    "        for j in range(0,N): Phi[i,j] = X[i]**polyPower[j]\n",
    "    return Phi\n",
    "Yobs = np.loadtxt('Ydata.dat') \n",
    "Xobs = np.loadtxt('Xdata.dat')\n",
    "PhiAll = getPhiMat(Xobs,poly0)\n",
    "M = len(Yobs)"
   ]
  },
  {
   "cell_type": "markdown",
   "metadata": {},
   "source": [
    "Sparse Bayesian leanring through Mackay's algorithm (similar to expectation maximizations):"
   ]
  },
  {
   "cell_type": "code",
   "execution_count": 4,
   "metadata": {},
   "outputs": [],
   "source": [
    "def update_SBL(iGammaAll,iGammaProp,iSlopeLogEvid,iCheckQsqS,iKLdist,imall,iRho,iLambda,iRhoFlag,printFlag):\n",
    "    iN = np.count_nonzero(iGammaAll)\n",
    "    iGamma = np.zeros((iN,1))\n",
    "    iPhi  = np.zeros((M,iN))\n",
    "    iParIndex = [int(0)]*iN\n",
    "    ij=0\n",
    "    for ii in range(0,N):\n",
    "        if iGammaAll[ii,0] > 0.0: \n",
    "            iPhi[:,ij] = PhiAll[:,ii]\n",
    "            iParIndex[ij] = ii\n",
    "            iGamma[ij,0] = iGammaAll[ii,0]\n",
    "            ij = ij +1\n",
    "    iA    = np.diag(np.divide(1,iGamma[:,0]))\n",
    "    iP    = np.linalg.inv(iA + iRho*np.matmul(np.transpose(iPhi),iPhi)) \n",
    "    im    = iRho*np.matmul(iP,np.matmul(np.transpose(iPhi),Yobs))\n",
    "    ij=0\n",
    "    for ii in range(0,N):\n",
    "        if iGammaAll[ii,0] > 0: \n",
    "            imall[ii,0] = im[ij]\n",
    "            iKLdist[ii,0] = 0.5*((iP[ij,ij] + im[ij]**2)/iGamma[ij,0] - 1 - np.log(iP[ij,ij]/iGamma[ij,0]))\n",
    "            ij = ij +1\n",
    "        else:\n",
    "            imall[ii,0] = 0.0\n",
    "            iKLdist[ii,0] = -1\n",
    "    itemp = np.matmul(iPhi,np.matmul(iP,np.transpose(iPhi)))\n",
    "    for j in range(0,N):\n",
    "        iSbar = iRho*np.sum(PhiAll[:,j]**2) - (iRho**2)*np.matmul(np.transpose(PhiAll[:,j]),np.matmul(itemp,PhiAll[:,j])) \n",
    "        iQbar = iRho*np.matmul(np.transpose(PhiAll[:,j]),Yobs) - (iRho**2)*np.matmul(np.transpose(PhiAll[:,j]),np.matmul(itemp,Yobs))\n",
    "        iS    = iSbar/(1-iGammaAll[j,0]*iSbar)\n",
    "        iQ    = iQbar/(1-iGammaAll[j,0]*iSbar)\n",
    "        iSlopeLogEvid[j,0] = ((iGammaAll[j,0]**2)*iLambda*(iS**2) + iGammaAll[j,0]*(iS**2 + 2*iLambda*iS) \\\n",
    "                              + iLambda - iQ**2 + iS)/(-2.0*(1.0 + iS*iGammaAll[j,0])**2)\n",
    "        iGammaProp[j,0] = (-iS*(iS+2*iLambda) + iS*np.power((iS+2*iLambda)**2 - 4*iLambda*(iS-iQ**2+iLambda),0.5))/(2*iLambda*iS**2)\n",
    "        iCheckQsqS[j,0] = iQ**2 - iS\n",
    "    iLogEvid = np.log(st.multivariate_normal.pdf(Yobs,[0]*M,np.matmul(iPhi,np.matmul(np.linalg.inv(iA),np.transpose(iPhi))) + np.identity(M)/iRho))\n",
    "    if (iRhoFlag == 1): \n",
    "        iRho =  (N)/np.sum((Yobs-np.matmul(iPhi,im))**2)\n",
    "    iLambda = (N - 1)/(0.5*np.sum(iGamma))\n",
    "    if printFlag == 1:\n",
    "        print(\"#basis: {0:3d}, LogEvid : {1:11.2e}, Rho: {2:11.2e}, Lambda: {3:11.2e}\".format(iN,iLogEvid,iRho,iLambda))\n",
    "        print('      gamma       mean  slopeEvid     KLdist      Q^2-s')\n",
    "        for i in range(0,N):\n",
    "            print(\"{5:3d}{0:11.2e}{1:11.2e}{2:11.2e}{3:11.2e}{4:11.2e}\".format(iGammaAll[i,0],imall[i,0],iSlopeLogEvid[i,0],iKLdist[i,0],iCheckQsqS[i,0],i))\n",
    "    return iLogEvid,iRho,iParIndex"
   ]
  },
  {
   "cell_type": "markdown",
   "metadata": {},
   "source": [
    "Run the sparse Bayesain learning loop to obtain optimal hyperparameter:"
   ]
  },
  {
   "cell_type": "code",
   "execution_count": 5,
   "metadata": {},
   "outputs": [
    {
     "name": "stdout",
     "output_type": "stream",
     "text": [
      "Maximum SBL iteration reached!\n",
      "End result:\n",
      " [0, 3] : -56.44727660430236 : 3.957166233308489\n",
      "#basis:   2, LogEvid :   -5.64e+01, Rho:    3.96e+00, Lambda:    6.03e+00\n",
      "      gamma       mean  slopeEvid     KLdist      Q^2-s\n",
      "  0   9.86e-01   9.93e-01  -1.63e-11   3.33e+00   6.18e+05\n",
      "  1   0.00e+00   0.00e+00  -2.20e+01  -1.00e+00  -4.41e+01\n",
      "  2   0.00e+00   0.00e+00  -3.51e+01  -1.00e+00  -7.01e+01\n",
      "  3   1.01e+00  -9.99e-01  -9.13e-15   2.39e+00   1.37e+04\n",
      "  4   0.00e+00   0.00e+00  -2.80e+01  -1.00e+00  -5.60e+01\n",
      "  5   0.00e+00   0.00e+00  -1.40e+00  -1.00e+00  -2.79e+00\n",
      "  6   0.00e+00   0.00e+00  -2.25e+01  -1.00e+00  -4.49e+01\n"
     ]
    }
   ],
   "source": [
    "iterGamma = np.zeros((N,Nsbl))\n",
    "iterMean = np.zeros((N,Nsbl))\n",
    "iterLogEvid = [0]*Nsbl\n",
    "iterRho = [0]*Nsbl\n",
    "mVec          = np.zeros((N,1))\n",
    "Gamma         = 100*np.ones((N,1))\n",
    "GammaProp     = np.zeros((N,1))\n",
    "slopeLogEvid  = np.zeros((N,1))\n",
    "KLdist        = 100*np.zeros((N,1))\n",
    "checkQsqS     = np.zeros((N,1))\n",
    "maxSBLiter = 50\n",
    "Rho    = 20\n",
    "Lambda = 0.001\n",
    "prevLogEvid = 0.0\n",
    "LogEvid = 0.0\n",
    "tolGamma = 1e-30\n",
    "tolSlope = 1e-08\n",
    "prevInd = 0\n",
    "curInd = 0\n",
    "curIndList = [0]\n",
    "rhoFlag= 1\n",
    "printFlag = 0\n",
    "convergeFlag = 0\n",
    "i = 0\n",
    "LogEvid, Rho, curIndList = update_SBL(Gamma,GammaProp,slopeLogEvid,checkQsqS,KLdist,mVec,Rho,Lambda,rhoFlag,printFlag)\n",
    "while convergeFlag == 0:\n",
    "    if i > N-1:\n",
    "        if i%3 ==0:\n",
    "            curInd = np.random.randint(0,N)\n",
    "        else:\n",
    "            if max(slopeLogEvid[:,0]) > tolSlope:\n",
    "                curInd = np.argmax(slopeLogEvid[:,0])\n",
    "            #else:\n",
    "                #convergeFlag = 1\n",
    "                #print('Slope is zero for all alpha!')\n",
    "    else:\n",
    "        curInd = i\n",
    "    curInd = np.random.randint(0,N)\n",
    "    if i > Nsbl-2: \n",
    "        convergeFlag = 1\n",
    "        print('Maximum SBL iteration reached!')\n",
    "\n",
    "    prevLogEvid = LogEvid\n",
    "    curGamma = GammaProp[curInd,0]\n",
    "    if (checkQsqS[curInd,0] > Lambda  and curGamma > tolGamma):\n",
    "        if    Gamma[curInd,0] == 0: \n",
    "            Gamma[curInd,0] = curGamma\n",
    "            curText = 'Add    '\n",
    "        else: \n",
    "            Gamma[curInd,0] = curGamma\n",
    "            curText = 'Update '\n",
    "    else:\n",
    "        if Gamma[curInd,0] == 0: \n",
    "            curText = 'Neglect'\n",
    "        else: \n",
    "            Gamma[curInd,0] = 0.0\n",
    "            curText = 'Remove '\n",
    "    #print(i,'-------Try ',curInd,': ',curText)\n",
    "    LogEvid, Rho, curIndList = update_SBL(Gamma,GammaProp,slopeLogEvid,checkQsqS,KLdist,mVec,Rho,Lambda,rhoFlag,printFlag)\n",
    "    prevInd = curInd\n",
    "    iterMean[:,i] = mVec[:,0]\n",
    "    iterGamma[:,i] = Gamma[:,0]\n",
    "    iterLogEvid[i] = LogEvid\n",
    "    iterRho[i] = Rho\n",
    "    i = i+1\n",
    "Niter = i\n",
    "print('End result:\\n',curIndList,':',LogEvid,':',Rho)\n",
    "LogEvid, Rho, curIndList = update_SBL(Gamma,GammaProp,slopeLogEvid,checkQsqS,KLdist,mVec,Rho,Lambda,rhoFlag,1)"
   ]
  },
  {
   "cell_type": "code",
   "execution_count": 6,
   "metadata": {},
   "outputs": [
    {
     "data": {
      "image/png": "[encoded data removed]",
      "text/plain": [
       "<matplotlib.figure.Figure at 0x7fa0a265f7f0>"
      ]
     },
     "metadata": {},
     "output_type": "display_data"
    },
    {
     "data": {
      "image/png": "[encoded data removed]",
      "text/plain": [
       "<matplotlib.figure.Figure at 0x7fa098021518>"
      ]
     },
     "metadata": {},
     "output_type": "display_data"
    },
    {
     "data": {
      "image/png": "[encoded data removed]",
      "text/plain": [
       "<matplotlib.figure.Figure at 0x7fa08a923320>"
      ]
     },
     "metadata": {},
     "output_type": "display_data"
    }
   ],
   "source": [
    "plt.figure(1)\n",
    "for i in range(0,N): plt.plot(iterMean[i,:],label=str(i))\n",
    "plt.grid(True)\n",
    "plt.ylabel('Mean')\n",
    "plt.xlabel('SBL iteration'); \n",
    "plt.ylim(Wlim)\n",
    "plt.legend(loc='right', numpoints = 1);\n",
    "plt.savefig('SBL_MEAN.eps',bbox_inches='tight')\n",
    "\n",
    "plt.figure(2)\n",
    "plt.plot(iterLogEvid)\n",
    "plt.grid(True)\n",
    "plt.ylabel('Log-evidence')\n",
    "plt.xlabel('SBL iteration'); \n",
    "plt.savefig('SBL_LOGEVID.eps',bbox_inches='tight')\n",
    "\n",
    "plt.figure(3)\n",
    "plt.plot(iterRho)\n",
    "plt.grid(True)\n",
    "plt.ylabel('Noise precision')\n",
    "plt.xlabel('SBL iteration'); \n",
    "plt.savefig('SBL_RHO.eps',bbox_inches='tight')\n"
   ]
  },
  {
   "cell_type": "code",
   "execution_count": null,
   "metadata": {},
   "outputs": [],
   "source": []
  },
  {
   "cell_type": "code",
   "execution_count": null,
   "metadata": {},
   "outputs": [],
   "source": []
  },
  {
   "cell_type": "code",
   "execution_count": null,
   "metadata": {},
   "outputs": [],
   "source": []
  }
 ],
 "metadata": {
  "kernelspec": {
   "display_name": "Python 3",
   "language": "python",
   "name": "python3"
  },
  "language_info": {
   "codemirror_mode": {
    "name": "ipython",
    "version": 3
   },
   "file_extension": ".py",
   "mimetype": "text/x-python",
   "name": "python",
   "nbconvert_exporter": "python",
   "pygments_lexer": "ipython3",
   "version": "3.6.4"
  }
 },
 "nbformat": 4,
 "nbformat_minor": 2
}
