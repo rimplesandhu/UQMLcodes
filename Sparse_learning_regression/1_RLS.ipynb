{
 "cells": [
  {
   "cell_type": "markdown",
   "metadata": {},
   "source": [
    "## OLS, LASSO and Ridge regression solution"
   ]
  },
  {
   "cell_type": "markdown",
   "metadata": {},
   "source": [
    "###### Author: Rimple Sandhu, Carleton University; Email: rimple_sandhu@outlook.com"
   ]
  },
  {
   "cell_type": "code",
   "execution_count": 1,
   "metadata": {},
   "outputs": [],
   "source": [
    "#!/usr/bin/python\n",
    "import os, math, sys, random\n",
    "import numpy as np\n",
    "import numpy.linalg as la\n",
    "import matplotlib as mpl\n",
    "import matplotlib.pyplot as plt\n",
    "from scipy.optimize import minimize\n",
    "random.seed(106) # fixing the random seed"
   ]
  },
  {
   "cell_type": "markdown",
   "metadata": {},
   "source": [
    "#### Problem definition"
   ]
  },
  {
   "cell_type": "code",
   "execution_count": 2,
   "metadata": {},
   "outputs": [],
   "source": [
    "polyPower = [0,1,2,3,4,5] # powers of polynomial basis\n",
    "N = len(polyPower) # number of basis\n",
    "def basisFun(Xth,ith): # polynomial basis\n",
    "    return Xth**polyPower[ith]\n",
    "trueKnown =1 # 0 = dont plot true, 1= plot true \n",
    "Wtrue=[0]*N # true parameter definition, for plotting\n",
    "Wtrue[0]=1\n",
    "Wtrue[2]=1 \n",
    "RHOtrue = 100 # true value of error precision"
   ]
  },
  {
   "cell_type": "markdown",
   "metadata": {},
   "source": [
    "#### Load observations and generate design matrix "
   ]
  },
  {
   "cell_type": "code",
   "execution_count": 3,
   "metadata": {},
   "outputs": [],
   "source": [
    "Yobs = np.loadtxt('Ydata.dat') \n",
    "Xobs = np.loadtxt('Xdata.dat')\n",
    "M = len(Yobs)\n",
    "Phi = np.zeros((M,N))\n",
    "for i in range(0,M):\n",
    "    for j in range(0,N):\n",
    "        Phi[i,j] = basisFun(Xobs[i],j)"
   ]
  },
  {
   "cell_type": "markdown",
   "metadata": {},
   "source": [
    "#### Ordinary least square (OLS)"
   ]
  },
  {
   "cell_type": "code",
   "execution_count": 4,
   "metadata": {},
   "outputs": [],
   "source": [
    "PRols = np.matmul(np.transpose(Phi),Phi)\n",
    "Wols = np.matmul(la.inv(PRols),np.matmul(np.transpose(Phi),Yobs))\n",
    "RHOols = (M-N)/np.power(la.norm(Yobs - np.matmul(Phi,Wols),2),2)"
   ]
  },
  {
   "cell_type": "markdown",
   "metadata": {},
   "source": [
    "#### Ridge regression"
   ]
  },
  {
   "cell_type": "code",
   "execution_count": 5,
   "metadata": {},
   "outputs": [],
   "source": [
    "# optimal lambda is obtained from minimum cross-validation error (see below)\n",
    "lamdaRR = 0.001 # Regularization coefficient\n",
    "Mtemp = lamdaRR*np.identity(N)\n",
    "Mtemp[0,0] = 0 # mean parameter w0 not included in regularization\n",
    "PRmod = PRols+Mtemp\n",
    "PRridge = (PRols+Mtemp)*la.inv(PRols)*(PRols+lamdaRR*np.identity(N)) # precision matrix for Wridge, if needed\n",
    "Wridge = np.matmul(la.inv(PRols+Mtemp),np.matmul(np.transpose(Phi),Yobs))\n",
    "RHOridge = (M-N)/np.power(la.norm(Yobs - np.matmul(Phi,Wridge),2),2)"
   ]
  },
  {
   "cell_type": "markdown",
   "metadata": {},
   "source": [
    "#### LASSO"
   ]
  },
  {
   "cell_type": "code",
   "execution_count": 6,
   "metadata": {},
   "outputs": [],
   "source": [
    "# optimal lambda is obtained from minimum cross-validation error (see below)\n",
    "lamdaLR = 0.001  # lambda value for LASSO regression\n",
    "Win = [1e-6]*N # Initial value for optimization\n",
    "Win[0] = 1\n",
    "Win[2] = 1\n",
    "def lassoObj(W):\n",
    "    return np.power(la.norm(Yobs-np.matmul(Phi,W),2),2) + lamdaLR*np.sum(np.absolute(W[1:]))\n",
    "lassoSoln = minimize(lassoObj, Win, method='BFGS',options={'gtol': 1e-10, 'disp': False})\n",
    "Wlasso = lassoSoln.x\n",
    "Nnew = sum(abs(i) < 1e-02 for i in Wlasso)\n",
    "RHOlasso = (M-N+Nnew)/np.power(la.norm(Yobs - np.matmul(Phi,Wlasso),2),2)"
   ]
  },
  {
   "cell_type": "code",
   "execution_count": 7,
   "metadata": {},
   "outputs": [
    {
     "name": "stdout",
     "output_type": "stream",
     "text": [
      "  i           Estimates for w                  | Precision estimate for w  \n",
      "  i    true        ols      lasso      ridge   |    ols       ridge  \n",
      "  0  1.000e+00  1.041e+00  9.485e-01 9.468e-01 |   2.50e+01  4.83e+02\n",
      "  1  0.000e+00 -3.350e+00  5.882e-01 6.165e-01 |   8.51e+00  2.63e+04\n",
      "  2  1.000e+00  2.978e+01 -8.063e-02-1.751e-01 |   5.31e+00  4.37e+05\n",
      "  3  0.000e+00 -8.173e+01 -1.056e-08 6.691e-02 |   3.95e+00  1.62e+06\n",
      "  4  0.000e+00  9.326e+01  7.353e-01 8.053e-01 |   3.19e+00  1.31e+06\n",
      "  5  0.000e+00 -3.698e+01 -8.308e-02-1.533e-01 |   2.72e+00  1.50e+05\n",
      "Rho  1.000e+02  1.084e+02  8.252e+01 7.846e+01 |\n",
      "\n",
      "Cond(Phi^TPhi):            1.10e+07    6/ 6\n",
      "Cond(Phi^TPhi+lambda*I):   4.14e+04    6/ 6\n"
     ]
    }
   ],
   "source": [
    "print('  i           Estimates for w                  | Precision estimate for w  ')\n",
    "print('  i    true        ols      lasso      ridge   |    ols       ridge  ')\n",
    "for i in range(0,N):\n",
    "    print(\"{0:3d}{1:11.3e}{2:11.3e}{3:11.3e}{4:10.3e} | {5:10.2e}{6:10.2e}\".format(\\\n",
    "        int(i), Wtrue[i], Wols[i], Wlasso[i], Wridge[i], PRols[i,i], PRridge[i,i]))\n",
    "print(\"Rho{0:11.3e}{1:11.3e}{2:11.3e}{3:10.3e} |\".format(RHOtrue, RHOols,RHOlasso,RHOridge))\n",
    "print(\"\\nCond(Phi^TPhi):          {0:10.2e}{1:5d}/{2:2d}\".format(la.cond(PRols), la.matrix_rank(PRols),N))\n",
    "print(\"Cond(Phi^TPhi+lambda*I): {0:10.2e}{1:5d}/{2:2d}\".format(la.cond(PRmod), la.matrix_rank(PRmod),N))"
   ]
  },
  {
   "cell_type": "markdown",
   "metadata": {},
   "source": [
    "#### Plot model predictions vs observations"
   ]
  },
  {
   "cell_type": "code",
   "execution_count": 8,
   "metadata": {},
   "outputs": [
    {
     "data": {
      "image/png": "[encoded data removed]",
      "text/plain": [
       "<matplotlib.figure.Figure at 0x7ffa9889d828>"
      ]
     },
     "metadata": {},
     "output_type": "display_data"
    }
   ],
   "source": [
    "mpl.rcParams.update({'font.size':12})\n",
    "Xextra = 0.501 # width for extrapolation\n",
    "Yrnge = [0.5,3] \n",
    "Mnew = 100\n",
    "Xrnge = [min(Xobs)-Xextra,max(Xobs)+Xextra]\n",
    "Xnew = np.linspace(Xrnge[0],Xrnge[1],Mnew)\n",
    "PhiNew = np.zeros((Mnew,N))\n",
    "for i in range(0,Mnew):\n",
    "    for j in range(0,N):\n",
    "        PhiNew[i,j] = basisFun(Xnew[i],j)\n",
    "Yols = np.matmul(PhiNew,Wols)\n",
    "Yridge = np.matmul(PhiNew,Wridge)\n",
    "Ylasso = np.matmul(PhiNew,Wlasso)\n",
    "fig = plt.figure(3)\n",
    "plt.plot(Xobs,Yobs,'r*')\n",
    "if trueKnown ==1:\n",
    "    Ytrue = np.matmul(PhiNew,np.transpose(Wtrue))\n",
    "    plt.plot(Xnew,Ytrue,'r-',label='Truth')\n",
    "plt.plot(Xnew,Yols,'b-',label='OLS')\n",
    "plt.plot(Xnew,Ylasso,'k-',label=r'LASSO; $\\lambda=$'+str(lamdaLR)+'')\n",
    "plt.plot(Xnew,Yridge,'g-',label=r'Ridge; $\\lambda=$'+str(lamdaRR)+'')\n",
    "plt.grid(True)\n",
    "plt.ylabel('y')\n",
    "plt.xlabel('x')\n",
    "plt.ylim([0.8*np.min(Ytrue),1.2*np.max(Ytrue)])\n",
    "plt.ylim(Yrnge)\n",
    "plt.xlim([Xrnge[0],Xrnge[1]])\n",
    "plt.legend(loc='best', numpoints = 1)\n",
    "plt.savefig('figs/1_RLS_pred.eps',bbox_inches='tight')"
   ]
  },
  {
   "cell_type": "markdown",
   "metadata": {},
   "source": [
    "#### K-Fold cross-validation"
   ]
  },
  {
   "cell_type": "code",
   "execution_count": 9,
   "metadata": {},
   "outputs": [],
   "source": [
    "k = 5 # number of groups data is grouped\n",
    "lamdaRange = [-3,1] # 10^ range of lambda variation\n",
    "Niter = 30 # lambda grid length\n",
    "Mbin = int(M/k) # equaly sized groups \n",
    "Ncv = 10 # number of realizations of CV error"
   ]
  },
  {
   "cell_type": "code",
   "execution_count": 10,
   "metadata": {},
   "outputs": [],
   "source": [
    "lamdaIter = np.power(10,np.linspace(lamdaRange[0],lamdaRange[1],Niter))\n",
    "CVerLasso = [0]*Niter\n",
    "CVerRidge = [0]*Niter\n",
    "CVerOls = [0]*Niter\n",
    "for ii in range(0,Ncv):\n",
    "    CVerr1 = [0]*k\n",
    "    CVerr2 = [0]*k\n",
    "    CVerr3 = [0]*k\n",
    "    IndList = list(range(0,M))\n",
    "    Wtemp=[1e-10]*N\n",
    "    random.shuffle(IndList)\n",
    "    for i in range(0,Niter):\n",
    "        lamdai = lamdaIter[i]\n",
    "        for j in range(0,k):\n",
    "            trainList=[]\n",
    "            testList = []\n",
    "            trainList = IndList[0:j*Mbin]\n",
    "            trainList.extend(IndList[(j+1)*Mbin:M])\n",
    "            testList = IndList[j*Mbin:(j+1)*Mbin]\n",
    "            PhiTrain = Phi[trainList,:]\n",
    "            Ytrain = Yobs[trainList]\n",
    "            PhiTest  = Phi[testList,:]\n",
    "            Ytest = Yobs[testList]\n",
    "            PRolsT = np.matmul(np.transpose(PhiTrain),PhiTrain)\n",
    "            Mtemp = lamdai*np.identity(N)\n",
    "            Mtemp[0,0] = 0\n",
    "            Wols = np.matmul(la.inv(PRolsT),np.matmul(np.transpose(PhiTrain),Ytrain))\n",
    "            Wridge = np.matmul(la.inv(PRolsT+Mtemp),np.matmul(np.transpose(PhiTrain),Ytrain))\n",
    "            def lassoObj(W):\n",
    "                return np.power(la.norm(Ytrain-np.matmul(PhiTrain,W),2),2) + lamdai*np.sum(np.absolute(W[1:]))\n",
    "            lassoSoln = minimize(lassoObj, Wtemp, method='Nelder-Mead',options={'xatol': 1e-12, 'fatol': 1e-12, 'disp': False})\n",
    "            CVerr1[j] = np.power(la.norm((Ytest - np.matmul(PhiTest,Wridge)),2),2)\n",
    "            CVerr2[j] = np.power(la.norm((Ytest - np.matmul(PhiTest,lassoSoln.x)),2),2)\n",
    "            CVerr3[j] = np.power(la.norm((Ytest - np.matmul(PhiTest,Wols)),2),2)\n",
    "            Wtemp = lassoSoln.x\n",
    "        CVerLasso[i] = CVerLasso[i] + np.mean(CVerr2)\n",
    "        CVerRidge[i] = CVerRidge[i] + np.mean(CVerr1)\n",
    "        CVerOls[i] = CVerOls[i] + np.mean(CVerr3)\n",
    "CVols = [x/Ncv for x in CVerOls]\n",
    "CVridge = [x/Ncv for x in CVerLasso]\n",
    "CVlasso = [x/Ncv for x in CVerRidge]"
   ]
  },
  {
   "cell_type": "code",
   "execution_count": 11,
   "metadata": {},
   "outputs": [
    {
     "data": {
      "image/png": "[encoded data removed]",
      "text/plain": [
       "<matplotlib.figure.Figure at 0x7ffa984c46a0>"
      ]
     },
     "metadata": {},
     "output_type": "display_data"
    }
   ],
   "source": [
    "mpl.rcParams.update({'font.size':14})\n",
    "fig = plt.figure(1)\n",
    "plt.semilogx(lamdaIter,CVols,'k-',label='OLS')\n",
    "plt.semilogx(lamdaIter,CVridge,'r-',label='LASSO')\n",
    "plt.semilogx(lamdaIter,CVlasso,'b-',label='Ridge')\n",
    "plt.grid(True)\n",
    "plt.ylim([0.05,0.1])\n",
    "#plt.ylim([0.01,0.02])\n",
    "plt.xlim([0.002,5])\n",
    "plt.xlabel(r'$\\lambda$')\n",
    "plt.ylabel('CV error')\n",
    "plt.legend(loc='best', numpoints = 1)\n",
    "plt.savefig('figs/1_RLS_KfoldCV_'+str(k)+'.eps',bbox_inches='tight') "
   ]
  },
  {
   "cell_type": "code",
   "execution_count": null,
   "metadata": {},
   "outputs": [],
   "source": []
  }
 ],
 "metadata": {
  "kernelspec": {
   "display_name": "Python 3",
   "language": "python",
   "name": "python3"
  },
  "language_info": {
   "codemirror_mode": {
    "name": "ipython",
    "version": 3
   },
   "file_extension": ".py",
   "mimetype": "text/x-python",
   "name": "python",
   "nbconvert_exporter": "python",
   "pygments_lexer": "ipython3",
   "version": "3.6.4"
  }
 },
 "nbformat": 4,
 "nbformat_minor": 2
}
