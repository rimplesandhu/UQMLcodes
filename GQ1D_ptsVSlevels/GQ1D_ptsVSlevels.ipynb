{
 "cells": [
  {
   "cell_type": "markdown",
   "metadata": {},
   "source": [
    "### Description: Plots quadrature points vs levels for a given type of 1D quadrature\n",
    "#### Author: Rimple Sandhu, Carleton University; Email: rimple_sandhu@outlook.com\n",
    "#### Additional packages required: [UQTk](www.sandia.gov)"
   ]
  },
  {
   "cell_type": "code",
   "execution_count": 3,
   "metadata": {},
   "outputs": [],
   "source": [
    "#!/usr/bin/python\n",
    "from numpy import *\n",
    "import matplotlib.pyplot as plt\n",
    "import os\n",
    "import math\n",
    "import sys"
   ]
  },
  {
   "cell_type": "markdown",
   "metadata": {},
   "source": [
    "UQTk quadrature setup options:\n",
    "- Qtype = 'LU', 'HG', 'CC', 'CCO', 'NC', 'NCO'\n",
    "- Qstype= 'full', 'sparse'"
   ]
  },
  {
   "cell_type": "code",
   "execution_count": 4,
   "metadata": {},
   "outputs": [],
   "source": [
    "Qdim = 1\n",
    "Qtype='CC'\n",
    "Maxlevel= 5"
   ]
  },
  {
   "cell_type": "markdown",
   "metadata": {},
   "source": [
    "Generate quadratrue points using UQtk (outputs into a file) and load/print them  "
   ]
  },
  {
   "cell_type": "code",
   "execution_count": 5,
   "metadata": {},
   "outputs": [
    {
     "name": "stdout",
     "output_type": "stream",
     "text": [
      "1 3\n",
      "2 5\n",
      "3 9\n",
      "4 17\n",
      "5 33\n"
     ]
    },
    {
     "data": {
      "image/png": "[encoded data removed]",
      "text/plain": [
       "<matplotlib.figure.Figure at 0x7f72315a2ef0>"
      ]
     },
     "metadata": {},
     "output_type": "display_data"
    }
   ],
   "source": [
    "Msize=3\n",
    "fig = plt.figure(1)\n",
    "for i in range(1,Maxlevel+1):\n",
    "    if Qtype == 'CC':\n",
    "        nl = 2**i+1\n",
    "    elif Qtype=='CCO':\n",
    "        nl = 2**i-1\n",
    "    else:\n",
    "        nl = i\n",
    "    CMD = 'generate_quad -d '+str(Qdim)+' -x full -p '+str(nl)+' -g '+Qtype\n",
    "    os.system(CMD)\n",
    "    Qpts = loadtxt('qdpts.dat')\n",
    "    Qwgt = loadtxt('wghts.dat')\n",
    "    print(i,len(Qpts))\n",
    "    plt.plot(Qpts,i*ones(len(Qpts),),'ro',markersize=Msize)\n",
    "    plt.yticks(range(2,Maxlevel+1))\n",
    "    plt.ylabel('Level')\n",
    "    plt.grid('on')\n",
    "    plt.xlabel('Quadrature points')\n",
    "    plt.title('1D '+Qtype+' Quadrature points')"
   ]
  },
  {
   "cell_type": "code",
   "execution_count": 6,
   "metadata": {},
   "outputs": [],
   "source": [
    "fig.savefig('GQ1D_ptsVSlevels.pdf',bbox_inches='tight')"
   ]
  }
 ],
 "metadata": {
  "kernelspec": {
   "display_name": "Python 3",
   "language": "python",
   "name": "python3"
  },
  "language_info": {
   "codemirror_mode": {
    "name": "ipython",
    "version": 3
   },
   "file_extension": ".py",
   "mimetype": "text/x-python",
   "name": "python",
   "nbconvert_exporter": "python",
   "pygments_lexer": "ipython3",
   "version": "3.6.4"
  }
 },
 "nbformat": 4,
 "nbformat_minor": 2
}
