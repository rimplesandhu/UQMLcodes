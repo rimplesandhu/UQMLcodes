{
 "cells": [
  {
   "cell_type": "markdown",
   "metadata": {},
   "source": [
    "### Description: Laplace distribution"
   ]
  },
  {
   "cell_type": "markdown",
   "metadata": {},
   "source": [
    "###### Author: Rimple Sandhu, Carleton University; Email: rimple_sandhu@outlook.com"
   ]
  },
  {
   "cell_type": "code",
   "execution_count": 4,
   "metadata": {},
   "outputs": [],
   "source": [
    "#!/usr/bin/python\n",
    "from numpy import *\n",
    "from scipy.stats import laplace\n",
    "import matplotlib.pyplot as plt\n",
    "import os\n",
    "import math\n",
    "import sys"
   ]
  },
  {
   "cell_type": "code",
   "execution_count": 14,
   "metadata": {},
   "outputs": [],
   "source": [
    "a  = 1e+00 # degree of freedom\n",
    "b  = 2e+00 # location parameter (mean of corrsponding gaussian)"
   ]
  },
  {
   "cell_type": "code",
   "execution_count": 15,
   "metadata": {},
   "outputs": [
    {
     "name": "stdout",
     "output_type": "stream",
     "text": [
      "Gamma:   1.0 8.0\n"
     ]
    }
   ],
   "source": [
    "Xgmdist = laplace(a,b)\n",
    "print('Gamma:  ',*Xgmdist.stats(moments='mv'))"
   ]
  },
  {
   "cell_type": "code",
   "execution_count": 13,
   "metadata": {},
   "outputs": [
    {
     "data": {
      "text/plain": [
       "<matplotlib.legend.Legend at 0x7fc70d32fef0>"
      ]
     },
     "execution_count": 13,
     "metadata": {},
     "output_type": "execute_result"
    },
    {
     "data": {
      "image/png": "[encoded data removed]",
      "text/plain": [
       "<matplotlib.figure.Figure at 0x7fc70d355f98>"
      ]
     },
     "metadata": {},
     "output_type": "display_data"
    }
   ],
   "source": [
    "mu, var = Xgmdist.stats(moments='mv')\n",
    "Xgrid = linspace(mu-6*sqrt(var),mu+6*sqrt(var),100)\n",
    "fig = plt.figure(1)\n",
    "plt.plot(Xgrid,Xgmdist.pdf(Xgrid),'b-',label='Gamma')\n",
    "plt.grid(True)\n",
    "plt.ylabel('pdf')\n",
    "plt.xlabel('X')\n",
    "plt.legend(loc='best', numpoints = 1)\n",
    "#plt.savefig('PDF_X.pdf',bbox_inches='tight')"
   ]
  },
  {
   "cell_type": "code",
   "execution_count": null,
   "metadata": {},
   "outputs": [],
   "source": []
  },
  {
   "cell_type": "code",
   "execution_count": null,
   "metadata": {},
   "outputs": [],
   "source": []
  }
 ],
 "metadata": {
  "kernelspec": {
   "display_name": "Python 3",
   "language": "python",
   "name": "python3"
  },
  "language_info": {
   "codemirror_mode": {
    "name": "ipython",
    "version": 3
   },
   "file_extension": ".py",
   "mimetype": "text/x-python",
   "name": "python",
   "nbconvert_exporter": "python",
   "pygments_lexer": "ipython3",
   "version": "3.6.4"
  }
 },
 "nbformat": 4,
 "nbformat_minor": 2
}
