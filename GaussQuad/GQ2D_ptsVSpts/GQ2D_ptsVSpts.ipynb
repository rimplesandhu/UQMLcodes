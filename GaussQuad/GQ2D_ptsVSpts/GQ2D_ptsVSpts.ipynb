{
 "cells": [
  {
   "cell_type": "markdown",
   "metadata": {},
   "source": [
    "### Description: Plots overlapping 2d quadrature points for two types of quadrature\n",
    "#### Additional packages required: [UQTk](www.sandia.gov)"
   ]
  },
  {
   "cell_type": "markdown",
   "metadata": {},
   "source": [
    "###### Author: Rimple Sandhu, Carleton University; Email: rimple_sandhu@outlook.com"
   ]
  },
  {
   "cell_type": "code",
   "execution_count": 1,
   "metadata": {},
   "outputs": [],
   "source": [
    "#!/usr/bin/python\n",
    "from numpy import *\n",
    "import matplotlib.pyplot as plt\n",
    "import os\n",
    "import math\n",
    "import sys"
   ]
  },
  {
   "cell_type": "markdown",
   "metadata": {},
   "source": [
    "UQTk quadrature type options: 'LU', 'HG', 'CC', 'CCO', 'NC', 'NCO'"
   ]
  },
  {
   "cell_type": "code",
   "execution_count": 2,
   "metadata": {},
   "outputs": [],
   "source": [
    "Qdim = 2\n",
    "Qtype1='LU'\n",
    "Qtype2='LU'\n",
    "Qstype1 = 'sparse'\n",
    "Qstype2 = 'sparse'\n",
    "Qlevel1 = 1\n",
    "Qlevel2 = 3"
   ]
  },
  {
   "cell_type": "markdown",
   "metadata": {},
   "source": [
    "Generate quadratrue points using UQtk (outputs into a file) and load/print the number of points"
   ]
  },
  {
   "cell_type": "code",
   "execution_count": 3,
   "metadata": {},
   "outputs": [
    {
     "name": "stdout",
     "output_type": "stream",
     "text": [
      "5 49\n"
     ]
    }
   ],
   "source": [
    "CMD1 = 'generate_quad -g '+Qtype1+' -p '+str(Qlevel1)+' -d '+str(Qdim)+' -x '+Qstype1\n",
    "CMD2 = 'generate_quad -g '+Qtype2+' -p '+str(Qlevel2)+' -d '+str(Qdim)+' -x '+Qstype2\n",
    "os.system(CMD1)\n",
    "Qpt1 = loadtxt('qdpts.dat')\n",
    "os.system(CMD2)\n",
    "Qpt2 = loadtxt('qdpts.dat')\n",
    "print(len(Qpt1), len(Qpt2))"
   ]
  },
  {
   "cell_type": "code",
   "execution_count": 4,
   "metadata": {},
   "outputs": [
    {
     "data": {
      "image/png": "[encoded data removed]",
      "text/plain": [
       "<matplotlib.figure.Figure at 0x7f6007be3dd8>"
      ]
     },
     "metadata": {},
     "output_type": "display_data"
    }
   ],
   "source": [
    "Msize = 5\n",
    "fig = plt.figure(1)\n",
    "plt.plot(Qpt1[:,0],Qpt1[:,1],'rs',label = Qtype1+', '+Qstype1+', '+str(Qlevel1),markersize=Msize)\n",
    "plt.plot(Qpt2[:,0],Qpt2[:,1],'b*',label = Qtype2+', '+Qstype2+', '+str(Qlevel2),markersize=Msize)\n",
    "plt.grid(True)\n",
    "plt.ylabel('X2')\n",
    "plt.legend(loc='upper right', numpoints = 1)\n",
    "plt.xlabel('X1')\n",
    "plt.savefig('GQ2D_ptsVSpts.pdf',bbox_inches='tight')"
   ]
  },
  {
   "cell_type": "code",
   "execution_count": null,
   "metadata": {},
   "outputs": [],
   "source": []
  },
  {
   "cell_type": "code",
   "execution_count": null,
   "metadata": {},
   "outputs": [],
   "source": []
  }
 ],
 "metadata": {
  "kernelspec": {
   "display_name": "Python 3",
   "language": "python",
   "name": "python3"
  },
  "language_info": {
   "codemirror_mode": {
    "name": "ipython",
    "version": 3
   },
   "file_extension": ".py",
   "mimetype": "text/x-python",
   "name": "python",
   "nbconvert_exporter": "python",
   "pygments_lexer": "ipython3",
   "version": "3.6.4"
  }
 },
 "nbformat": 4,
 "nbformat_minor": 2
}
